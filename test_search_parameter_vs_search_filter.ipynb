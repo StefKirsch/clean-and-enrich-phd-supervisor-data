{
 "cells": [
  {
   "cell_type": "code",
   "execution_count": null,
   "metadata": {},
   "outputs": [],
   "source": [
    "from pyalex import Authors, Works"
   ]
  },
  {
   "cell_type": "markdown",
   "metadata": {},
   "source": [
    "## Check if we can look up alternatives of author's diplay names\n",
    "\n",
    "Open Alex offers both the [search parameter](https://docs.openalex.org/api-entities/authors/search-authors) and the [search filter](https://docs.openalex.org/how-to-use-the-api/get-lists-of-entities/filter-entity-lists) for this. Pyalex supports both, but the search parameter is not really documentented in their [documentation](https://pypi.org/project/pyalex/#description).\n",
    "\n",
    "According to Open Alex, both variants should essentially do the same, so let's test it.\n",
    "\n",
    "First, let's define a couple of variants on how to spell his name."
   ]
  },
  {
   "cell_type": "code",
   "execution_count": null,
   "metadata": {},
   "outputs": [],
   "source": [
    "display_name = \"Carl Sagan\"\n",
    "alternative_display_name = \"Carl Edward Sagan\"\n",
    "lowercase_display_name = display_name.lower()\n",
    "lowercase_alternative_display_name = alternative_display_name.lower()"
   ]
  },
  {
   "cell_type": "markdown",
   "metadata": {},
   "source": [
    "We can see that the `display_name` is the default, where as the `alternative_display_name` is one alternative spelling for him."
   ]
  },
  {
   "cell_type": "code",
   "execution_count": null,
   "metadata": {},
   "outputs": [],
   "source": [
    "print(Authors().search_filter(display_name=display_name).get()[0]['id'])\n",
    "print(Authors().search_filter(display_name=display_name).get()[0]['display_name'])\n",
    "print(Authors().search_filter(display_name=display_name).get()[0]['display_name_alternatives'])"
   ]
  },
  {
   "cell_type": "markdown",
   "metadata": {},
   "source": [
    "However, if we search search for the alternative name with `search_filter()`, we get a different author!"
   ]
  },
  {
   "cell_type": "code",
   "execution_count": null,
   "metadata": {},
   "outputs": [],
   "source": [
    "print(Authors().search_filter(display_name=alternative_display_name).get()[0]['id'])\n",
    "print(Authors().search_filter(display_name=alternative_display_name).get()[0]['display_name'])\n",
    "print(Authors().search_filter(display_name=alternative_display_name).get()[0]['display_name_alternatives'])\n"
   ]
  },
  {
   "cell_type": "markdown",
   "metadata": {},
   "source": [
    "`search_filter()` does not seemt to be case-sensitve though!"
   ]
  },
  {
   "cell_type": "code",
   "execution_count": null,
   "metadata": {},
   "outputs": [],
   "source": [
    "print(Authors().search_filter(display_name=lowercase_display_name).get()[0]['id'])\n",
    "print(Authors().search_filter(display_name=lowercase_display_name).get()[0]['display_name'])\n",
    "print(Authors().search_filter(display_name=lowercase_display_name).get()[0]['display_name_alternatives'])"
   ]
  },
  {
   "cell_type": "markdown",
   "metadata": {},
   "source": [
    "However, with the search parameter, we can search for an alternative display name as expected and documented.\n"
   ]
  },
  {
   "cell_type": "code",
   "execution_count": null,
   "metadata": {},
   "outputs": [],
   "source": [
    "print(f\"Searching for {display_name}\")\n",
    "print(Authors().search(display_name).get()[0]['id'])\n",
    "print(Authors().search(display_name).get()[0]['display_name'])\n",
    "print(Authors().search(display_name).get()[0]['display_name_alternatives'])\n",
    "\n",
    "print(\"\")\n",
    "\n",
    "print(f\"Searching for {alternative_display_name}\")\n",
    "print(Authors().search(alternative_display_name).get()[0]['id'])\n",
    "print(Authors().search(alternative_display_name).get()[0]['display_name'])\n",
    "print(Authors().search(alternative_display_name).get()[0]['display_name_alternatives'])"
   ]
  },
  {
   "cell_type": "markdown",
   "metadata": {},
   "source": [
    "search() is also not case-sensitive, which is nice!"
   ]
  },
  {
   "cell_type": "code",
   "execution_count": null,
   "metadata": {},
   "outputs": [],
   "source": [
    "print(f\"Searching for {lowercase_display_name}\")\n",
    "print(Authors().search(lowercase_display_name).get()[0]['id'])\n",
    "print(Authors().search(lowercase_display_name).get()[0]['display_name'])\n",
    "print(Authors().search(lowercase_display_name).get()[0]['display_name_alternatives'])\n",
    "\n",
    "print(\"\")\n",
    "\n",
    "print(f\"Searching for {lowercase_alternative_display_name}\")\n",
    "print(Authors().search(lowercase_alternative_display_name).get()[0]['id'])\n",
    "print(Authors().search(lowercase_alternative_display_name).get()[0]['display_name'])\n",
    "print(Authors().search(lowercase_alternative_display_name).get()[0]['display_name_alternatives'])"
   ]
  },
  {
   "cell_type": "markdown",
   "metadata": {},
   "source": [
    "Let's double check for an author that we determined at random."
   ]
  },
  {
   "cell_type": "code",
   "execution_count": null,
   "metadata": {},
   "outputs": [],
   "source": [
    "print(Authors()[\"A5086799468'\"]['display_name']) # 'Olga VIZITIU'\n",
    "print(Authors()[\"A5086799468'\"]['display_name_alternatives']) # 'Olga VIZITIU'"
   ]
  },
  {
   "cell_type": "code",
   "execution_count": null,
   "metadata": {},
   "outputs": [],
   "source": [
    "print(f\"Searching for Olga VIZITIU\")\n",
    "print(Authors().search('Olga VIZITIU').get()[0]['id'])\n",
    "print(Authors().search('Olga VIZITIU').get()[0]['display_name'])\n",
    "print(Authors().search('Olga VIZITIU').get()[0]['display_name_alternatives'])\n",
    "\n",
    "print(\"\")\n",
    "\n",
    "print(f\"Searching for Gaţe, O.P.\")\n",
    "print(Authors().search(\"Gaţe, O.P.\").get()[0]['id'])\n",
    "print(Authors().search(\"Gaţe, O.P.\").get()[0]['display_name'])\n",
    "print(Authors().search(\"Gaţe, O.P.\").get()[0]['display_name_alternatives'])"
   ]
  },
  {
   "cell_type": "markdown",
   "metadata": {},
   "source": [
    "We should check if this is an Open Alex problem or a pyalex problem and report it in an issue.\n",
    "\n",
    "How can we get the search query by the way, so we can test what urls we are actually using."
   ]
  },
  {
   "cell_type": "code",
   "execution_count": null,
   "metadata": {},
   "outputs": [],
   "source": [
    "print(f\"Searching for Tamarinde Haven\")\n",
    "\n",
    "author = Authors().search('T. Haven').get()[0]\n",
    "\n",
    "#display_name_author = author['id']\n",
    "\n",
    "print(Authors().search('T. Haven').get()[0]['id'])\n",
    "print(Authors().search('Tamarinde Haven').get()[0]['display_name'])\n",
    "print(Authors().search('Tamarinde Haven').get()[0]['display_name_alternatives'])"
   ]
  },
  {
   "cell_type": "code",
   "execution_count": null,
   "metadata": {},
   "outputs": [],
   "source": [
    "Authors()[\"A5066895944\"]['affiliations']"
   ]
  },
  {
   "cell_type": "code",
   "execution_count": null,
   "metadata": {},
   "outputs": [],
   "source": [
    "Works().search('towards a responsible research climate').get()[0]['authorships']"
   ]
  },
  {
   "cell_type": "code",
   "execution_count": null,
   "metadata": {},
   "outputs": [],
   "source": [
    "print(Authors().search('Afke Ekels').get()[0]['id'])"
   ]
  },
  {
   "cell_type": "code",
   "execution_count": null,
   "metadata": {},
   "outputs": [],
   "source": [
    "Authors()[\"A5064823029\"]['affiliations']"
   ]
  },
  {
   "cell_type": "code",
   "execution_count": null,
   "metadata": {},
   "outputs": [],
   "source": [
    "print(Authors().search('Stefan Kirsch').get())"
   ]
  },
  {
   "cell_type": "markdown",
   "metadata": {},
   "source": [
    "print(Authors().search('Stefan Kirsch').get()['id'])"
   ]
  }
 ],
 "metadata": {
  "language_info": {
   "name": "python"
  }
 },
 "nbformat": 4,
 "nbformat_minor": 2
}
