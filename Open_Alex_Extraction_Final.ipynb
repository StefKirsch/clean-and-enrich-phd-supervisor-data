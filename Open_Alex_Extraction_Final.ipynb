{
 "cells": [
  {
   "cell_type": "code",
   "execution_count": 1,
   "id": "4eb2a6c9",
   "metadata": {
    "executionInfo": {
     "elapsed": 677,
     "status": "ok",
     "timestamp": 1714350003657,
     "user": {
      "displayName": "Ala Bilińska",
      "userId": "15744202938494964459"
     },
     "user_tz": -120
    },
    "id": "4eb2a6c9"
   },
   "outputs": [],
   "source": [
    "from pyalex import Works, Authors, Sources, Institutions, Topics, Publishers, Funders, Concepts\n",
    "import pandas as pd\n",
    "import numpy as np\n",
    "import urllib.parse\n",
    "import re\n",
    "from tqdm import tqdm\n",
    "import matplotlib.pyplot as plt"
   ]
  },
  {
   "cell_type": "code",
   "execution_count": 2,
   "id": "f97d84e3",
   "metadata": {
    "colab": {
     "base_uri": "https://localhost:8080/"
    },
    "executionInfo": {
     "elapsed": 15977,
     "status": "ok",
     "timestamp": 1714349999357,
     "user": {
      "displayName": "Ala Bilińska",
      "userId": "15744202938494964459"
     },
     "user_tz": -120
    },
    "id": "f97d84e3",
    "outputId": "ed71babe-9c6a-4eae-aedf-1c937338741f"
   },
   "outputs": [],
   "source": [
    "# !pip install pyalex # uncomment to install"
   ]
  },
  {
   "cell_type": "code",
   "execution_count": 4,
   "id": "930e1ea4",
   "metadata": {
    "executionInfo": {
     "elapsed": 269,
     "status": "ok",
     "timestamp": 1714350010090,
     "user": {
      "displayName": "Ala Bilińska",
      "userId": "15744202938494964459"
     },
     "user_tz": -120
    },
    "id": "930e1ea4"
   },
   "outputs": [],
   "source": [
    "# ANSI escape codes for colors\n",
    "GREEN = '\\033[92m'\n",
    "RED = '\\033[91m'\n",
    "YELLOW = '\\033[93m'\n",
    "BLUE = '\\033[94m'\n",
    "RESET = '\\033[0m'\n",
    "MAGENTA = '\\033[35m'\n",
    "CYAN = '\\033[36m'"
   ]
  },
  {
   "cell_type": "markdown",
   "id": "009e6413",
   "metadata": {
    "id": "009e6413"
   },
   "source": [
    "## Reading (and sampling) the data"
   ]
  },
  {
   "cell_type": "markdown",
   "id": "345bac40",
   "metadata": {
    "id": "345bac40"
   },
   "source": [
    "`biomedical_data.csv` is a subset of the original dataset containing publications __from the last 5 years__ and from __biomedical institutions only__ - amcpub, lumc, vumc, umcu. It contains 1856 records.\n",
    "\n",
    "In the code the first two contributors are considered (as potential supervisors) - `contributors_lst(df)` takes a specific numer of columns of a `df` - can be changed if needed."
   ]
  },
  {
   "cell_type": "code",
   "execution_count": 185,
   "id": "d2627249",
   "metadata": {
    "executionInfo": {
     "elapsed": 234,
     "status": "ok",
     "timestamp": 1714350167707,
     "user": {
      "displayName": "Ala Bilińska",
      "userId": "15744202938494964459"
     },
     "user_tz": -120
    },
    "id": "d2627249"
   },
   "outputs": [],
   "source": [
    "df = pd.read_csv(\"biomedical_data.csv\")\n",
    "sampled_df = df.sample(n=5, random_state=40)\n",
    "# sampled_df = df"
   ]
  },
  {
   "cell_type": "code",
   "execution_count": 186,
   "id": "d048e5b2",
   "metadata": {
    "executionInfo": {
     "elapsed": 230,
     "status": "ok",
     "timestamp": 1714350179963,
     "user": {
      "displayName": "Ala Bilińska",
      "userId": "15744202938494964459"
     },
     "user_tz": -120
    },
    "id": "d048e5b2"
   },
   "outputs": [],
   "source": [
    "def author_title_pairs_lst(df):\n",
    "    tuples_list = []                                             # create pairs (author, title) for each row of the df\n",
    "    for index, row in df.iterrows():\n",
    "        tuple_values = (row['author_name'], row['title'])\n",
    "        tuples_list.append(tuple_values)\n",
    "    return tuples_list\n",
    "\n",
    "def contributors_lst(df):\n",
    "    contributors_list = []                                       # create lists of contributors for each row of the df\n",
    "    for index, row in df.iloc[:, 7:9].iterrows():\n",
    "        contributors = []\n",
    "        for value in row:\n",
    "            if type(value) != float:\n",
    "                contributors.append(value)\n",
    "        contributors_list.append(contributors)\n",
    "    return contributors_list"
   ]
  },
  {
   "cell_type": "code",
   "execution_count": 187,
   "id": "c408f575",
   "metadata": {
    "executionInfo": {
     "elapsed": 352,
     "status": "ok",
     "timestamp": 1714350181579,
     "user": {
      "displayName": "Ala Bilińska",
      "userId": "15744202938494964459"
     },
     "user_tz": -120
    },
    "id": "c408f575"
   },
   "outputs": [],
   "source": [
    "author_title_pairs = author_title_pairs_lst(sampled_df)\n",
    "contributors_list = contributors_lst(sampled_df)"
   ]
  },
  {
   "cell_type": "markdown",
   "id": "cf9986ca",
   "metadata": {
    "id": "cf9986ca"
   },
   "source": [
    "## Find the author"
   ]
  },
  {
   "cell_type": "markdown",
   "id": "0fb7238d",
   "metadata": {
    "id": "0fb7238d"
   },
   "source": [
    "#### Get pubs from our df"
   ]
  },
  {
   "cell_type": "code",
   "execution_count": 188,
   "id": "b3701e53",
   "metadata": {
    "executionInfo": {
     "elapsed": 272,
     "status": "ok",
     "timestamp": 1714350220976,
     "user": {
      "displayName": "Ala Bilińska",
      "userId": "15744202938494964459"
     },
     "user_tz": -120
    },
    "id": "b3701e53"
   },
   "outputs": [],
   "source": [
    "def get_name(row):                                                     # needs a row of the pubs df\n",
    "    author = author_title_pairs[row][0]\n",
    "    if \",\" not in author:\n",
    "        surname = author.split(\" \")[0]\n",
    "        initials = author.split(\" \")[1].strip()\n",
    "    else:\n",
    "        surname = author.split(\",\")[0]\n",
    "        initials = author.split(\",\")[1].strip()\n",
    "    matched_initials = re.findall(r'\\b[A-Z](?:\\.[A-Z])\\b', initials)   # adding space between initials if there is no\n",
    "    if len(matched_initials)>0 and len(matched_initials[0])>2:         # essential transformation if authors cannot be matched\n",
    "        initials_list = list(initials)                                 # with found title\n",
    "        for initial in initials_list:\n",
    "            if initial == \".\":\n",
    "                initials_list.remove(initial)\n",
    "        name = \"\"\n",
    "        for initial in initials_list:\n",
    "            name += initial + \". \"\n",
    "        name += surname\n",
    "    else:\n",
    "        name = initials + \" \" + surname\n",
    "    return name\n",
    "\n",
    "def get_name_without_spaces(row):                                      # name as it is in the pubs df\n",
    "    author = author_title_pairs[row][0]\n",
    "    if \",\" not in author:\n",
    "        surname = author.split(\" \")[0]\n",
    "        initials = author.split(\" \")[1].strip()\n",
    "    else:\n",
    "        surname = author.split(\",\")[0]\n",
    "        initials = author.split(\",\")[1].strip()\n",
    "    name = initials + \" \" + surname\n",
    "    return name"
   ]
  },
  {
   "cell_type": "code",
   "execution_count": 189,
   "id": "d6abbb7e",
   "metadata": {
    "executionInfo": {
     "elapsed": 298,
     "status": "ok",
     "timestamp": 1714350221921,
     "user": {
      "displayName": "Ala Bilińska",
      "userId": "15744202938494964459"
     },
     "user_tz": -120
    },
    "id": "d6abbb7e"
   },
   "outputs": [],
   "source": [
    "def title_transform(row):\n",
    "    title = author_title_pairs[row][1]\n",
    "    replace_dict = {'&': '', ',': ''}\n",
    "    for k,v in replace_dict.items():\n",
    "        title = title.replace(k,v)\n",
    "    title = urllib.parse.quote(title)\n",
    "    return title"
   ]
  },
  {
   "cell_type": "markdown",
   "id": "54eea96e",
   "metadata": {
    "id": "54eea96e"
   },
   "source": [
    "#### Confirm the author"
   ]
  },
  {
   "cell_type": "markdown",
   "id": "d5c343b6",
   "metadata": {},
   "source": [
    "Create global variables for finding/not finding the author messages"
   ]
  },
  {
   "cell_type": "code",
   "execution_count": 191,
   "id": "043ccd65",
   "metadata": {},
   "outputs": [],
   "source": [
    "found_with_title = 0\n",
    "found_with_title_name_var = 0\n",
    "found_with_str = 0\n",
    "found_with_str_var = 0\n",
    "not_found = 0"
   ]
  },
  {
   "cell_type": "code",
   "execution_count": 192,
   "id": "02257fc0",
   "metadata": {
    "executionInfo": {
     "elapsed": 3,
     "status": "ok",
     "timestamp": 1714350221921,
     "user": {
      "displayName": "Ala Bilińska",
      "userId": "15744202938494964459"
     },
     "user_tz": -120
    },
    "id": "02257fc0"
   },
   "outputs": [],
   "source": [
    "def confirm_author(row):                                                 # match to existing work, if not found, search by name\n",
    "\n",
    "    author_id = ''\n",
    "\n",
    "    try:\n",
    "        query = Works().search_filter(title=title_transform(row)).get()\n",
    "\n",
    "        if query == []:\n",
    "            return \"Title not matched\"    # based on name\n",
    "\n",
    "        print(f'{len(query)} match(es) for the title found')\n",
    "        for response in query:\n",
    "            found = False\n",
    "            if response[\"authorships\"] == []:\n",
    "                print(\"No record of author for this title\")\n",
    "            for author in response[\"authorships\"]:\n",
    "                if author[\"author\"][\"display_name\"] == get_name(row):    # first try matching on \"raw\" name\n",
    "                    print(MAGENTA + \"PhD candidate found! - {}\".format(get_name(row)) + RESET)\n",
    "                    global found_with_title\n",
    "                    found_with_title += 1\n",
    "                    author_id = author[\"author\"][\"id\"]\n",
    "                    found = True\n",
    "                if found == False:                                       # raw name matches based on the exact same string\n",
    "                    global found_with_title_name_var\n",
    "                    q = Authors()[author[\"author\"][\"id\"]]                # if not found check with ID\n",
    "                    if (q[\"display_name\"] == get_name(row) or get_name(row) in q[\"display_name_alternatives\"]) or (q[\"display_name\"] == get_name_without_spaces(row) or get_name_without_spaces(row) in q[\"display_name_alternatives\"]):\n",
    "                        print(YELLOW + \"PhD candidate found! - {}\".format(get_name(row)) + RESET)\n",
    "                        found_with_title_name_var += 1\n",
    "                        author_id = author[\"author\"][\"id\"]\n",
    "                        found = True\n",
    "                    if (q[\"display_name\"].lower() == get_name(row).lower() or q[\"display_name\"].lower() == get_name_without_spaces(row).lower()):\n",
    "                        print(YELLOW + \"PhD candidate found! - {}\".format(get_name(row)) + RESET)\n",
    "                        found_with_title_name_var += 1\n",
    "                        author_id = author[\"author\"][\"id\"]\n",
    "                        found = True\n",
    "                    if q[\"display_name_alternatives\"] != []:\n",
    "                        for n in q[\"display_name_alternatives\"]:\n",
    "                            if (n.lower() == get_name(row).lower() or n.lower() == get_name_without_spaces(row).lower()):\n",
    "                                print(YELLOW + \"PhD candidate found! - {}\".format(get_name(row)) + RESET)\n",
    "                                found_with_title_name_var += 1\n",
    "                                author_id = author[\"author\"][\"id\"]\n",
    "                                found = True\n",
    "                    if found == False:\n",
    "                        print(\"Could not match {} to {}\".format(get_name(row), q[\"display_name_alternatives\"]))\n",
    "                if found:\n",
    "                    break\n",
    "            if found:\n",
    "                break\n",
    "\n",
    "\n",
    "    except Exception as e:\n",
    "        print(\"An unexpected error occurred:\", e)\n",
    "\n",
    "\n",
    "    if author_id != '':\n",
    "        return author_id\n",
    "    if author_id == None:\n",
    "        return \"Confirming author not successful\"\n",
    "    else:\n",
    "        return \"Confirming author not successful\""
   ]
  },
  {
   "cell_type": "code",
   "execution_count": 193,
   "id": "5597de30",
   "metadata": {
    "executionInfo": {
     "elapsed": 309,
     "status": "ok",
     "timestamp": 1714350222523,
     "user": {
      "displayName": "Ala Bilińska",
      "userId": "15744202938494964459"
     },
     "user_tz": -120
    },
    "id": "5597de30"
   },
   "outputs": [],
   "source": [
    "def title_DOI(row, confirmed_id):                                         # returns DOI of the title if the author is matched\n",
    "                                                                          # based on that title\n",
    "    DOIs = []\n",
    "\n",
    "    if confirmed_id not in [\"Confirming author not successful\", \"Title not matched\"]:\n",
    "        query = Works().search_filter(title=title_transform(row)).get()\n",
    "        for response in query:\n",
    "            DOIs.append(response[\"doi\"])\n",
    "\n",
    "    return DOIs"
   ]
  },
  {
   "cell_type": "code",
   "execution_count": 194,
   "id": "d99880ef",
   "metadata": {
    "executionInfo": {
     "elapsed": 220,
     "status": "ok",
     "timestamp": 1714352126309,
     "user": {
      "displayName": "Ala Bilińska",
      "userId": "15744202938494964459"
     },
     "user_tz": -120
    },
    "id": "d99880ef"
   },
   "outputs": [],
   "source": [
    "def get_author_id(row):                                                   # returns final author ID\n",
    "\n",
    "    confirmed_id = confirm_author(row)\n",
    "\n",
    "    if confirmed_id not in [\"Confirming author not successful\", \"Title not matched\"]:\n",
    "        return confirmed_id\n",
    "\n",
    "    query = Authors().search_filter(display_name=get_name(row)).get()\n",
    "\n",
    "    if query == []:\n",
    "        query = Authors().search_filter(display_name=get_name_without_spaces(row)).get()\n",
    "\n",
    "    end_message = confirmed_id\n",
    "    confirmed_id = ''\n",
    "\n",
    "    print(\"{} match(es) for the author found\".format(len(query)))\n",
    "    for response in query:\n",
    "        global found_with_str\n",
    "        global found_with_str_var\n",
    "        found = False\n",
    "        if (response[\"display_name\"] == get_name(row) or get_name(row) in response[\"display_name_alternatives\"]) or (response[\"display_name\"] == get_name_without_spaces(row) or get_name_without_spaces(row) in response[\"display_name_alternatives\"]):\n",
    "            print(BLUE + \"PhD candidate found! - {}\".format(get_name(row)) + RESET)\n",
    "            found_with_str += 1\n",
    "            confirmed_id = response[\"id\"]\n",
    "            found = True\n",
    "        else:                                                               # many other cases ! - DOUBLE SURNAMES - NOT CLEAR WAY TO HANDLE (193 on rs 42)\n",
    "            if get_name(row).lower() == response[\"display_name\"].lower():\n",
    "                print(CYAN + \"PhD candidate found! - {}\".format(get_name(row)) + RESET)\n",
    "                found_with_str_var += 1\n",
    "                confirmed_id = response[\"id\"]\n",
    "                found = True\n",
    "            normalized_name1 = ' '.join(sorted(get_name(row).split()))\n",
    "            normalized_name2 = ' '.join(sorted(response[\"display_name\"].split()))\n",
    "            if normalized_name1 == normalized_name2:\n",
    "                print(CYAN + \"PhD candidate found! - {}\".format(get_name(row)) + RESET)\n",
    "                found_with_str_var += 1\n",
    "                confirmed_id = response[\"id\"]\n",
    "                found = True\n",
    "        if found:\n",
    "            break\n",
    "\n",
    "    if confirmed_id != '':\n",
    "        return confirmed_id\n",
    "    else:\n",
    "        global not_found\n",
    "        not_found += 1\n",
    "        return \"PhD candidate (probably) not in Open Alex database\"                 # OR AUTHOR NOT MATCHED !"
   ]
  },
  {
   "cell_type": "markdown",
   "id": "2721c817",
   "metadata": {
    "id": "2721c817"
   },
   "source": [
    "Output colors:\n",
    "\n",
    "__Magenta__ - author found in OpenAlex authors based on matched title\n",
    "\n",
    "__Yellow__ - author found in OpenAlex authors based on matched title, for alternative version of author's name\n",
    "\n",
    "__Blue__ - author found in OpenAlex authors\n",
    "\n",
    "__Cyan__ - alternative version of author's name (likely the author) found in OpenAlex authors"
   ]
  },
  {
   "cell_type": "markdown",
   "id": "7ccae144",
   "metadata": {
    "id": "7ccae144"
   },
   "source": [
    "## Get DOIs for the author"
   ]
  },
  {
   "cell_type": "markdown",
   "id": "8de98dec",
   "metadata": {
    "id": "8de98dec"
   },
   "source": [
    "Not every work in Open Alex has a DOI, thus the returned list of DOIs may be shorter than the number of papers where the author was the first author. The DOI of the work that is already in pubs dataframe is also not included in the list - __only new DOIs are returned__."
   ]
  },
  {
   "cell_type": "code",
   "execution_count": 195,
   "id": "19b887eb",
   "metadata": {
    "executionInfo": {
     "elapsed": 379,
     "status": "ok",
     "timestamp": 1714352133371,
     "user": {
      "displayName": "Ala Bilińska",
      "userId": "15744202938494964459"
     },
     "user_tz": -120
    },
    "id": "19b887eb"
   },
   "outputs": [],
   "source": [
    "def author_DOIs(row):\n",
    "\n",
    "    author_id = get_author_id(row)\n",
    "    if author_id == \"PhD candidate (probably) not in Open Alex database\":\n",
    "        print(RED + \"Cannot be resolved\" + RESET)\n",
    "        return author_id\n",
    "    initial_doi = title_DOI(row, author_id)\n",
    "\n",
    "    result = Works().filter(authorships={\"author\": {\"id\": author_id}}).get()\n",
    "    print(\"Number of papers where the author was credited: {}\".format(len(result)))\n",
    "\n",
    "    DOIs = []\n",
    "\n",
    "    i = 0\n",
    "    for w in result:\n",
    "        if w[\"authorships\"][0][\"author\"][\"id\"] == author_id:\n",
    "            i += 1\n",
    "            if w[\"doi\"] != None and w[\"doi\"] not in initial_doi:\n",
    "                DOIs.append(w[\"doi\"])\n",
    "\n",
    "    print(\"Number of papers where the PhD candidate was the first author: {}\".format(i))\n",
    "\n",
    "    if DOIs == []:\n",
    "        return \"No DOIs for the PhD candidate found\"\n",
    "    else:\n",
    "        return DOIs"
   ]
  },
  {
   "cell_type": "code",
   "execution_count": 196,
   "id": "841bd48f",
   "metadata": {
    "colab": {
     "base_uri": "https://localhost:8080/"
    },
    "executionInfo": {
     "elapsed": 30830,
     "status": "ok",
     "timestamp": 1714350254856,
     "user": {
      "displayName": "Ala Bilińska",
      "userId": "15744202938494964459"
     },
     "user_tz": -120
    },
    "id": "841bd48f",
    "outputId": "68612258-1ec7-4b95-c350-5590ce99a2f7"
   },
   "outputs": [],
   "source": [
    "# author_DOIs(1)"
   ]
  },
  {
   "cell_type": "markdown",
   "id": "f2567325",
   "metadata": {
    "id": "f2567325"
   },
   "source": [
    "## Get DOIs for the contributors"
   ]
  },
  {
   "cell_type": "markdown",
   "id": "b77398bb",
   "metadata": {
    "id": "b77398bb"
   },
   "source": [
    "#### Transform contributors' names"
   ]
  },
  {
   "cell_type": "code",
   "execution_count": 197,
   "id": "581d6532",
   "metadata": {
    "executionInfo": {
     "elapsed": 26,
     "status": "ok",
     "timestamp": 1714350254857,
     "user": {
      "displayName": "Ala Bilińska",
      "userId": "15744202938494964459"
     },
     "user_tz": -120
    },
    "id": "581d6532"
   },
   "outputs": [],
   "source": [
    "def contributors_transformed(row):                                             # with space\n",
    "\n",
    "    contributors = contributors_list[row]\n",
    "    transformed_names = []\n",
    "\n",
    "    for contribtor in contributors:\n",
    "        surname = contribtor.split(\",\")[0]\n",
    "        initials = contribtor.split(\",\")[1].strip()\n",
    "        matched_initials = re.findall(r'\\b[A-Z](?:\\.[A-Z])\\b', initials)\n",
    "        if len(matched_initials)>0 and len(matched_initials[0])>2:\n",
    "            initials_list = list(initials)\n",
    "            for initial in initials_list:\n",
    "                if initial == \".\":\n",
    "                    initials_list.remove(initial)\n",
    "            name = \"\"\n",
    "            for initial in initials_list:\n",
    "                name += initial + \". \"\n",
    "            name += surname\n",
    "        else:\n",
    "            name = initials + \" \" + surname\n",
    "        transformed_names.append(name)\n",
    "\n",
    "    return transformed_names\n",
    "\n",
    "def contributors_original(row):                                                # as originally in the data\n",
    "                                                                               # will be used when the transformed names won't\n",
    "    contributors = contributors_list[row]                                      # match\n",
    "    transformed_names = []\n",
    "\n",
    "    for contribtor in contributors:\n",
    "        surname = contribtor.split(\",\")[0]\n",
    "        initials = contribtor.split(\",\")[1].strip()\n",
    "        name = initials + \" \" + surname\n",
    "        transformed_names.append(name)\n",
    "\n",
    "    return transformed_names"
   ]
  },
  {
   "cell_type": "markdown",
   "id": "627f6e68",
   "metadata": {
    "id": "627f6e68"
   },
   "source": [
    "#### Find contributors (get IDs)"
   ]
  },
  {
   "cell_type": "markdown",
   "id": "452029fb",
   "metadata": {},
   "source": [
    "Create global variables for finding/not finding the author messages"
   ]
  },
  {
   "cell_type": "code",
   "execution_count": 198,
   "id": "188ff9a1",
   "metadata": {},
   "outputs": [],
   "source": [
    "contributor_found_with_str = 0\n",
    "contributor_found_with_str_var = 0\n",
    "contributor_manual_check = 0\n",
    "contributor_not_found = 0"
   ]
  },
  {
   "cell_type": "code",
   "execution_count": 199,
   "id": "8c8b7132",
   "metadata": {
    "executionInfo": {
     "elapsed": 25,
     "status": "ok",
     "timestamp": 1714350254858,
     "user": {
      "displayName": "Ala Bilińska",
      "userId": "15744202938494964459"
     },
     "user_tz": -120
    },
    "id": "8c8b7132"
   },
   "outputs": [],
   "source": [
    "def get_contributors_ids(row):                                                 # returns a list of tuples of contributors and\n",
    "                                                                               # their corresponding confirmed ids\n",
    "    contributors = contributors_transformed(row)\n",
    "    original_contributors = contributors_original(row)\n",
    "    contributors_ids = []\n",
    "\n",
    "    for contributor, og_contributor in zip(contributors, original_contributors):\n",
    "        global contributor_found_with_str\n",
    "        global contributor_found_with_str_var\n",
    "        global contributor_manual_check\n",
    "        global contributor_not_found\n",
    "        manual = 0\n",
    "        cont_not_found = 0\n",
    "        print(\"Matching {}...\".format(contributor))\n",
    "        found = False\n",
    "        response_list = []\n",
    "        query = Authors().search_filter(display_name=contributor).get()        # 2 queries everytime could be too comp expens.\n",
    "        if query == []:                                                        # check the difference?\n",
    "            query = Authors().search_filter(display_name=og_contributor).get()\n",
    "        if query == []:\n",
    "            print(RED + \"        Cannot be resolved: \" + RESET + \"Could not find the author {}\".format(contributor))\n",
    "            cont_not_found = 1\n",
    "        else:\n",
    "            print(\"        Found {} matches for {}\".format(len(query), contributor))\n",
    "            for i, response in enumerate(query):\n",
    "                print(\"          {}:\".format(i+1))\n",
    "                if (response[\"display_name\"] == contributor or contributor in response[\"display_name_alternatives\"]) or (response[\"display_name\"] == og_contributor or og_contributor in response[\"display_name_alternatives\"]):\n",
    "                    print(BLUE + \"            Contributor found! - {}\".format(contributor) + RESET)\n",
    "                    manual = 0\n",
    "                    cont_not_found = 0\n",
    "                    contributor_found_with_str += 1\n",
    "                    contributors_ids.append((contributor, response[\"id\"]))\n",
    "                    found = True\n",
    "                else:\n",
    "                    if contributor.lower() == response[\"display_name\"].lower():\n",
    "                        print(CYAN + \"            Contributor found! - {}\".format(contributor) + RESET)\n",
    "                        manual = 0\n",
    "                        cont_not_found = 0\n",
    "                        contributor_found_with_str_var += 1\n",
    "                        contributors_ids.append((contributor, response[\"id\"]))\n",
    "                        found = True\n",
    "                if found == False:\n",
    "                    if response[\"affiliations\"] == []:\n",
    "                        print(RED + \"            No affiliations with institutions - unable to match\" + RESET)\n",
    "                        cont_not_found = 1\n",
    "                    else:\n",
    "                        for institution in response[\"affiliations\"]:\n",
    "                            if institution[\"institution\"][\"country_code\"] == \"NL\":\n",
    "                                print(\"            {} associated with {}, NL\".format(response[\"display_name\"], institution[\"institution\"][\"display_name\"]))\n",
    "                                print(\"            {} maybe associated with {}\".format(contributor, response[\"display_name\"]))\n",
    "                                print(MAGENTA + \"            Requires manual check to confirm\" + RESET)\n",
    "                                manual = 1\n",
    "                                if (\"MANUAL CHECK: if {} (target) is {} (found)\".format(contributor, response[\"display_name\"]), response[\"id\"]) not in contributors_ids:\n",
    "                                    response_list.append((\"MANUAL CHECK: if {} (target) is {} (found)\".format(contributor, response[\"display_name\"]), response[\"id\"]))\n",
    "                            else:\n",
    "                                print(RED + \"            No NL institution - unlikely to be the match\" + RESET)\n",
    "                                cont_not_found = 1\n",
    "                if found:\n",
    "                    break\n",
    "                if i == len(query)-1:\n",
    "                    contributors_ids.extend(response_list)\n",
    "            if manual == 1:\n",
    "                contributor_manual_check += 1\n",
    "            if cont_not_found == 1:\n",
    "                contributor_not_found += 1\n",
    "\n",
    "    if contributors_ids == []:\n",
    "        return \"None of the contributors is in Open Alex database\"\n",
    "    else:\n",
    "        return contributors_ids"
   ]
  },
  {
   "cell_type": "markdown",
   "id": "49e0d1d9",
   "metadata": {
    "id": "49e0d1d9"
   },
   "source": [
    "### Get DOIs"
   ]
  },
  {
   "cell_type": "code",
   "execution_count": 200,
   "id": "6b985d0d",
   "metadata": {
    "executionInfo": {
     "elapsed": 25,
     "status": "ok",
     "timestamp": 1714350254859,
     "user": {
      "displayName": "Ala Bilińska",
      "userId": "15744202938494964459"
     },
     "user_tz": -120
    },
    "id": "6b985d0d"
   },
   "outputs": [],
   "source": [
    "def contributors_DOIs(row):\n",
    "\n",
    "    ids_list = get_contributors_ids(row)\n",
    "    confirmed = []\n",
    "    manual_check = []\n",
    "\n",
    "    for pair in ids_list:\n",
    "        if \"MANUAL CHECK\" in pair[0]:\n",
    "            if pair not in manual_check:\n",
    "                manual_check.append(pair)\n",
    "        else:\n",
    "            confirmed.append(pair)\n",
    "\n",
    "    if ids_list == \"None of the contributors is in Open Alex database\":\n",
    "        return ids_list\n",
    "\n",
    "\n",
    "    DOIs_dict = {}\n",
    "\n",
    "    for author in confirmed:\n",
    "        author_id = author[1]\n",
    "        result = Works().filter(authorships={\"author\": {\"id\": author_id}}).get()\n",
    "        print()\n",
    "        print(\"Searching works for {}...\".format(author[0]))\n",
    "        print(\"        Number of papers where the contributor was credited as an author: {}\".format(len(result)))\n",
    "\n",
    "        DOIs = []\n",
    "\n",
    "        i = 0\n",
    "        for w in result:\n",
    "            if w[\"authorships\"][0][\"author\"][\"id\"] == author_id:\n",
    "                i += 1\n",
    "                if w[\"doi\"] != None:\n",
    "                    DOIs.append(w[\"doi\"])\n",
    "\n",
    "        print(\"        Number of papers where the contributor was the first author: {}\".format(i))\n",
    "\n",
    "        if author[0] not in DOIs_dict:\n",
    "            DOIs_dict[author[0]] = DOIs\n",
    "\n",
    "    for author in manual_check:\n",
    "        author_id = author[1]\n",
    "        extract_name = re.search(r'if\\s+(.*?)\\s+is', author[0])\n",
    "        name = extract_name.group(1)\n",
    "        result = Works().filter(authorships={\"author\": {\"id\": author_id}}).get()\n",
    "        print()\n",
    "        print(\"Searching works for {}... - NOT CONFIRMED\".format(name))\n",
    "        print(\"        Number of papers where the contributor was credited as an author: {}\".format(len(result)))\n",
    "\n",
    "        DOIs = []\n",
    "\n",
    "        i = 0\n",
    "        for w in result:\n",
    "            if w[\"authorships\"][0][\"author\"][\"id\"] == author_id:\n",
    "                i += 1\n",
    "                if w[\"doi\"] != None:\n",
    "                    DOIs.append(w[\"doi\"])\n",
    "\n",
    "        print(\"        Number of papers where the contributor was the first author: {}\".format(i))\n",
    "\n",
    "        name = name + \" - NOT CONFIRMED\"\n",
    "        if name not in DOIs_dict:\n",
    "            DOIs_dict[name] = DOIs\n",
    "\n",
    "\n",
    "    if DOIs_dict == {}:\n",
    "        return \"No DOIs for the associated contributors found\"\n",
    "\n",
    "    got_dois = False\n",
    "    for value in DOIs_dict.values():\n",
    "        if value != []:\n",
    "            got_dois = True\n",
    "    if got_dois:\n",
    "        return DOIs_dict\n",
    "    else:\n",
    "        return \"No DOIs for the associated contributors found\""
   ]
  },
  {
   "cell_type": "code",
   "execution_count": 201,
   "id": "5559d42b",
   "metadata": {
    "colab": {
     "base_uri": "https://localhost:8080/",
     "height": 278
    },
    "executionInfo": {
     "elapsed": 970,
     "status": "ok",
     "timestamp": 1714350255806,
     "user": {
      "displayName": "Ala Bilińska",
      "userId": "15744202938494964459"
     },
     "user_tz": -120
    },
    "id": "5559d42b",
    "outputId": "bb4cd214-3f21-44c2-c247-267a67645231"
   },
   "outputs": [],
   "source": [
    "# contributors_DOIs(3)"
   ]
  },
  {
   "cell_type": "markdown",
   "id": "b682b323",
   "metadata": {
    "id": "b682b323"
   },
   "source": [
    "## Run on a subset"
   ]
  },
  {
   "cell_type": "markdown",
   "id": "e54da5f5",
   "metadata": {
    "id": "e54da5f5"
   },
   "source": [
    "Store the output in `dois_df`"
   ]
  },
  {
   "cell_type": "code",
   "execution_count": 202,
   "id": "sh-QQSEIPvR5",
   "metadata": {
    "colab": {
     "base_uri": "https://localhost:8080/"
    },
    "executionInfo": {
     "elapsed": 53877,
     "status": "ok",
     "timestamp": 1714352194508,
     "user": {
      "displayName": "Ala Bilińska",
      "userId": "15744202938494964459"
     },
     "user_tz": -120
    },
    "id": "sh-QQSEIPvR5",
    "outputId": "5705c67a-ab65-4151-ea76-32dd07ce7cf3"
   },
   "outputs": [
    {
     "name": "stderr",
     "output_type": "stream",
     "text": [
      "\r",
      "  0%|                                                                                            | 0/5 [00:00<?, ?it/s]"
     ]
    },
    {
     "name": "stdout",
     "output_type": "stream",
     "text": [
      "Matching J. W. Groothoff...\n",
      "        Found 1 matches for J. W. Groothoff\n",
      "          1:\n",
      "\u001b[94m            Contributor found! - J. W. Groothoff\u001b[0m\n",
      "Matching J. J. P. Kastelein...\n",
      "        Found 3 matches for J. J. P. Kastelein\n",
      "          1:\n",
      "\u001b[94m            Contributor found! - J. J. P. Kastelein\u001b[0m\n",
      "\n",
      "Searching works for J. W. Groothoff...\n",
      "        Number of papers where the contributor was credited as an author: 25\n",
      "        Number of papers where the contributor was the first author: 1\n",
      "\n",
      "Searching works for J. J. P. Kastelein...\n",
      "        Number of papers where the contributor was credited as an author: 25\n",
      "        Number of papers where the contributor was the first author: 2\n",
      "1 match(es) for the title found\n",
      "Could not match Ilse K. Luirink to ['L. Galimova', 'Л. Ф Галимова', 'Liliia F. Galimova', 'Л. Ф. Галимова', 'Liliia Galimova', 'Liliya F. Galimova', 'L.F. Galimova Galimova', 'L.F Galimova', 'L. F. Galimova']\n",
      "Could not match Ilse K. Luirink to ['Dinara I. Sadykova', 'Д. И. Садыкова', 'Anastasiya V. Ishbuldina', 'Dinara Ilgizarovna Sadykova', 'D. J. Sadykova', 'Dinara Sadykova', 'D.I Sadykova', 'D. Sadykova', 'L. F. Galimova', 'Динара Ильгизаровна Садыкова', 'D. I. Sadykova', 'D.I. Sadykova Sadykova']\n",
      "Could not match Ilse K. Luirink to ['Evgenia Slastnikova', 'Е. С. Сластникова', 'Evgeniia S. Slastnikova', 'Evgeniia Slastnikova', 'E. S. Slastnikova', 'E. Slastnikova', 'E.S. Slastnikova Slastnikova', 'Eugeniya S. Slastnikova']\n",
      "Could not match Ilse K. Luirink to ['N.E. Usova Usova', 'N.E. Usova', 'N.E Usova', 'Н. Э. Усова']\n",
      "2 match(es) for the author found\n",
      "\u001b[94mPhD candidate found! - Ilse K. Luirink\u001b[0m\n"
     ]
    },
    {
     "name": "stderr",
     "output_type": "stream",
     "text": [
      "\r",
      " 20%|████████████████▊                                                                   | 1/5 [00:13<00:52, 13.01s/it]"
     ]
    },
    {
     "name": "stdout",
     "output_type": "stream",
     "text": [
      "Number of papers where the author was credited: 24\n",
      "Number of papers where the PhD candidate was the first author: 11\n",
      "Matching M. D. de Jong...\n",
      "        Found 10 matches for M. D. de Jong\n",
      "          1:\n",
      "            E. M. L. D. de Jong associated with University of Amsterdam, NL\n",
      "            M. D. de Jong maybe associated with E. M. L. D. de Jong\n",
      "\u001b[35m            Requires manual check to confirm\u001b[0m\n",
      "\u001b[91m            No NL institution - unlikely to be the match\u001b[0m\n",
      "          2:\n",
      "\u001b[91m            No affiliations with institutions - unable to match\u001b[0m\n",
      "          3:\n",
      "\u001b[91m            No NL institution - unlikely to be the match\u001b[0m\n",
      "            D. M. de Jong associated with University of Amsterdam, NL\n",
      "            M. D. de Jong maybe associated with D. M. de Jong\n",
      "\u001b[35m            Requires manual check to confirm\u001b[0m\n",
      "          4:\n",
      "            D. G. M. M. De Jong associated with University of Amsterdam, NL\n",
      "            M. D. de Jong maybe associated with D. G. M. M. De Jong\n",
      "\u001b[35m            Requires manual check to confirm\u001b[0m\n",
      "          5:\n",
      "            YDE S. D. M. DE JONG associated with Rijksmuseum, NL\n",
      "            M. D. de Jong maybe associated with YDE S. D. M. DE JONG\n",
      "\u001b[35m            Requires manual check to confirm\u001b[0m\n",
      "          6:\n",
      "\u001b[91m            No affiliations with institutions - unable to match\u001b[0m\n",
      "          7:\n",
      "            M D M De Jong associated with Centre for Human Drug Research, NL\n",
      "            M. D. de Jong maybe associated with M D M De Jong\n",
      "\u001b[35m            Requires manual check to confirm\u001b[0m\n",
      "          8:\n",
      "\u001b[91m            No affiliations with institutions - unable to match\u001b[0m\n",
      "          9:\n",
      "            D. G. M. de Jong associated with Sint Lucas Andreas Hospital, NL\n",
      "            M. D. de Jong maybe associated with D. G. M. de Jong\n",
      "\u001b[35m            Requires manual check to confirm\u001b[0m\n",
      "          10:\n",
      "            A. M. L. D. van Haaften-de Jong associated with Haga Hospital, NL\n",
      "            M. D. de Jong maybe associated with A. M. L. D. van Haaften-de Jong\n",
      "\u001b[35m            Requires manual check to confirm\u001b[0m\n",
      "Matching D. D. Eggink...\n",
      "        Found 2 matches for D. D. Eggink\n",
      "          1:\n",
      "\u001b[91m            No NL institution - unlikely to be the match\u001b[0m\n",
      "          2:\n",
      "\u001b[91m            No affiliations with institutions - unable to match\u001b[0m\n",
      "\n",
      "Searching works for M. D. de Jong (target)... - NOT CONFIRMED\n",
      "        Number of papers where the contributor was credited as an author: 11\n",
      "        Number of papers where the contributor was the first author: 7\n",
      "\n",
      "Searching works for M. D. de Jong (target)... - NOT CONFIRMED\n",
      "        Number of papers where the contributor was credited as an author: 3\n",
      "        Number of papers where the contributor was the first author: 2\n",
      "\n",
      "Searching works for M. D. de Jong (target)... - NOT CONFIRMED\n",
      "        Number of papers where the contributor was credited as an author: 2\n",
      "        Number of papers where the contributor was the first author: 2\n",
      "\n",
      "Searching works for M. D. de Jong (target)... - NOT CONFIRMED\n",
      "        Number of papers where the contributor was credited as an author: 1\n",
      "        Number of papers where the contributor was the first author: 1\n",
      "\n",
      "Searching works for M. D. de Jong (target)... - NOT CONFIRMED\n",
      "        Number of papers where the contributor was credited as an author: 2\n",
      "        Number of papers where the contributor was the first author: 1\n",
      "\n",
      "Searching works for M. D. de Jong (target)... - NOT CONFIRMED\n",
      "        Number of papers where the contributor was credited as an author: 1\n",
      "        Number of papers where the contributor was the first author: 0\n",
      "\n",
      "Searching works for M. D. de Jong (target)... - NOT CONFIRMED\n",
      "        Number of papers where the contributor was credited as an author: 1\n",
      "        Number of papers where the contributor was the first author: 0\n"
     ]
    },
    {
     "name": "stderr",
     "output_type": "stream",
     "text": [
      "\r",
      " 40%|█████████████████████████████████▌                                                  | 2/5 [00:23<00:33, 11.31s/it]"
     ]
    },
    {
     "name": "stdout",
     "output_type": "stream",
     "text": [
      "0 match(es) for the author found\n",
      "\u001b[91mCannot be resolved\u001b[0m\n",
      "Matching A. Popma...\n",
      "        Found 9 matches for A. Popma\n",
      "          1:\n",
      "\u001b[91m            No affiliations with institutions - unable to match\u001b[0m\n",
      "          2:\n",
      "\u001b[94m            Contributor found! - A. Popma\u001b[0m\n",
      "Matching R. Vermeiren...\n",
      "        Found 10 matches for R. Vermeiren\n",
      "          1:\n",
      "\u001b[91m            No affiliations with institutions - unable to match\u001b[0m\n",
      "          2:\n",
      "\u001b[94m            Contributor found! - R. Vermeiren\u001b[0m\n",
      "\n",
      "Searching works for A. Popma...\n",
      "        Number of papers where the contributor was credited as an author: 1\n",
      "        Number of papers where the contributor was the first author: 0\n",
      "\n",
      "Searching works for R. Vermeiren...\n",
      "        Number of papers where the contributor was credited as an author: 1\n",
      "        Number of papers where the contributor was the first author: 1\n"
     ]
    },
    {
     "name": "stderr",
     "output_type": "stream",
     "text": [
      "\r",
      " 60%|██████████████████████████████████████████████████▍                                 | 3/5 [00:26<00:15,  7.83s/it]"
     ]
    },
    {
     "name": "stdout",
     "output_type": "stream",
     "text": [
      "0 match(es) for the author found\n",
      "\u001b[91mCannot be resolved\u001b[0m\n",
      "Matching N. P. Juffermans...\n",
      "        Found 1 matches for N. P. Juffermans\n",
      "          1:\n",
      "\u001b[94m            Contributor found! - N. P. Juffermans\u001b[0m\n",
      "Matching J. C. Goslings...\n",
      "        Found 4 matches for J. C. Goslings\n",
      "          1:\n",
      "\u001b[91m            No affiliations with institutions - unable to match\u001b[0m\n",
      "          2:\n",
      "\u001b[91m            No affiliations with institutions - unable to match\u001b[0m\n",
      "          3:\n",
      "\u001b[94m            Contributor found! - J. C. Goslings\u001b[0m\n",
      "\n",
      "Searching works for N. P. Juffermans...\n",
      "        Number of papers where the contributor was credited as an author: 25\n",
      "        Number of papers where the contributor was the first author: 1\n",
      "\n",
      "Searching works for J. C. Goslings...\n",
      "        Number of papers where the contributor was credited as an author: 1\n",
      "        Number of papers where the contributor was the first author: 1\n",
      "1 match(es) for the author found\n",
      "\u001b[94mPhD candidate found! - Mathijs R. Wirtz\u001b[0m\n"
     ]
    },
    {
     "name": "stderr",
     "output_type": "stream",
     "text": [
      "\r",
      " 80%|███████████████████████████████████████████████████████████████████▏                | 4/5 [00:33<00:07,  7.26s/it]"
     ]
    },
    {
     "name": "stdout",
     "output_type": "stream",
     "text": [
      "Number of papers where the author was credited: 17\n",
      "Number of papers where the PhD candidate was the first author: 7\n",
      "Matching H. Heijerman...\n",
      "        Found 5 matches for H. Heijerman\n",
      "          1:\n",
      "            H Heijerman associated with University Medical Center Utrecht, NL\n",
      "            H. Heijerman maybe associated with H Heijerman\n",
      "\u001b[35m            Requires manual check to confirm\u001b[0m\n",
      "            H Heijerman associated with Rijnstate Hospital, NL\n",
      "            H. Heijerman maybe associated with H Heijerman\n",
      "\u001b[35m            Requires manual check to confirm\u001b[0m\n",
      "          2:\n",
      "\u001b[94m            Contributor found! - H. Heijerman\u001b[0m\n",
      "Matching C.v.d. Ent...\n",
      "\u001b[91m        Cannot be resolved: \u001b[0mCould not find the author C.v.d. Ent\n",
      "\n",
      "Searching works for H. Heijerman...\n",
      "        Number of papers where the contributor was credited as an author: 1\n",
      "        Number of papers where the contributor was the first author: 0\n",
      "1 match(es) for the title found\n",
      "\u001b[35mPhD candidate found! - Marcella Burghard\u001b[0m\n"
     ]
    },
    {
     "name": "stderr",
     "output_type": "stream",
     "text": [
      "100%|████████████████████████████████████████████████████████████████████████████████████| 5/5 [00:38<00:00,  7.70s/it]"
     ]
    },
    {
     "name": "stdout",
     "output_type": "stream",
     "text": [
      "Number of papers where the author was credited: 25\n",
      "Number of papers where the PhD candidate was the first author: 10\n"
     ]
    },
    {
     "name": "stderr",
     "output_type": "stream",
     "text": [
      "\n"
     ]
    }
   ],
   "source": [
    "dois_data = []  # empty list to store data for each row of the df\n",
    "\n",
    "for i in tqdm(range(len(sampled_df))):  \n",
    "    contributors = contributors_DOIs(i)  # get the DOIs of contributors for every row (i)\n",
    "\n",
    "    # check if there are no DOIs for contributors or if none of the contributors are in the Open Alex database\n",
    "    if contributors == \"None of the contributors is in Open Alex database\" or contributors == \"No DOIs for the associated contributors found\":\n",
    "        message_contributors = contributors  # store the message for why there are no DOIs for contributors\n",
    "        contributors = np.nan  # set contributors to NaN since no valid DOIs were found\n",
    "        contr_count = 0  # set the count of contributors with DOIs to 0\n",
    "        contr_dois_count = 0  # set the cumulative count of DOIs for contributors to 0\n",
    "    else:\n",
    "        # calculate the number of contributors with DOIs and the cumulative count of DOIs\n",
    "        contr_count = sum(1 for lst in contributors.values() if lst)\n",
    "        contr_dois_count = sum(len(lst) for lst in contributors.values())\n",
    "        message_contributors = np.nan  # no error message needed since DOIs were found\n",
    "\n",
    "    author_dois = author_DOIs(i)  # get the DOIs of the author (PhD candidate) for the current row (i)\n",
    "\n",
    "    # check if there are no DOIs for the author or if the author is not in the Open Alex database\n",
    "    if author_dois == \"PhD candidate (probably) not in Open Alex database\" or author_dois == \"No DOIs for the PhD candidate found\":\n",
    "        message_author = author_dois  # store the message for why there are no DOIs for the author\n",
    "        author_dois = np.nan  # set author DOIs to NaN since no valid DOIs were found\n",
    "        count = 0  # set the count of DOIs for the author to 0\n",
    "    else:\n",
    "        count = len(author_dois)  # set the count of DOIs for the author\n",
    "        message_author = np.nan  # no error message needed since DOIs were found\n",
    "\n",
    "    # create a dictionary with all the relevant information for the current row\n",
    "    data = {\n",
    "        'PhD candidate': get_name_without_spaces(i),  \n",
    "        'PhD candidate DOIs found in OpenAlex': author_dois,  \n",
    "        'DOIs count': count,  \n",
    "        'Contributors-DOIs Dictionary': contributors, \n",
    "        'Number of contributors with DOIs found in OpenAlex': contr_count, \n",
    "        'Cumulative found Contributor DOIs count': contr_dois_count,\n",
    "        'Why no DOIs for PhD candidate': message_author,  \n",
    "        'Why no DOIs for contributors': message_contributors \n",
    "    }\n",
    "    dois_data.append(data)  # append the dictionary to the list of data\n",
    "\n",
    "dois_df = pd.DataFrame(dois_data)  # convert the list of dictionaries into a DataFrame"
   ]
  },
  {
   "cell_type": "code",
   "execution_count": 204,
   "id": "a7c21aaa",
   "metadata": {
    "colab": {
     "base_uri": "https://localhost:8080/",
     "height": 868
    },
    "executionInfo": {
     "elapsed": 227,
     "status": "ok",
     "timestamp": 1714352201846,
     "user": {
      "displayName": "Ala Bilińska",
      "userId": "15744202938494964459"
     },
     "user_tz": -120
    },
    "id": "a7c21aaa",
    "outputId": "9c3f5c77-8aa8-4b36-ad0a-bb28dac4d038"
   },
   "outputs": [
    {
     "data": {
      "text/html": [
       "<div>\n",
       "<style scoped>\n",
       "    .dataframe tbody tr th:only-of-type {\n",
       "        vertical-align: middle;\n",
       "    }\n",
       "\n",
       "    .dataframe tbody tr th {\n",
       "        vertical-align: top;\n",
       "    }\n",
       "\n",
       "    .dataframe thead th {\n",
       "        text-align: right;\n",
       "    }\n",
       "</style>\n",
       "<table border=\"1\" class=\"dataframe\">\n",
       "  <thead>\n",
       "    <tr style=\"text-align: right;\">\n",
       "      <th></th>\n",
       "      <th>PhD candidate</th>\n",
       "      <th>PhD candidate DOIs found in OpenAlex</th>\n",
       "      <th>DOIs count</th>\n",
       "      <th>Contributors-DOIs Dictionary</th>\n",
       "      <th>Number of contributors with DOIs found in OpenAlex</th>\n",
       "      <th>Cumulative found Contributor DOIs count</th>\n",
       "      <th>Why no DOIs for PhD candidate</th>\n",
       "      <th>Why no DOIs for contributors</th>\n",
       "    </tr>\n",
       "  </thead>\n",
       "  <tbody>\n",
       "    <tr>\n",
       "      <th>0</th>\n",
       "      <td>Ilse K. Luirink</td>\n",
       "      <td>[https://doi.org/10.1056/nejmoa1816454, https:...</td>\n",
       "      <td>10</td>\n",
       "      <td>{'J. W. Groothoff': ['https://doi.org/10.1136/...</td>\n",
       "      <td>2</td>\n",
       "      <td>3</td>\n",
       "      <td>NaN</td>\n",
       "      <td>NaN</td>\n",
       "    </tr>\n",
       "    <tr>\n",
       "      <th>1</th>\n",
       "      <td>Hana A. Pawestri</td>\n",
       "      <td>NaN</td>\n",
       "      <td>0</td>\n",
       "      <td>{'M. D. de Jong (target) - NOT CONFIRMED': ['h...</td>\n",
       "      <td>1</td>\n",
       "      <td>6</td>\n",
       "      <td>PhD candidate (probably) not in Open Alex data...</td>\n",
       "      <td>NaN</td>\n",
       "    </tr>\n",
       "    <tr>\n",
       "      <th>2</th>\n",
       "      <td>Katharina Margitta Visser</td>\n",
       "      <td>NaN</td>\n",
       "      <td>0</td>\n",
       "      <td>NaN</td>\n",
       "      <td>0</td>\n",
       "      <td>0</td>\n",
       "      <td>PhD candidate (probably) not in Open Alex data...</td>\n",
       "      <td>No DOIs for the associated contributors found</td>\n",
       "    </tr>\n",
       "    <tr>\n",
       "      <th>3</th>\n",
       "      <td>Mathijs R. Wirtz</td>\n",
       "      <td>[https://doi.org/10.1111/trf.15917, https://do...</td>\n",
       "      <td>7</td>\n",
       "      <td>NaN</td>\n",
       "      <td>0</td>\n",
       "      <td>0</td>\n",
       "      <td>NaN</td>\n",
       "      <td>No DOIs for the associated contributors found</td>\n",
       "    </tr>\n",
       "    <tr>\n",
       "      <th>4</th>\n",
       "      <td>Marcella Burghard</td>\n",
       "      <td>[https://doi.org/10.1123/jpah.2016-0299, https...</td>\n",
       "      <td>9</td>\n",
       "      <td>NaN</td>\n",
       "      <td>0</td>\n",
       "      <td>0</td>\n",
       "      <td>NaN</td>\n",
       "      <td>No DOIs for the associated contributors found</td>\n",
       "    </tr>\n",
       "  </tbody>\n",
       "</table>\n",
       "</div>"
      ],
      "text/plain": [
       "               PhD candidate  \\\n",
       "0            Ilse K. Luirink   \n",
       "1           Hana A. Pawestri   \n",
       "2  Katharina Margitta Visser   \n",
       "3           Mathijs R. Wirtz   \n",
       "4          Marcella Burghard   \n",
       "\n",
       "                PhD candidate DOIs found in OpenAlex  DOIs count  \\\n",
       "0  [https://doi.org/10.1056/nejmoa1816454, https:...          10   \n",
       "1                                                NaN           0   \n",
       "2                                                NaN           0   \n",
       "3  [https://doi.org/10.1111/trf.15917, https://do...           7   \n",
       "4  [https://doi.org/10.1123/jpah.2016-0299, https...           9   \n",
       "\n",
       "                        Contributors-DOIs Dictionary  \\\n",
       "0  {'J. W. Groothoff': ['https://doi.org/10.1136/...   \n",
       "1  {'M. D. de Jong (target) - NOT CONFIRMED': ['h...   \n",
       "2                                                NaN   \n",
       "3                                                NaN   \n",
       "4                                                NaN   \n",
       "\n",
       "   Number of contributors with DOIs found in OpenAlex  \\\n",
       "0                                                  2    \n",
       "1                                                  1    \n",
       "2                                                  0    \n",
       "3                                                  0    \n",
       "4                                                  0    \n",
       "\n",
       "   Cumulative found Contributor DOIs count  \\\n",
       "0                                        3   \n",
       "1                                        6   \n",
       "2                                        0   \n",
       "3                                        0   \n",
       "4                                        0   \n",
       "\n",
       "                       Why no DOIs for PhD candidate  \\\n",
       "0                                                NaN   \n",
       "1  PhD candidate (probably) not in Open Alex data...   \n",
       "2  PhD candidate (probably) not in Open Alex data...   \n",
       "3                                                NaN   \n",
       "4                                                NaN   \n",
       "\n",
       "                    Why no DOIs for contributors  \n",
       "0                                            NaN  \n",
       "1                                            NaN  \n",
       "2  No DOIs for the associated contributors found  \n",
       "3  No DOIs for the associated contributors found  \n",
       "4  No DOIs for the associated contributors found  "
      ]
     },
     "execution_count": 204,
     "metadata": {},
     "output_type": "execute_result"
    }
   ],
   "source": [
    "dois_df = pd.DataFrame(dois_data)\n",
    "dois_df"
   ]
  },
  {
   "cell_type": "code",
   "execution_count": 231,
   "id": "af920444",
   "metadata": {},
   "outputs": [],
   "source": [
    "dois_df.to_csv('results.csv', index=False) "
   ]
  },
  {
   "cell_type": "markdown",
   "id": "ea08701f",
   "metadata": {},
   "source": [
    "Statistics for how and if PhD candidates / contributors were found:"
   ]
  },
  {
   "cell_type": "code",
   "execution_count": 228,
   "id": "56da4077",
   "metadata": {},
   "outputs": [],
   "source": [
    "phd_cand_verification = {\n",
    "    \"Number of PhD candidates found with matched title\": found_with_title,\n",
    "    \"Number of PhD candidates found with matched title, but name variation\": found_with_title_name_var,\n",
    "    \"Number of PhD candidates found with name string\": found_with_str,\n",
    "    \"Number of PhD candidates found with name string variation\": found_with_str_var,\n",
    "    \"Number of not found PhD candidates\": not_found\n",
    "}\n",
    "\n",
    "contributor_verification = {\n",
    "    \"Number of contributors found with name string\": contributor_found_with_str,\n",
    "    \"Number of contributors found with name string variation\": contributor_found_with_str_var,\n",
    "    \"Number of contributors for manual check\": contributor_manual_check,\n",
    "    \"Number of not found contributors\": contributor_not_found\n",
    "}\n",
    "\n",
    "df_pnd_cand_ver = pd.DataFrame(list(phd_cand_verification.items()), columns=[\"Found how?\", \"Value\"])\n",
    "df_contributor_ver = pd.DataFrame(list(contributor_verification.items()), columns=[\"Found how?\", \"Value\"])"
   ]
  },
  {
   "cell_type": "code",
   "execution_count": 229,
   "id": "db4667ac",
   "metadata": {},
   "outputs": [
    {
     "data": {
      "text/html": [
       "<div>\n",
       "<style scoped>\n",
       "    .dataframe tbody tr th:only-of-type {\n",
       "        vertical-align: middle;\n",
       "    }\n",
       "\n",
       "    .dataframe tbody tr th {\n",
       "        vertical-align: top;\n",
       "    }\n",
       "\n",
       "    .dataframe thead th {\n",
       "        text-align: right;\n",
       "    }\n",
       "</style>\n",
       "<table border=\"1\" class=\"dataframe\">\n",
       "  <thead>\n",
       "    <tr style=\"text-align: right;\">\n",
       "      <th></th>\n",
       "      <th>Found how?</th>\n",
       "      <th>Value</th>\n",
       "    </tr>\n",
       "  </thead>\n",
       "  <tbody>\n",
       "    <tr>\n",
       "      <th>0</th>\n",
       "      <td>Number of PhD candidates found with matched title</td>\n",
       "      <td>1</td>\n",
       "    </tr>\n",
       "    <tr>\n",
       "      <th>1</th>\n",
       "      <td>Number of PhD candidates found with matched ti...</td>\n",
       "      <td>0</td>\n",
       "    </tr>\n",
       "    <tr>\n",
       "      <th>2</th>\n",
       "      <td>Number of PhD candidates found with name string</td>\n",
       "      <td>2</td>\n",
       "    </tr>\n",
       "    <tr>\n",
       "      <th>3</th>\n",
       "      <td>Number of PhD candidates found with name strin...</td>\n",
       "      <td>0</td>\n",
       "    </tr>\n",
       "    <tr>\n",
       "      <th>4</th>\n",
       "      <td>Number of not found PhD candidates</td>\n",
       "      <td>2</td>\n",
       "    </tr>\n",
       "  </tbody>\n",
       "</table>\n",
       "</div>"
      ],
      "text/plain": [
       "                                          Found how?  Value\n",
       "0  Number of PhD candidates found with matched title      1\n",
       "1  Number of PhD candidates found with matched ti...      0\n",
       "2    Number of PhD candidates found with name string      2\n",
       "3  Number of PhD candidates found with name strin...      0\n",
       "4                 Number of not found PhD candidates      2"
      ]
     },
     "execution_count": 229,
     "metadata": {},
     "output_type": "execute_result"
    }
   ],
   "source": [
    "df_pnd_cand_ver"
   ]
  },
  {
   "cell_type": "code",
   "execution_count": 230,
   "id": "41829f8b",
   "metadata": {},
   "outputs": [
    {
     "data": {
      "text/html": [
       "<div>\n",
       "<style scoped>\n",
       "    .dataframe tbody tr th:only-of-type {\n",
       "        vertical-align: middle;\n",
       "    }\n",
       "\n",
       "    .dataframe tbody tr th {\n",
       "        vertical-align: top;\n",
       "    }\n",
       "\n",
       "    .dataframe thead th {\n",
       "        text-align: right;\n",
       "    }\n",
       "</style>\n",
       "<table border=\"1\" class=\"dataframe\">\n",
       "  <thead>\n",
       "    <tr style=\"text-align: right;\">\n",
       "      <th></th>\n",
       "      <th>Found how?</th>\n",
       "      <th>Value</th>\n",
       "    </tr>\n",
       "  </thead>\n",
       "  <tbody>\n",
       "    <tr>\n",
       "      <th>0</th>\n",
       "      <td>Number of contributors found with name string</td>\n",
       "      <td>7</td>\n",
       "    </tr>\n",
       "    <tr>\n",
       "      <th>1</th>\n",
       "      <td>Number of contributors found with name string ...</td>\n",
       "      <td>0</td>\n",
       "    </tr>\n",
       "    <tr>\n",
       "      <th>2</th>\n",
       "      <td>Number of contributors for manual check</td>\n",
       "      <td>1</td>\n",
       "    </tr>\n",
       "    <tr>\n",
       "      <th>3</th>\n",
       "      <td>Number of not found contributors</td>\n",
       "      <td>2</td>\n",
       "    </tr>\n",
       "  </tbody>\n",
       "</table>\n",
       "</div>"
      ],
      "text/plain": [
       "                                          Found how?  Value\n",
       "0      Number of contributors found with name string      7\n",
       "1  Number of contributors found with name string ...      0\n",
       "2            Number of contributors for manual check      1\n",
       "3                   Number of not found contributors      2"
      ]
     },
     "execution_count": 230,
     "metadata": {},
     "output_type": "execute_result"
    }
   ],
   "source": [
    "df_contributor_ver"
   ]
  },
  {
   "cell_type": "markdown",
   "id": "f2d56f04",
   "metadata": {
    "id": "f2d56f04"
   },
   "source": [
    "## Visualisations & Statistics"
   ]
  },
  {
   "cell_type": "code",
   "execution_count": 206,
   "id": "2964cf22",
   "metadata": {
    "colab": {
     "base_uri": "https://localhost:8080/",
     "height": 507
    },
    "executionInfo": {
     "elapsed": 568,
     "status": "ok",
     "timestamp": 1714352209393,
     "user": {
      "displayName": "Ala Bilińska",
      "userId": "15744202938494964459"
     },
     "user_tz": -120
    },
    "id": "2964cf22",
    "outputId": "ddc165a0-6685-4d98-befc-86ec5e451f19"
   },
   "outputs": [
    {
     "data": {
      "image/png": "[encoded data removed]",
      "text/plain": [
       "<Figure size 576x360 with 1 Axes>"
      ]
     },
     "metadata": {
      "needs_background": "light"
     },
     "output_type": "display_data"
    }
   ],
   "source": [
    "author_doi_counts = dois_df.groupby('PhD candidate')['DOIs count'].sum()\n",
    "\n",
    "author_doi_counts = author_doi_counts.sort_values(ascending=False)\n",
    "\n",
    "plt.figure(figsize=(8, 5))\n",
    "author_doi_counts.plot(kind='bar', color='rosybrown')\n",
    "plt.title('Number of DOIs per PhD candidate (Sorted) - found in Open Alex')\n",
    "plt.ylabel('Number of DOIs')\n",
    "plt.locator_params(axis='y', integer=True)\n",
    "plt.xticks([])\n",
    "plt.tight_layout()\n",
    "plt.show()"
   ]
  },
  {
   "cell_type": "code",
   "execution_count": 207,
   "id": "6a59872a",
   "metadata": {
    "colab": {
     "base_uri": "https://localhost:8080/",
     "height": 507
    },
    "executionInfo": {
     "elapsed": 590,
     "status": "ok",
     "timestamp": 1714352211044,
     "user": {
      "displayName": "Ala Bilińska",
      "userId": "15744202938494964459"
     },
     "user_tz": -120
    },
    "id": "6a59872a",
    "outputId": "c873c3c7-3897-4aa9-a0cd-249e3e8c662a"
   },
   "outputs": [
    {
     "data": {
      "image/png": "[encoded data removed]",
      "text/plain": [
       "<Figure size 576x360 with 1 Axes>"
      ]
     },
     "metadata": {
      "needs_background": "light"
     },
     "output_type": "display_data"
    }
   ],
   "source": [
    "author_contributors_count = dois_df.groupby('PhD candidate')['Number of contributors with DOIs found in OpenAlex'].sum()\n",
    "\n",
    "author_contributors_count = author_contributors_count.sort_values(ascending=False)\n",
    "\n",
    "plt.figure(figsize=(8, 5))\n",
    "author_contributors_count.plot(kind='bar', color='pink')\n",
    "plt.title('Number of Contributors per PhD candidate (Sorted) - found in Open Alex')\n",
    "plt.ylabel('Number of Contributors')\n",
    "plt.locator_params(axis='y', integer=True)\n",
    "plt.xticks([])\n",
    "plt.tight_layout()\n",
    "plt.show()"
   ]
  },
  {
   "cell_type": "code",
   "execution_count": 208,
   "id": "8431be45",
   "metadata": {
    "colab": {
     "base_uri": "https://localhost:8080/",
     "height": 507
    },
    "executionInfo": {
     "elapsed": 526,
     "status": "ok",
     "timestamp": 1714352212827,
     "user": {
      "displayName": "Ala Bilińska",
      "userId": "15744202938494964459"
     },
     "user_tz": -120
    },
    "id": "8431be45",
    "outputId": "ced980ab-c0a5-4823-e367-2fbb722705a4"
   },
   "outputs": [
    {
     "data": {
      "image/png": "[encoded data removed]",
      "text/plain": [
       "<Figure size 576x360 with 1 Axes>"
      ]
     },
     "metadata": {
      "needs_background": "light"
     },
     "output_type": "display_data"
    }
   ],
   "source": [
    "author_cumulative_dois_count = dois_df.groupby('PhD candidate')['Cumulative found Contributor DOIs count'].sum()\n",
    "\n",
    "author_cumulative_dois_count = author_cumulative_dois_count.sort_values(ascending=False)\n",
    "\n",
    "plt.figure(figsize=(8, 5))\n",
    "author_cumulative_dois_count.plot(kind='bar', color='tan')\n",
    "plt.title('Cumulative Number of Contributor DOIs Count per PhD candidate (Sorted)')\n",
    "plt.ylabel('Cumulative Number of DOIs')\n",
    "\n",
    "plt.locator_params(axis='y', integer=True)\n",
    "\n",
    "plt.xticks([])\n",
    "plt.tight_layout()\n",
    "plt.show()"
   ]
  },
  {
   "cell_type": "code",
   "execution_count": 209,
   "id": "8e13618f",
   "metadata": {
    "colab": {
     "base_uri": "https://localhost:8080/",
     "height": 300
    },
    "executionInfo": {
     "elapsed": 3,
     "status": "ok",
     "timestamp": 1714352213289,
     "user": {
      "displayName": "Ala Bilińska",
      "userId": "15744202938494964459"
     },
     "user_tz": -120
    },
    "id": "8e13618f",
    "outputId": "0b3ee9af-1c02-41e4-9963-8ff592a7a13a"
   },
   "outputs": [
    {
     "data": {
      "text/html": [
       "<div>\n",
       "<style scoped>\n",
       "    .dataframe tbody tr th:only-of-type {\n",
       "        vertical-align: middle;\n",
       "    }\n",
       "\n",
       "    .dataframe tbody tr th {\n",
       "        vertical-align: top;\n",
       "    }\n",
       "\n",
       "    .dataframe thead th {\n",
       "        text-align: right;\n",
       "    }\n",
       "</style>\n",
       "<table border=\"1\" class=\"dataframe\">\n",
       "  <thead>\n",
       "    <tr style=\"text-align: right;\">\n",
       "      <th></th>\n",
       "      <th>Statistics</th>\n",
       "      <th>Values</th>\n",
       "    </tr>\n",
       "  </thead>\n",
       "  <tbody>\n",
       "    <tr>\n",
       "      <th>0</th>\n",
       "      <td>Mean DOIs per PhD candidate</td>\n",
       "      <td>5.2</td>\n",
       "    </tr>\n",
       "    <tr>\n",
       "      <th>1</th>\n",
       "      <td>Median DOIs per PhD candidate</td>\n",
       "      <td>7.0</td>\n",
       "    </tr>\n",
       "    <tr>\n",
       "      <th>2</th>\n",
       "      <td>Mean Found Contributors</td>\n",
       "      <td>0.6</td>\n",
       "    </tr>\n",
       "    <tr>\n",
       "      <th>3</th>\n",
       "      <td>Median Found Contributors</td>\n",
       "      <td>0.0</td>\n",
       "    </tr>\n",
       "    <tr>\n",
       "      <th>4</th>\n",
       "      <td>Mean Cumulative DOIs Count</td>\n",
       "      <td>1.8</td>\n",
       "    </tr>\n",
       "    <tr>\n",
       "      <th>5</th>\n",
       "      <td>Median Cumulative DOIs Count</td>\n",
       "      <td>0.0</td>\n",
       "    </tr>\n",
       "    <tr>\n",
       "      <th>6</th>\n",
       "      <td>NaN Values for PhD candidate DOIs</td>\n",
       "      <td>2.0</td>\n",
       "    </tr>\n",
       "    <tr>\n",
       "      <th>7</th>\n",
       "      <td>NaN Values for Contributors DOIs</td>\n",
       "      <td>3.0</td>\n",
       "    </tr>\n",
       "  </tbody>\n",
       "</table>\n",
       "</div>"
      ],
      "text/plain": [
       "                          Statistics  Values\n",
       "0        Mean DOIs per PhD candidate     5.2\n",
       "1      Median DOIs per PhD candidate     7.0\n",
       "2            Mean Found Contributors     0.6\n",
       "3          Median Found Contributors     0.0\n",
       "4         Mean Cumulative DOIs Count     1.8\n",
       "5       Median Cumulative DOIs Count     0.0\n",
       "6  NaN Values for PhD candidate DOIs     2.0\n",
       "7   NaN Values for Contributors DOIs     3.0"
      ]
     },
     "execution_count": 209,
     "metadata": {},
     "output_type": "execute_result"
    }
   ],
   "source": [
    "mean_dois_per_author = dois_df['DOIs count'].mean()\n",
    "median_dois_per_author = dois_df['DOIs count'].median()\n",
    "\n",
    "mean_found_contributors = dois_df['Number of contributors with DOIs found in OpenAlex'].mean()\n",
    "median_found_contributors = dois_df['Number of contributors with DOIs found in OpenAlex'].median()\n",
    "\n",
    "mean_cumulative_dois_count = dois_df['Cumulative found Contributor DOIs count'].mean()\n",
    "median_cumulative_dois_count = dois_df['Cumulative found Contributor DOIs count'].median()\n",
    "\n",
    "nan_author_dois_count = dois_df['PhD candidate DOIs found in OpenAlex'].isnull().sum()\n",
    "nan_contributors_dois_count = dois_df['Contributors-DOIs Dictionary'].isnull().sum()\n",
    "\n",
    "summary_data = {\n",
    "    'Statistics': ['Mean DOIs per PhD candidate', 'Median DOIs per PhD candidate',\n",
    "                   'Mean Found Contributors', 'Median Found Contributors',\n",
    "                   'Mean Cumulative DOIs Count', 'Median Cumulative DOIs Count',\n",
    "                   'NaN Values for PhD candidate DOIs', 'NaN Values for Contributors DOIs'],\n",
    "    'Values': [mean_dois_per_author, median_dois_per_author,                           # round if needed\n",
    "               mean_found_contributors, median_found_contributors,\n",
    "               mean_cumulative_dois_count, median_cumulative_dois_count,\n",
    "               nan_author_dois_count, nan_contributors_dois_count]\n",
    "}\n",
    "\n",
    "summary_df = pd.DataFrame(summary_data)\n",
    "\n",
    "summary_df"
   ]
  },
  {
   "cell_type": "code",
   "execution_count": 210,
   "id": "e747c2e5",
   "metadata": {},
   "outputs": [
    {
     "data": {
      "image/png": "[encoded data removed]",
      "text/plain": [
       "<Figure size 792x504 with 1 Axes>"
      ]
     },
     "metadata": {
      "needs_background": "light"
     },
     "output_type": "display_data"
    }
   ],
   "source": [
    "dois_df.fillna('Unknown', inplace=True)\n",
    "\n",
    "unique_messages_column1 = dois_df['Why no DOIs for PhD candidate'].value_counts()\n",
    "unique_messages_column2 = dois_df['Why no DOIs for contributors'].value_counts()\n",
    "\n",
    "unique_messages_column1 = unique_messages_column1.drop('Unknown', errors='ignore')\n",
    "unique_messages_column2 = unique_messages_column2.drop('Unknown', errors='ignore')\n",
    "\n",
    "plt.figure(figsize=(11, 7))\n",
    "\n",
    "plt.bar(unique_messages_column1.index, unique_messages_column1.values, alpha=0.5, label='Why no DOIs for PhD candidate', color='lightcoral')\n",
    "plt.bar(unique_messages_column2.index, unique_messages_column2.values, alpha=0.5, label='Why no DOIs for contributors', color='burlywood')\n",
    "\n",
    "plt.ylabel('Count')\n",
    "plt.title('Why DOIs could not be extracted')\n",
    "plt.xticks(rotation=45, ha='right')\n",
    "plt.legend()\n",
    "\n",
    "plt.tight_layout()\n",
    "plt.show()"
   ]
  },
  {
   "cell_type": "markdown",
   "id": "3c6b377e",
   "metadata": {
    "id": "3c6b377e"
   },
   "source": [
    "### Filter for the task at hand"
   ]
  },
  {
   "cell_type": "code",
   "execution_count": 211,
   "id": "812fc443",
   "metadata": {
    "colab": {
     "base_uri": "https://localhost:8080/",
     "height": 428
    },
    "executionInfo": {
     "elapsed": 249,
     "status": "ok",
     "timestamp": 1714352349686,
     "user": {
      "displayName": "Ala Bilińska",
      "userId": "15744202938494964459"
     },
     "user_tz": -120
    },
    "id": "812fc443",
    "outputId": "65c30f37-8914-4b2e-cd88-624bc8ae0135"
   },
   "outputs": [
    {
     "data": {
      "text/html": [
       "<div>\n",
       "<style scoped>\n",
       "    .dataframe tbody tr th:only-of-type {\n",
       "        vertical-align: middle;\n",
       "    }\n",
       "\n",
       "    .dataframe tbody tr th {\n",
       "        vertical-align: top;\n",
       "    }\n",
       "\n",
       "    .dataframe thead th {\n",
       "        text-align: right;\n",
       "    }\n",
       "</style>\n",
       "<table border=\"1\" class=\"dataframe\">\n",
       "  <thead>\n",
       "    <tr style=\"text-align: right;\">\n",
       "      <th></th>\n",
       "      <th>PhD candidate</th>\n",
       "      <th>PhD candidate DOIs found in OpenAlex</th>\n",
       "      <th>DOIs count</th>\n",
       "      <th>Contributors-DOIs Dictionary</th>\n",
       "      <th>Number of contributors with DOIs found in OpenAlex</th>\n",
       "      <th>Cumulative found Contributor DOIs count</th>\n",
       "    </tr>\n",
       "  </thead>\n",
       "  <tbody>\n",
       "    <tr>\n",
       "      <th>0</th>\n",
       "      <td>Ilse K. Luirink</td>\n",
       "      <td>[https://doi.org/10.1056/nejmoa1816454, https:...</td>\n",
       "      <td>10</td>\n",
       "      <td>{'J. W. Groothoff': ['https://doi.org/10.1136/...</td>\n",
       "      <td>2</td>\n",
       "      <td>3</td>\n",
       "    </tr>\n",
       "    <tr>\n",
       "      <th>1</th>\n",
       "      <td>Hana A. Pawestri</td>\n",
       "      <td>Unknown</td>\n",
       "      <td>0</td>\n",
       "      <td>{'M. D. de Jong (target) - NOT CONFIRMED': ['h...</td>\n",
       "      <td>1</td>\n",
       "      <td>6</td>\n",
       "    </tr>\n",
       "    <tr>\n",
       "      <th>2</th>\n",
       "      <td>Katharina Margitta Visser</td>\n",
       "      <td>Unknown</td>\n",
       "      <td>0</td>\n",
       "      <td>Unknown</td>\n",
       "      <td>0</td>\n",
       "      <td>0</td>\n",
       "    </tr>\n",
       "    <tr>\n",
       "      <th>3</th>\n",
       "      <td>Mathijs R. Wirtz</td>\n",
       "      <td>[https://doi.org/10.1111/trf.15917, https://do...</td>\n",
       "      <td>7</td>\n",
       "      <td>Unknown</td>\n",
       "      <td>0</td>\n",
       "      <td>0</td>\n",
       "    </tr>\n",
       "    <tr>\n",
       "      <th>4</th>\n",
       "      <td>Marcella Burghard</td>\n",
       "      <td>[https://doi.org/10.1123/jpah.2016-0299, https...</td>\n",
       "      <td>9</td>\n",
       "      <td>Unknown</td>\n",
       "      <td>0</td>\n",
       "      <td>0</td>\n",
       "    </tr>\n",
       "  </tbody>\n",
       "</table>\n",
       "</div>"
      ],
      "text/plain": [
       "               PhD candidate  \\\n",
       "0            Ilse K. Luirink   \n",
       "1           Hana A. Pawestri   \n",
       "2  Katharina Margitta Visser   \n",
       "3           Mathijs R. Wirtz   \n",
       "4          Marcella Burghard   \n",
       "\n",
       "                PhD candidate DOIs found in OpenAlex  DOIs count  \\\n",
       "0  [https://doi.org/10.1056/nejmoa1816454, https:...          10   \n",
       "1                                            Unknown           0   \n",
       "2                                            Unknown           0   \n",
       "3  [https://doi.org/10.1111/trf.15917, https://do...           7   \n",
       "4  [https://doi.org/10.1123/jpah.2016-0299, https...           9   \n",
       "\n",
       "                        Contributors-DOIs Dictionary  \\\n",
       "0  {'J. W. Groothoff': ['https://doi.org/10.1136/...   \n",
       "1  {'M. D. de Jong (target) - NOT CONFIRMED': ['h...   \n",
       "2                                            Unknown   \n",
       "3                                            Unknown   \n",
       "4                                            Unknown   \n",
       "\n",
       "   Number of contributors with DOIs found in OpenAlex  \\\n",
       "0                                                  2    \n",
       "1                                                  1    \n",
       "2                                                  0    \n",
       "3                                                  0    \n",
       "4                                                  0    \n",
       "\n",
       "   Cumulative found Contributor DOIs count  \n",
       "0                                        3  \n",
       "1                                        6  \n",
       "2                                        0  \n",
       "3                                        0  \n",
       "4                                        0  "
      ]
     },
     "execution_count": 211,
     "metadata": {},
     "output_type": "execute_result"
    }
   ],
   "source": [
    "df_clean = dois_df.iloc[:, :6].dropna()\n",
    "# df_clean.reset_index(drop=True, inplace=True)\n",
    "df_clean"
   ]
  },
  {
   "cell_type": "code",
   "execution_count": 212,
   "id": "49014ae1",
   "metadata": {
    "colab": {
     "base_uri": "https://localhost:8080/",
     "height": 237
    },
    "executionInfo": {
     "elapsed": 4,
     "status": "ok",
     "timestamp": 1714352363099,
     "user": {
      "displayName": "Ala Bilińska",
      "userId": "15744202938494964459"
     },
     "user_tz": -120
    },
    "id": "49014ae1",
    "outputId": "0c037959-3442-424f-cf53-b87cf7d95061"
   },
   "outputs": [
    {
     "data": {
      "text/html": [
       "<div>\n",
       "<style scoped>\n",
       "    .dataframe tbody tr th:only-of-type {\n",
       "        vertical-align: middle;\n",
       "    }\n",
       "\n",
       "    .dataframe tbody tr th {\n",
       "        vertical-align: top;\n",
       "    }\n",
       "\n",
       "    .dataframe thead th {\n",
       "        text-align: right;\n",
       "    }\n",
       "</style>\n",
       "<table border=\"1\" class=\"dataframe\">\n",
       "  <thead>\n",
       "    <tr style=\"text-align: right;\">\n",
       "      <th></th>\n",
       "      <th>Statistics</th>\n",
       "      <th>Values</th>\n",
       "    </tr>\n",
       "  </thead>\n",
       "  <tbody>\n",
       "    <tr>\n",
       "      <th>0</th>\n",
       "      <td>Mean DOIs per PhD candidate</td>\n",
       "      <td>5.2</td>\n",
       "    </tr>\n",
       "    <tr>\n",
       "      <th>1</th>\n",
       "      <td>Median DOIs per PhD candidate</td>\n",
       "      <td>7.0</td>\n",
       "    </tr>\n",
       "    <tr>\n",
       "      <th>2</th>\n",
       "      <td>Mean Found Contributors</td>\n",
       "      <td>0.6</td>\n",
       "    </tr>\n",
       "    <tr>\n",
       "      <th>3</th>\n",
       "      <td>Median Found Contributors</td>\n",
       "      <td>0.0</td>\n",
       "    </tr>\n",
       "    <tr>\n",
       "      <th>4</th>\n",
       "      <td>Mean Cumulative DOIs Count</td>\n",
       "      <td>1.8</td>\n",
       "    </tr>\n",
       "    <tr>\n",
       "      <th>5</th>\n",
       "      <td>Median Cumulative DOIs Count</td>\n",
       "      <td>0.0</td>\n",
       "    </tr>\n",
       "  </tbody>\n",
       "</table>\n",
       "</div>"
      ],
      "text/plain": [
       "                      Statistics  Values\n",
       "0    Mean DOIs per PhD candidate     5.2\n",
       "1  Median DOIs per PhD candidate     7.0\n",
       "2        Mean Found Contributors     0.6\n",
       "3      Median Found Contributors     0.0\n",
       "4     Mean Cumulative DOIs Count     1.8\n",
       "5   Median Cumulative DOIs Count     0.0"
      ]
     },
     "execution_count": 212,
     "metadata": {},
     "output_type": "execute_result"
    }
   ],
   "source": [
    "mean_dois_per_author = df_clean['DOIs count'].mean()\n",
    "median_dois_per_author = df_clean['DOIs count'].median()\n",
    "\n",
    "mean_found_contributors = df_clean['Number of contributors with DOIs found in OpenAlex'].mean()\n",
    "median_found_contributors = df_clean['Number of contributors with DOIs found in OpenAlex'].median()\n",
    "\n",
    "mean_cumulative_dois_count = df_clean['Cumulative found Contributor DOIs count'].mean()\n",
    "median_cumulative_dois_count = df_clean['Cumulative found Contributor DOIs count'].median()\n",
    "\n",
    "summary_data = {\n",
    "    'Statistics': ['Mean DOIs per PhD candidate', 'Median DOIs per PhD candidate',\n",
    "                   'Mean Found Contributors', 'Median Found Contributors',\n",
    "                   'Mean Cumulative DOIs Count', 'Median Cumulative DOIs Count'],\n",
    "    'Values': [mean_dois_per_author, median_dois_per_author,\n",
    "               mean_found_contributors, median_found_contributors,\n",
    "               mean_cumulative_dois_count, median_cumulative_dois_count]\n",
    "}\n",
    "\n",
    "summary_df = pd.DataFrame(summary_data)\n",
    "\n",
    "summary_df"
   ]
  },
  {
   "cell_type": "code",
   "execution_count": 173,
   "id": "af79c60f",
   "metadata": {
    "executionInfo": {
     "elapsed": 229,
     "status": "ok",
     "timestamp": 1714350502720,
     "user": {
      "displayName": "Ala Bilińska",
      "userId": "15744202938494964459"
     },
     "user_tz": -120
    },
    "id": "af79c60f"
   },
   "outputs": [],
   "source": [
    "# df_clean.to_csv('complete_extraction.csv', index=False)"
   ]
  }
 ],
 "metadata": {
  "colab": {
   "provenance": [
    {
     "file_id": "1IM4t92dDxS0x-QUFpU3lglWWYjaqrSch",
     "timestamp": 1714352373547
    }
   ]
  },
  "kernelspec": {
   "display_name": "Python 3",
   "language": "python",
   "name": "python3"
  },
  "language_info": {
   "codemirror_mode": {
    "name": "ipython",
    "version": 3
   },
   "file_extension": ".py",
   "mimetype": "text/x-python",
   "name": "python",
   "nbconvert_exporter": "python",
   "pygments_lexer": "ipython3",
   "version": "3.8.8"
  }
 },
 "nbformat": 4,
 "nbformat_minor": 5
}
