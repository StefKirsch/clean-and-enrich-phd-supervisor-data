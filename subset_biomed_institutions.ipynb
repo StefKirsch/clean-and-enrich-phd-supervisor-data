{
 "cells": [
  {
   "cell_type": "markdown",
   "metadata": {},
   "source": [
    "# Subset dataset to publications from Medical institutions only \n",
    "\n",
    "## Load dependencies"
   ]
  },
  {
   "cell_type": "code",
   "execution_count": null,
   "metadata": {},
   "outputs": [],
   "source": [
    "import pandas as pd\n",
    "import numpy as np\n",
    "from datetime import datetime, timedelta"
   ]
  },
  {
   "cell_type": "markdown",
   "metadata": {},
   "source": [
    "## Settings"
   ]
  },
  {
   "cell_type": "code",
   "execution_count": null,
   "metadata": {},
   "outputs": [],
   "source": [
    "# limit the number of rows that are shown with printing dataframes\n",
    "pd.set_option('display.max_rows', 5)"
   ]
  },
  {
   "cell_type": "code",
   "execution_count": null,
   "metadata": {},
   "outputs": [],
   "source": [
    "pubs = pd.read_csv(\"data/cleaned/pubs.csv\")\n",
    "\n",
    "pubs"
   ]
  },
  {
   "cell_type": "markdown",
   "metadata": {},
   "source": [
    "### Filter for biomedical institutions"
   ]
  },
  {
   "cell_type": "code",
   "execution_count": null,
   "metadata": {},
   "outputs": [],
   "source": [
    "biomedical = ['amcpub', 'lumc', 'vumc', 'umcu'] \n",
    "pubs_biomed = pubs[pubs['institution'].isin(biomedical)].reset_index(drop=True)\n",
    "\n",
    "pubs_biomed"
   ]
  },
  {
   "cell_type": "markdown",
   "metadata": {},
   "source": [
    "### Filter out recent publications\n",
    "\n",
    "We don't want to go too far back in time, where reporting might be too spotty to have reliable data. So we only go back 5 years from the reporting date and filter the dataset by that."
   ]
  },
  {
   "cell_type": "code",
   "execution_count": null,
   "metadata": {},
   "outputs": [],
   "source": [
    "# define reporting date. We include publications that are at least 5 years old from this date.\n",
    "\n",
    "# checked if using June, July or August 1st makes a difference and it does not. \n",
    "# We get still include the same amount of publications <3\n",
    "date_str = \"01-07-2024\"\n",
    "reporting_date = datetime.strptime(date_str, \"%d-%m-%Y\")\n",
    "\n",
    "# convert `year` column to datetime so we can use datetime operations on it\n",
    "pubs_biomed['year'] = pd.to_datetime(pubs_biomed['year'], format='%Y')\n",
    "    \n",
    "date_5_years_ago = reporting_date - timedelta(days=5*365)\n",
    "pubs_recent = pubs_biomed[pubs_biomed['year'] >= date_5_years_ago].reset_index(drop=True)\n",
    "\n",
    "pubs_recent"
   ]
  },
  {
   "cell_type": "markdown",
   "metadata": {},
   "source": [
    "### Additional cleaning"
   ]
  },
  {
   "cell_type": "markdown",
   "metadata": {},
   "source": [
    "Replace values that start with illegal strings with `nan` "
   ]
  },
  {
   "cell_type": "code",
   "execution_count": null,
   "metadata": {},
   "outputs": [],
   "source": [
    "illegal_startswith = [',', 'Surgery'] # unclear why we should remove Surgery. But keep it in the early August release\n",
    "\n",
    "def illegal_startswith2nan(value):\n",
    "    value_str = str(value)\n",
    "    if any(value_str.startswith(word) for word in illegal_startswith):\n",
    "        return np.nan\n",
    "    return value\n",
    "\n",
    "pubs_wo_illegal_startswith = pubs_recent.map(illegal_startswith2nan)\n",
    "\n",
    "pubs_wo_illegal_startswith"
   ]
  },
  {
   "cell_type": "code",
   "execution_count": null,
   "metadata": {},
   "outputs": [],
   "source": [
    "# identify rows where ALL contributor rows are nan\n",
    "contributor_nan_rows = pubs_wo_illegal_startswith.filter(like='contributor').isnull().all(axis=1)\n",
    "\n",
    "# ... and remove them\n",
    "pups_has_contrib = pubs_wo_illegal_startswith[~contributor_nan_rows].reset_index(drop=True)\n",
    "\n",
    "pups_has_contrib"
   ]
  },
  {
   "cell_type": "markdown",
   "metadata": {},
   "source": [
    "Make sure every publication has a continious list of contributors without nan gaps. To do this, promote contributors that have a `NaN` contributor higher to them, so that there are no `NaN` contributors higher than non-`NaN` contributors."
   ]
  },
  {
   "cell_type": "code",
   "execution_count": null,
   "metadata": {},
   "outputs": [],
   "source": [
    "pups_continious_contrib = pups_has_contrib\n",
    "\n",
    "contributor_columns = [col for col in pups_continious_contrib.columns if col.startswith('contributor_')]\n",
    "\n",
    "for index, row in pups_continious_contrib.iterrows():\n",
    "    for i in range(1, len(contributor_columns)-1):\n",
    "        current_col = 'contributor_' + str(i)\n",
    "        next_col = 'contributor_' + str(i + 1)\n",
    "        \n",
    "        # Check if current column is NaN and next column is not NaN\n",
    "        if pd.isna(row[current_col]) and not pd.isna(row[next_col]):\n",
    "            print(row)\n",
    "            # Replace current column with next column and set next column to NaN\n",
    "            pups_continious_contrib.at[index, current_col] = row[next_col]\n",
    "            pups_continious_contrib.at[index, next_col] = np.nan\n",
    "            \n",
    "            \n",
    "pups_continious_contrib"
   ]
  },
  {
   "cell_type": "markdown",
   "metadata": {},
   "source": [
    "### Drop NaN rows and duplicates"
   ]
  },
  {
   "cell_type": "code",
   "execution_count": null,
   "metadata": {},
   "outputs": [],
   "source": [
    "pups_cleaned = pups_continious_contrib\n",
    "pups_cleaned = pups_cleaned.dropna(subset=['author_name', 'title', 'contributor_1'])\n",
    "\n",
    "pups_cleaned = pups_cleaned.drop_duplicates(subset=['author_name'], keep='last').reset_index(drop = True)\n",
    "\n",
    "pups_cleaned"
   ]
  },
  {
   "cell_type": "markdown",
   "metadata": {},
   "source": [
    "### Save to CSV - USE IN `Open_Alex_Final.ipynb`"
   ]
  },
  {
   "cell_type": "code",
   "execution_count": null,
   "metadata": {},
   "outputs": [],
   "source": [
    "pups_cleaned.to_csv('data/cleaned/biomedical_pubs.csv', index=False)"
   ]
  }
 ],
 "metadata": {
  "language_info": {
   "name": "python"
  }
 },
 "nbformat": 4,
 "nbformat_minor": 2
}
