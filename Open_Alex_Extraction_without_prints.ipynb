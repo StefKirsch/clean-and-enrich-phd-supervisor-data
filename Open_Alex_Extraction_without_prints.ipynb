{
 "cells": [
  {
   "cell_type": "markdown",
   "id": "523408ec",
   "metadata": {},
   "source": [
    "### The final version of the code, with additional global variables for visualization purposes, more accurate graph descriptions and more extensive comments may be found in `Open_Alex_Extraction_Final.ipynb`"
   ]
  },
  {
   "cell_type": "code",
   "execution_count": 1,
   "id": "4eb2a6c9",
   "metadata": {
    "executionInfo": {
     "elapsed": 677,
     "status": "ok",
     "timestamp": 1714350003657,
     "user": {
      "displayName": "Ala Bilińska",
      "userId": "15744202938494964459"
     },
     "user_tz": -120
    },
    "id": "4eb2a6c9"
   },
   "outputs": [],
   "source": [
    "from pyalex import Works, Authors, Sources, Institutions, Topics, Publishers, Funders, Concepts\n",
    "import pandas as pd\n",
    "import numpy as np\n",
    "import urllib.parse\n",
    "import re\n",
    "from tqdm import tqdm\n",
    "import matplotlib.pyplot as plt"
   ]
  },
  {
   "cell_type": "code",
   "execution_count": 2,
   "id": "f97d84e3",
   "metadata": {
    "colab": {
     "base_uri": "https://localhost:8080/"
    },
    "executionInfo": {
     "elapsed": 15977,
     "status": "ok",
     "timestamp": 1714349999357,
     "user": {
      "displayName": "Ala Bilińska",
      "userId": "15744202938494964459"
     },
     "user_tz": -120
    },
    "id": "f97d84e3",
    "outputId": "ed71babe-9c6a-4eae-aedf-1c937338741f"
   },
   "outputs": [],
   "source": [
    "# !pip install pyalex # uncomment to install"
   ]
  },
  {
   "cell_type": "code",
   "execution_count": 3,
   "id": "930e1ea4",
   "metadata": {
    "executionInfo": {
     "elapsed": 269,
     "status": "ok",
     "timestamp": 1714350010090,
     "user": {
      "displayName": "Ala Bilińska",
      "userId": "15744202938494964459"
     },
     "user_tz": -120
    },
    "id": "930e1ea4"
   },
   "outputs": [],
   "source": [
    "# ANSI escape codes for colors\n",
    "GREEN = '\\033[92m'\n",
    "RED = '\\033[91m'\n",
    "YELLOW = '\\033[93m'\n",
    "BLUE = '\\033[94m'\n",
    "RESET = '\\033[0m'\n",
    "MAGENTA = '\\033[35m'\n",
    "CYAN = '\\033[36m'"
   ]
  },
  {
   "cell_type": "markdown",
   "id": "009e6413",
   "metadata": {
    "id": "009e6413"
   },
   "source": [
    "## Reading (and sampling) the data"
   ]
  },
  {
   "cell_type": "markdown",
   "id": "345bac40",
   "metadata": {
    "id": "345bac40"
   },
   "source": [
    "`biomedical_data.csv` is a subset of the original dataset containing publications __from the last 5 years__ and from __biomedical institutions only__ - amcpub, lumc, vumc, umcu. It contains 1856 records."
   ]
  },
  {
   "cell_type": "code",
   "execution_count": 4,
   "id": "d2627249",
   "metadata": {
    "executionInfo": {
     "elapsed": 234,
     "status": "ok",
     "timestamp": 1714350167707,
     "user": {
      "displayName": "Ala Bilińska",
      "userId": "15744202938494964459"
     },
     "user_tz": -120
    },
    "id": "d2627249"
   },
   "outputs": [],
   "source": [
    "df = pd.read_csv(\"biomedical_data.csv\")\n",
    "sampled_df = df.sample(n=20, random_state=42)\n",
    "# sampled_df = df"
   ]
  },
  {
   "cell_type": "code",
   "execution_count": 5,
   "id": "d048e5b2",
   "metadata": {
    "executionInfo": {
     "elapsed": 230,
     "status": "ok",
     "timestamp": 1714350179963,
     "user": {
      "displayName": "Ala Bilińska",
      "userId": "15744202938494964459"
     },
     "user_tz": -120
    },
    "id": "d048e5b2"
   },
   "outputs": [],
   "source": [
    "def author_title_pairs_lst(df):\n",
    "    tuples_list = []                                             # create pairs (author, title) for each row of the df\n",
    "    for index, row in df.iterrows():\n",
    "        tuple_values = (row['author_name'], row['title'])\n",
    "        tuples_list.append(tuple_values)\n",
    "    return tuples_list\n",
    "\n",
    "def contributors_lst(df):\n",
    "    contributors_list = []                                       # create lists of contributors for each row of the df\n",
    "    for index, row in df.iloc[:, 7:18].iterrows():\n",
    "        contributors = []\n",
    "        for value in row:\n",
    "            if type(value) != float:\n",
    "                contributors.append(value)\n",
    "        contributors_list.append(contributors)\n",
    "    return contributors_list"
   ]
  },
  {
   "cell_type": "code",
   "execution_count": 6,
   "id": "c408f575",
   "metadata": {
    "executionInfo": {
     "elapsed": 352,
     "status": "ok",
     "timestamp": 1714350181579,
     "user": {
      "displayName": "Ala Bilińska",
      "userId": "15744202938494964459"
     },
     "user_tz": -120
    },
    "id": "c408f575"
   },
   "outputs": [],
   "source": [
    "author_title_pairs = author_title_pairs_lst(sampled_df)\n",
    "contributors_list = contributors_lst(sampled_df)"
   ]
  },
  {
   "cell_type": "markdown",
   "id": "cf9986ca",
   "metadata": {
    "id": "cf9986ca"
   },
   "source": [
    "## Find the author"
   ]
  },
  {
   "cell_type": "markdown",
   "id": "0fb7238d",
   "metadata": {
    "id": "0fb7238d"
   },
   "source": [
    "#### Get pubs from our df"
   ]
  },
  {
   "cell_type": "code",
   "execution_count": 7,
   "id": "b3701e53",
   "metadata": {
    "executionInfo": {
     "elapsed": 272,
     "status": "ok",
     "timestamp": 1714350220976,
     "user": {
      "displayName": "Ala Bilińska",
      "userId": "15744202938494964459"
     },
     "user_tz": -120
    },
    "id": "b3701e53"
   },
   "outputs": [],
   "source": [
    "def get_name(row):                                                     # needs a row of the pubs df\n",
    "    author = author_title_pairs[row][0]\n",
    "    if \",\" not in author:\n",
    "        surname = author.split(\" \")[0]\n",
    "        initials = author.split(\" \")[1].strip()\n",
    "    else:\n",
    "        surname = author.split(\",\")[0]\n",
    "        initials = author.split(\",\")[1].strip()\n",
    "    matched_initials = re.findall(r'\\b[A-Z](?:\\.[A-Z])\\b', initials)   # adding space between initials if there is no\n",
    "    if len(matched_initials)>0 and len(matched_initials[0])>2:         # essential transformation if authors cannot be matched\n",
    "        initials_list = list(initials)                                 # with found title\n",
    "        for initial in initials_list:\n",
    "            if initial == \".\":\n",
    "                initials_list.remove(initial)\n",
    "        name = \"\"\n",
    "        for initial in initials_list:\n",
    "            name += initial + \". \"\n",
    "        name += surname\n",
    "    else:\n",
    "        name = initials + \" \" + surname\n",
    "    return name\n",
    "\n",
    "def get_name_without_spaces(row):                                      # name as it is in the pubs df\n",
    "    author = author_title_pairs[row][0]\n",
    "    if \",\" not in author:\n",
    "        surname = author.split(\" \")[0]\n",
    "        initials = author.split(\" \")[1].strip()\n",
    "    else:\n",
    "        surname = author.split(\",\")[0]\n",
    "        initials = author.split(\",\")[1].strip()\n",
    "    name = initials + \" \" + surname\n",
    "    return name"
   ]
  },
  {
   "cell_type": "code",
   "execution_count": 8,
   "id": "d6abbb7e",
   "metadata": {
    "executionInfo": {
     "elapsed": 298,
     "status": "ok",
     "timestamp": 1714350221921,
     "user": {
      "displayName": "Ala Bilińska",
      "userId": "15744202938494964459"
     },
     "user_tz": -120
    },
    "id": "d6abbb7e"
   },
   "outputs": [],
   "source": [
    "def title_transform(row):\n",
    "    title = author_title_pairs[row][1]\n",
    "    replace_dict = {'&': '', ',': ''}\n",
    "    for k,v in replace_dict.items():\n",
    "        title = title.replace(k,v)\n",
    "    title = urllib.parse.quote(title)\n",
    "    return title"
   ]
  },
  {
   "cell_type": "markdown",
   "id": "54eea96e",
   "metadata": {
    "id": "54eea96e"
   },
   "source": [
    "#### Confirm the author"
   ]
  },
  {
   "cell_type": "code",
   "execution_count": 9,
   "id": "02257fc0",
   "metadata": {
    "executionInfo": {
     "elapsed": 3,
     "status": "ok",
     "timestamp": 1714350221921,
     "user": {
      "displayName": "Ala Bilińska",
      "userId": "15744202938494964459"
     },
     "user_tz": -120
    },
    "id": "02257fc0"
   },
   "outputs": [],
   "source": [
    "def confirm_author(row):                                                 # match to existing work, if not found, search by name\n",
    "\n",
    "    author_id = ''\n",
    "\n",
    "    try:\n",
    "        query = Works().search_filter(title=title_transform(row)).get()\n",
    "\n",
    "        if query == []:\n",
    "            return \"Title not matched\"    # based on name\n",
    "\n",
    "#         print(f'{len(query)} match(es) for the title found')\n",
    "        for response in query:\n",
    "            found = False\n",
    "#             if response[\"authorships\"] == []:\n",
    "#                 print(\"No record of author for this title\")\n",
    "            for author in response[\"authorships\"]:\n",
    "                if author[\"author\"][\"display_name\"] == get_name(row):    # first try matching on \"raw\" name\n",
    "#                     print(MAGENTA + \"Author found! - {}\".format(get_name(row)) + RESET)\n",
    "                    author_id = author[\"author\"][\"id\"]\n",
    "                    found = True\n",
    "                if found == False:                                       # raw name matches based on the exact same string\n",
    "                    q = Authors()[author[\"author\"][\"id\"]]                # if not found check with ID\n",
    "                    if (q[\"display_name\"] == get_name(row) or get_name(row) in q[\"display_name_alternatives\"]) or (q[\"display_name\"] == get_name_without_spaces(row) or get_name_without_spaces(row) in q[\"display_name_alternatives\"]):\n",
    "#                         print(YELLOW + \"Author found! - {}\".format(get_name(row)) + RESET)\n",
    "                        author_id = author[\"author\"][\"id\"]\n",
    "                        found = True\n",
    "                    if (q[\"display_name\"].lower() == get_name(row).lower() or q[\"display_name\"].lower() == get_name_without_spaces(row).lower()):\n",
    "#                         print(YELLOW + \"Author found! - {}\".format(get_name(row)) + RESET)\n",
    "                        author_id = author[\"author\"][\"id\"]\n",
    "                        found = True\n",
    "                    if q[\"display_name_alternatives\"] != []:\n",
    "                        for n in q[\"display_name_alternatives\"]:\n",
    "                            if (n.lower() == get_name(row).lower() or n.lower() == get_name_without_spaces(row).lower()):\n",
    "#                                 print(YELLOW + \"Author found! - {}\".format(get_name(row)) + RESET)\n",
    "                                author_id = author[\"author\"][\"id\"]\n",
    "                                found = True\n",
    "#                     if found == False:\n",
    "#                         print(\"Could not match {} to {}\".format(get_name(row), q[\"display_name_alternatives\"]))\n",
    "                if found:\n",
    "                    break\n",
    "            if found:\n",
    "                break\n",
    "\n",
    "\n",
    "    except Exception as e:\n",
    "        print(\"An unexpected error occurred:\", e)\n",
    "\n",
    "\n",
    "    if author_id != '':\n",
    "        return author_id\n",
    "    if author_id == None:\n",
    "        return \"Confirming author not successful\"\n",
    "    else:\n",
    "        return \"Confirming author not successful\""
   ]
  },
  {
   "cell_type": "code",
   "execution_count": 10,
   "id": "5597de30",
   "metadata": {
    "executionInfo": {
     "elapsed": 309,
     "status": "ok",
     "timestamp": 1714350222523,
     "user": {
      "displayName": "Ala Bilińska",
      "userId": "15744202938494964459"
     },
     "user_tz": -120
    },
    "id": "5597de30"
   },
   "outputs": [],
   "source": [
    "def title_DOI(row, confirmed_id):                                         # returns DOI of the title if the author is matched\n",
    "                                                                          # based on that title\n",
    "    DOIs = []\n",
    "\n",
    "    if confirmed_id not in [\"Confirming author not successful\", \"Title not matched\"]:\n",
    "        query = Works().search_filter(title=title_transform(row)).get()\n",
    "        for response in query:\n",
    "            DOIs.append(response[\"doi\"])\n",
    "\n",
    "    return DOIs"
   ]
  },
  {
   "cell_type": "code",
   "execution_count": 11,
   "id": "d99880ef",
   "metadata": {
    "executionInfo": {
     "elapsed": 220,
     "status": "ok",
     "timestamp": 1714352126309,
     "user": {
      "displayName": "Ala Bilińska",
      "userId": "15744202938494964459"
     },
     "user_tz": -120
    },
    "id": "d99880ef"
   },
   "outputs": [],
   "source": [
    "def get_author_id(row):                                                   # returns final author ID\n",
    "\n",
    "    confirmed_id = confirm_author(row)\n",
    "\n",
    "    if confirmed_id not in [\"Confirming author not successful\", \"Title not matched\"]:\n",
    "        return confirmed_id\n",
    "\n",
    "    query = Authors().search_filter(display_name=get_name(row)).get()\n",
    "\n",
    "    if query == []:\n",
    "        query = Authors().search_filter(display_name=get_name_without_spaces(row)).get()\n",
    "\n",
    "    end_message = confirmed_id\n",
    "    confirmed_id = ''\n",
    "\n",
    "#     print(\"{} match(es) for the author found\".format(len(query)))\n",
    "    for response in query:\n",
    "        found = False\n",
    "        if (response[\"display_name\"] == get_name(row) or get_name(row) in response[\"display_name_alternatives\"]) or (response[\"display_name\"] == get_name_without_spaces(row) or get_name_without_spaces(row) in response[\"display_name_alternatives\"]):\n",
    "#             print(BLUE + \"Author found! - {}\".format(get_name(row)) + RESET)\n",
    "            confirmed_id = response[\"id\"]\n",
    "            found = True\n",
    "        else:                                                               # many other cases ! - DOUBLE SURNAMES - NOT CLEAR WAY TO HANDLE (193 on rs 42)\n",
    "            if get_name(row).lower() == response[\"display_name\"].lower():\n",
    "#                 print(CYAN + \"Author found! - {}\".format(get_name(row)) + RESET)\n",
    "                confirmed_id = response[\"id\"]\n",
    "                found = True\n",
    "            normalized_name1 = ' '.join(sorted(get_name(row).split()))\n",
    "            normalized_name2 = ' '.join(sorted(response[\"display_name\"].split()))\n",
    "            if normalized_name1 == normalized_name2:\n",
    "#                 print(CYAN + \"Author found! - {}\".format(get_name(row)) + RESET)\n",
    "                confirmed_id = response[\"id\"]\n",
    "                found = True\n",
    "        if found:\n",
    "            break\n",
    "\n",
    "    if confirmed_id != '':\n",
    "        return confirmed_id\n",
    "    else:\n",
    "        return \"Author (probably) not in Open Alex database\"                 # OR AUTHOR NOT MATCHED !"
   ]
  },
  {
   "cell_type": "markdown",
   "id": "2721c817",
   "metadata": {
    "id": "2721c817"
   },
   "source": [
    "Output colors:\n",
    "\n",
    "__Magenta__ - author found in OpenAlex authors based on matched title\n",
    "\n",
    "__Yellow__ - author found in OpenAlex authors based on matched title, for alternative version of author's name\n",
    "\n",
    "__Blue__ - author found in OpenAlex authors\n",
    "\n",
    "__Cyan__ - alternative version of author's name (likely the author) found in OpenAlex authors"
   ]
  },
  {
   "cell_type": "markdown",
   "id": "7ccae144",
   "metadata": {
    "id": "7ccae144"
   },
   "source": [
    "## Get DOIs for the author"
   ]
  },
  {
   "cell_type": "markdown",
   "id": "8de98dec",
   "metadata": {
    "id": "8de98dec"
   },
   "source": [
    "Not every work in Open Alex has a DOI, thus the returned list of DOIs may be shorter than the number of papers where the author was the first author. The DOI of the work that is already in pubs dataframe is also not included in the list - __only new DOIs are returned__."
   ]
  },
  {
   "cell_type": "code",
   "execution_count": 12,
   "id": "19b887eb",
   "metadata": {
    "executionInfo": {
     "elapsed": 379,
     "status": "ok",
     "timestamp": 1714352133371,
     "user": {
      "displayName": "Ala Bilińska",
      "userId": "15744202938494964459"
     },
     "user_tz": -120
    },
    "id": "19b887eb"
   },
   "outputs": [],
   "source": [
    "def author_DOIs(row):\n",
    "\n",
    "    author_id = get_author_id(row)\n",
    "    if author_id == \"Author (probably) not in Open Alex database\":\n",
    "#         print(RED + \"Cannot be resolved\" + RESET)\n",
    "        return author_id\n",
    "    initial_doi = title_DOI(row, author_id)\n",
    "\n",
    "    result = Works().filter(authorships={\"author\": {\"id\": author_id}}).get()\n",
    "#     print(\"Number of papers where the author was credited: {}\".format(len(result)))\n",
    "\n",
    "    DOIs = []\n",
    "\n",
    "    i = 0\n",
    "    for w in result:\n",
    "        if w[\"authorships\"][0][\"author\"][\"id\"] == author_id:\n",
    "            i += 1\n",
    "            if w[\"doi\"] != None and w[\"doi\"] not in initial_doi:\n",
    "                DOIs.append(w[\"doi\"])\n",
    "\n",
    "#     print(\"Number of papers where the author was the first author: {}\".format(i))\n",
    "\n",
    "    if DOIs == []:\n",
    "        return \"No DOIs for the author found\"\n",
    "    else:\n",
    "        return DOIs"
   ]
  },
  {
   "cell_type": "markdown",
   "id": "f2567325",
   "metadata": {
    "id": "f2567325"
   },
   "source": [
    "## Get DOIs for the contributors"
   ]
  },
  {
   "cell_type": "markdown",
   "id": "b77398bb",
   "metadata": {
    "id": "b77398bb"
   },
   "source": [
    "#### Transform contributors' names"
   ]
  },
  {
   "cell_type": "code",
   "execution_count": 13,
   "id": "581d6532",
   "metadata": {
    "executionInfo": {
     "elapsed": 26,
     "status": "ok",
     "timestamp": 1714350254857,
     "user": {
      "displayName": "Ala Bilińska",
      "userId": "15744202938494964459"
     },
     "user_tz": -120
    },
    "id": "581d6532"
   },
   "outputs": [],
   "source": [
    "def contributors_transformed(row):                                             # with space\n",
    "\n",
    "    contributors = contributors_list[row]\n",
    "    transformed_names = []\n",
    "\n",
    "    for contribtor in contributors:\n",
    "        surname = contribtor.split(\",\")[0]\n",
    "        initials = contribtor.split(\",\")[1].strip()\n",
    "        matched_initials = re.findall(r'\\b[A-Z](?:\\.[A-Z])\\b', initials)\n",
    "        if len(matched_initials)>0 and len(matched_initials[0])>2:\n",
    "            initials_list = list(initials)\n",
    "            for initial in initials_list:\n",
    "                if initial == \".\":\n",
    "                    initials_list.remove(initial)\n",
    "            name = \"\"\n",
    "            for initial in initials_list:\n",
    "                name += initial + \". \"\n",
    "            name += surname\n",
    "        else:\n",
    "            name = initials + \" \" + surname\n",
    "        transformed_names.append(name)\n",
    "\n",
    "    return transformed_names\n",
    "\n",
    "def contributors_original(row):                                                # as originally in the data\n",
    "                                                                               # will be used when the transformed names won't\n",
    "    contributors = contributors_list[row]                                      # match\n",
    "    transformed_names = []\n",
    "\n",
    "    for contribtor in contributors:\n",
    "        surname = contribtor.split(\",\")[0]\n",
    "        initials = contribtor.split(\",\")[1].strip()\n",
    "        name = initials + \" \" + surname\n",
    "        transformed_names.append(name)\n",
    "\n",
    "    return transformed_names"
   ]
  },
  {
   "cell_type": "markdown",
   "id": "627f6e68",
   "metadata": {
    "id": "627f6e68"
   },
   "source": [
    "#### Find contributors (get IDs)"
   ]
  },
  {
   "cell_type": "code",
   "execution_count": 14,
   "id": "8c8b7132",
   "metadata": {
    "executionInfo": {
     "elapsed": 25,
     "status": "ok",
     "timestamp": 1714350254858,
     "user": {
      "displayName": "Ala Bilińska",
      "userId": "15744202938494964459"
     },
     "user_tz": -120
    },
    "id": "8c8b7132"
   },
   "outputs": [],
   "source": [
    "def get_contributors_ids(row):                                                 # returns a list of tuples of contributors and\n",
    "                                                                               # their corresponding confirmed ids\n",
    "    contributors = contributors_transformed(row)\n",
    "    original_contributors = contributors_original(row)\n",
    "    contributors_ids = []\n",
    "\n",
    "    for contributor, og_contributor in zip(contributors, original_contributors):\n",
    "#         print(\"Matching {}...\".format(contributor))\n",
    "        found = False\n",
    "        response_list = []\n",
    "        query = Authors().search_filter(display_name=contributor).get()        # 2 queries everytime could be too comp expens.\n",
    "        if query == []:                                                        # check the difference?\n",
    "            query = Authors().search_filter(display_name=og_contributor).get()\n",
    "        if query == []:\n",
    "#             print(RED + \"        Cannot be resolved: \" + RESET + \"Could not find the author {}\".format(contributor))\n",
    "#         else:\n",
    "#             print(\"        Found {} matches for {}\".format(len(query), contributor))\n",
    "            for i, response in enumerate(query):\n",
    "#                 print(\"          {}:\".format(i+1))\n",
    "                if (response[\"display_name\"] == contributor or contributor in response[\"display_name_alternatives\"]) or (response[\"display_name\"] == og_contributor or og_contributor in response[\"display_name_alternatives\"]):\n",
    "#                     print(BLUE + \"            Contributor found! - {}\".format(contributor) + RESET)\n",
    "                    contributors_ids.append((contributor, response[\"id\"]))\n",
    "                    found = True\n",
    "                else:\n",
    "                    if contributor.lower() == response[\"display_name\"].lower():\n",
    "#                         print(CYAN + \"            Contributor found! - {}\".format(contributor) + RESET)\n",
    "                        contributors_ids.append((contributor, response[\"id\"]))\n",
    "                        found = True\n",
    "                if found == False:\n",
    "                    if response[\"affiliations\"] == []:\n",
    "                        print(RED + \"            No affiliations with institutions - unable to match\" + RESET)\n",
    "                    else:\n",
    "                        for institution in response[\"affiliations\"]:\n",
    "                            if institution[\"institution\"][\"country_code\"] == \"NL\":\n",
    "#                                 print(\"            {} associated with {}, NL\".format(response[\"display_name\"], institution[\"institution\"][\"display_name\"]))\n",
    "#                                 print(\"            {} maybe associated with {}\".format(contributor, response[\"display_name\"]))\n",
    "#                                 print(MAGENTA + \"            Requires manual check to confirm\" + RESET)\n",
    "                                if (\"MANUAL CHECK: if {} (target) is {} (found)\".format(contributor, response[\"display_name\"]), response[\"id\"]) not in contributors_ids:\n",
    "                                    response_list.append((\"MANUAL CHECK: if {} (target) is {} (found)\".format(contributor, response[\"display_name\"]), response[\"id\"]))\n",
    "#                             else:\n",
    "#                                 print(RED + \"            No NL institution - unlikely to be the match\" + RESET)\n",
    "                if found:\n",
    "                    break\n",
    "                if i == len(query)-1:\n",
    "                    contributors_ids.extend(response_list)\n",
    "\n",
    "    if contributors_ids == []:\n",
    "        return \"None of the contributors is in Open Alex database\"\n",
    "    else:\n",
    "        return contributors_ids"
   ]
  },
  {
   "cell_type": "markdown",
   "id": "49e0d1d9",
   "metadata": {
    "id": "49e0d1d9"
   },
   "source": [
    "### Get DOIs"
   ]
  },
  {
   "cell_type": "code",
   "execution_count": 15,
   "id": "6b985d0d",
   "metadata": {
    "executionInfo": {
     "elapsed": 25,
     "status": "ok",
     "timestamp": 1714350254859,
     "user": {
      "displayName": "Ala Bilińska",
      "userId": "15744202938494964459"
     },
     "user_tz": -120
    },
    "id": "6b985d0d"
   },
   "outputs": [],
   "source": [
    "def contributors_DOIs(row):\n",
    "\n",
    "    ids_list = get_contributors_ids(row)\n",
    "    confirmed = []\n",
    "    manual_check = []\n",
    "\n",
    "    for pair in ids_list:\n",
    "        if \"MANUAL CHECK\" in pair[0]:\n",
    "            if pair not in manual_check:\n",
    "                manual_check.append(pair)\n",
    "        else:\n",
    "            confirmed.append(pair)\n",
    "\n",
    "    if ids_list == \"None of the contributors is in Open Alex database\":\n",
    "        return ids_list\n",
    "\n",
    "\n",
    "    DOIs_dict = {}\n",
    "\n",
    "    for author in confirmed:\n",
    "        author_id = author[1]\n",
    "        result = Works().filter(authorships={\"author\": {\"id\": author_id}}).get()\n",
    "#         print()\n",
    "#         print(\"Searching works for {}...\".format(author[0]))\n",
    "#         print(\"        Number of papers where the contributor was credited as an author: {}\".format(len(result)))\n",
    "\n",
    "        DOIs = []\n",
    "\n",
    "        i = 0\n",
    "        for w in result:\n",
    "            if w[\"authorships\"][0][\"author\"][\"id\"] == author_id:\n",
    "                i += 1\n",
    "                if w[\"doi\"] != None:\n",
    "                    DOIs.append(w[\"doi\"])\n",
    "\n",
    "#         print(\"        Number of papers where the contributor was the first author: {}\".format(i))\n",
    "\n",
    "        if author[0] not in DOIs_dict:\n",
    "            DOIs_dict[author[0]] = DOIs\n",
    "\n",
    "    for author in manual_check:\n",
    "        author_id = author[1]\n",
    "        extract_name = re.search(r'if\\s+(.*?)\\s+is', author[0])\n",
    "        name = extract_name.group(1)\n",
    "        result = Works().filter(authorships={\"author\": {\"id\": author_id}}).get()\n",
    "#         print()\n",
    "#         print(\"Searching works for {}... - NOT CONFIRMED\".format(name))\n",
    "#         print(\"        Number of papers where the contributor was credited as an author: {}\".format(len(result)))\n",
    "\n",
    "        DOIs = []\n",
    "\n",
    "        i = 0\n",
    "        for w in result:\n",
    "            if w[\"authorships\"][0][\"author\"][\"id\"] == author_id:\n",
    "                i += 1\n",
    "                if w[\"doi\"] != None:\n",
    "                    DOIs.append(w[\"doi\"])\n",
    "\n",
    "        print(\"        Number of papers where the contributor was the first author: {}\".format(i))\n",
    "\n",
    "        name = name + \" - NOT CONFIRMED\"\n",
    "        if name not in DOIs_dict:\n",
    "            DOIs_dict[name] = DOIs\n",
    "\n",
    "\n",
    "    if DOIs_dict == {}:\n",
    "        return \"No DOIs for the associated contributors found\"\n",
    "\n",
    "    got_dois = False\n",
    "    for value in DOIs_dict.values():\n",
    "        if value != []:\n",
    "            got_dois = True\n",
    "    if got_dois:\n",
    "        return DOIs_dict\n",
    "    else:\n",
    "        return \"No DOIs for the associated contributors found\""
   ]
  },
  {
   "cell_type": "markdown",
   "id": "b682b323",
   "metadata": {
    "id": "b682b323"
   },
   "source": [
    "## Run on a subset"
   ]
  },
  {
   "cell_type": "markdown",
   "id": "e54da5f5",
   "metadata": {
    "id": "e54da5f5"
   },
   "source": [
    "Store the output in `dois_df`"
   ]
  },
  {
   "cell_type": "code",
   "execution_count": 16,
   "id": "sh-QQSEIPvR5",
   "metadata": {
    "colab": {
     "base_uri": "https://localhost:8080/"
    },
    "executionInfo": {
     "elapsed": 53877,
     "status": "ok",
     "timestamp": 1714352194508,
     "user": {
      "displayName": "Ala Bilińska",
      "userId": "15744202938494964459"
     },
     "user_tz": -120
    },
    "id": "sh-QQSEIPvR5",
    "outputId": "5705c67a-ab65-4151-ea76-32dd07ce7cf3"
   },
   "outputs": [
    {
     "name": "stderr",
     "output_type": "stream",
     "text": [
      "100%|██████████████████████████████████████████████████████████████████████████████████| 20/20 [03:53<00:00, 11.70s/it]\n"
     ]
    }
   ],
   "source": [
    "dois_data = []\n",
    "\n",
    "for i in tqdm(range(len(sampled_df))):\n",
    "    contributors = contributors_DOIs(i)\n",
    "    if contributors == \"None of the contributors is in Open Alex database\" or contributors == \"No DOIs for the associated contributors found\":\n",
    "        message_contributors = contributors\n",
    "        contributors = np.nan\n",
    "        contr_count = 0\n",
    "        contr_dois_count = 0\n",
    "    else:\n",
    "        contr_count = sum(1 for lst in contributors.values() if lst)\n",
    "        contr_dois_count = sum(len(lst) for lst in contributors.values())\n",
    "        message_contributors = np.nan\n",
    "\n",
    "    author_dois = author_DOIs(i)\n",
    "    if author_dois == \"Author (probably) not in Open Alex database\" or author_dois == \"No DOIs for the author found\":\n",
    "        message_author = author_dois\n",
    "        author_dois = np.nan\n",
    "        count = 0\n",
    "    else:\n",
    "        count = len(author_dois)\n",
    "        message_author = np.nan\n",
    "\n",
    "    data = {'Author': get_name_without_spaces(i), 'Author DOIs found in OpenAlex': author_dois, 'DOIs count': count, 'Contributors-DOIs Dictionary': contributors, 'Number of contributors with DOIs found in OpenAlex': contr_count, 'Cumulative found Contributor DOIs count': contr_dois_count, 'Why no DOIs for author': message_author, 'Why no DOIs for contributors': message_contributors}\n",
    "    dois_data.append(data)\n",
    "\n",
    "dois_df = pd.DataFrame(dois_data)"
   ]
  },
  {
   "cell_type": "code",
   "execution_count": 18,
   "id": "a7c21aaa",
   "metadata": {
    "colab": {
     "base_uri": "https://localhost:8080/",
     "height": 868
    },
    "executionInfo": {
     "elapsed": 227,
     "status": "ok",
     "timestamp": 1714352201846,
     "user": {
      "displayName": "Ala Bilińska",
      "userId": "15744202938494964459"
     },
     "user_tz": -120
    },
    "id": "a7c21aaa",
    "outputId": "9c3f5c77-8aa8-4b36-ad0a-bb28dac4d038"
   },
   "outputs": [
    {
     "data": {
      "text/html": [
       "<div>\n",
       "<style scoped>\n",
       "    .dataframe tbody tr th:only-of-type {\n",
       "        vertical-align: middle;\n",
       "    }\n",
       "\n",
       "    .dataframe tbody tr th {\n",
       "        vertical-align: top;\n",
       "    }\n",
       "\n",
       "    .dataframe thead th {\n",
       "        text-align: right;\n",
       "    }\n",
       "</style>\n",
       "<table border=\"1\" class=\"dataframe\">\n",
       "  <thead>\n",
       "    <tr style=\"text-align: right;\">\n",
       "      <th></th>\n",
       "      <th>Author</th>\n",
       "      <th>Author DOIs found in OpenAlex</th>\n",
       "      <th>DOIs count</th>\n",
       "      <th>Contributors-DOIs Dictionary</th>\n",
       "      <th>Number of contributors with DOIs found in OpenAlex</th>\n",
       "      <th>Cumulative found Contributor DOIs count</th>\n",
       "      <th>Why no DOIs for author</th>\n",
       "      <th>Why no DOIs for contributors</th>\n",
       "    </tr>\n",
       "  </thead>\n",
       "  <tbody>\n",
       "    <tr>\n",
       "      <th>0</th>\n",
       "      <td>Maxime D. Slooter</td>\n",
       "      <td>[https://doi.org/10.21037/jtd.2019.01.30, http...</td>\n",
       "      <td>13</td>\n",
       "      <td>NaN</td>\n",
       "      <td>0</td>\n",
       "      <td>0</td>\n",
       "      <td>NaN</td>\n",
       "      <td>None of the contributors is in Open Alex database</td>\n",
       "    </tr>\n",
       "    <tr>\n",
       "      <th>1</th>\n",
       "      <td>Patricia van Velzen</td>\n",
       "      <td>[https://doi.org/10.1016/s2213-2600(17)30165-0...</td>\n",
       "      <td>5</td>\n",
       "      <td>NaN</td>\n",
       "      <td>0</td>\n",
       "      <td>0</td>\n",
       "      <td>NaN</td>\n",
       "      <td>None of the contributors is in Open Alex database</td>\n",
       "    </tr>\n",
       "    <tr>\n",
       "      <th>2</th>\n",
       "      <td>Teele Kuusk</td>\n",
       "      <td>[https://doi.org/10.1186/s12894-015-0118-2, ht...</td>\n",
       "      <td>4</td>\n",
       "      <td>NaN</td>\n",
       "      <td>0</td>\n",
       "      <td>0</td>\n",
       "      <td>NaN</td>\n",
       "      <td>None of the contributors is in Open Alex database</td>\n",
       "    </tr>\n",
       "    <tr>\n",
       "      <th>3</th>\n",
       "      <td>Floor Groepenhoff</td>\n",
       "      <td>[https://doi.org/10.1186/s12880-020-00535-7, h...</td>\n",
       "      <td>8</td>\n",
       "      <td>NaN</td>\n",
       "      <td>0</td>\n",
       "      <td>0</td>\n",
       "      <td>NaN</td>\n",
       "      <td>None of the contributors is in Open Alex database</td>\n",
       "    </tr>\n",
       "    <tr>\n",
       "      <th>4</th>\n",
       "      <td>Michiel A. J. Luijten</td>\n",
       "      <td>[https://doi.org/10.1007/s11136-021-02861-x, h...</td>\n",
       "      <td>7</td>\n",
       "      <td>NaN</td>\n",
       "      <td>0</td>\n",
       "      <td>0</td>\n",
       "      <td>NaN</td>\n",
       "      <td>None of the contributors is in Open Alex database</td>\n",
       "    </tr>\n",
       "    <tr>\n",
       "      <th>5</th>\n",
       "      <td>Evelyne Jeannette Demkes</td>\n",
       "      <td>[https://doi.org/10.3389/fphar.2021.702326, ht...</td>\n",
       "      <td>2</td>\n",
       "      <td>NaN</td>\n",
       "      <td>0</td>\n",
       "      <td>0</td>\n",
       "      <td>NaN</td>\n",
       "      <td>None of the contributors is in Open Alex database</td>\n",
       "    </tr>\n",
       "    <tr>\n",
       "      <th>6</th>\n",
       "      <td>A. Zweerink</td>\n",
       "      <td>[https://doi.org/10.1161/circheartfailure.118....</td>\n",
       "      <td>13</td>\n",
       "      <td>NaN</td>\n",
       "      <td>0</td>\n",
       "      <td>0</td>\n",
       "      <td>NaN</td>\n",
       "      <td>None of the contributors is in Open Alex database</td>\n",
       "    </tr>\n",
       "    <tr>\n",
       "      <th>7</th>\n",
       "      <td>Casper Thomas Briels</td>\n",
       "      <td>NaN</td>\n",
       "      <td>0</td>\n",
       "      <td>NaN</td>\n",
       "      <td>0</td>\n",
       "      <td>0</td>\n",
       "      <td>Author (probably) not in Open Alex database</td>\n",
       "      <td>None of the contributors is in Open Alex database</td>\n",
       "    </tr>\n",
       "    <tr>\n",
       "      <th>8</th>\n",
       "      <td>Jiayi Pei</td>\n",
       "      <td>[https://doi.org/10.1186/s13148-021-01043-3, h...</td>\n",
       "      <td>6</td>\n",
       "      <td>NaN</td>\n",
       "      <td>0</td>\n",
       "      <td>0</td>\n",
       "      <td>NaN</td>\n",
       "      <td>None of the contributors is in Open Alex database</td>\n",
       "    </tr>\n",
       "    <tr>\n",
       "      <th>9</th>\n",
       "      <td>Sander Brinkhof</td>\n",
       "      <td>[https://doi.org/10.1007/s00330-017-5277-y, ht...</td>\n",
       "      <td>7</td>\n",
       "      <td>NaN</td>\n",
       "      <td>0</td>\n",
       "      <td>0</td>\n",
       "      <td>NaN</td>\n",
       "      <td>None of the contributors is in Open Alex database</td>\n",
       "    </tr>\n",
       "    <tr>\n",
       "      <th>10</th>\n",
       "      <td>A. Kamermans</td>\n",
       "      <td>[https://doi.org/10.1002/glia.23526, https://d...</td>\n",
       "      <td>3</td>\n",
       "      <td>NaN</td>\n",
       "      <td>0</td>\n",
       "      <td>0</td>\n",
       "      <td>NaN</td>\n",
       "      <td>None of the contributors is in Open Alex database</td>\n",
       "    </tr>\n",
       "    <tr>\n",
       "      <th>11</th>\n",
       "      <td>Gerdina Agatha Ruigrok</td>\n",
       "      <td>NaN</td>\n",
       "      <td>0</td>\n",
       "      <td>NaN</td>\n",
       "      <td>0</td>\n",
       "      <td>0</td>\n",
       "      <td>Author (probably) not in Open Alex database</td>\n",
       "      <td>None of the contributors is in Open Alex database</td>\n",
       "    </tr>\n",
       "    <tr>\n",
       "      <th>12</th>\n",
       "      <td>Marleentje Martha Nieboer</td>\n",
       "      <td>[https://doi.org/10.33540/696]</td>\n",
       "      <td>1</td>\n",
       "      <td>NaN</td>\n",
       "      <td>0</td>\n",
       "      <td>0</td>\n",
       "      <td>NaN</td>\n",
       "      <td>None of the contributors is in Open Alex database</td>\n",
       "    </tr>\n",
       "    <tr>\n",
       "      <th>13</th>\n",
       "      <td>Christian Gerardus Marinus van Dijk</td>\n",
       "      <td>[https://doi.org/10.1016/j.ijcard.2015.03.258,...</td>\n",
       "      <td>5</td>\n",
       "      <td>NaN</td>\n",
       "      <td>0</td>\n",
       "      <td>0</td>\n",
       "      <td>NaN</td>\n",
       "      <td>None of the contributors is in Open Alex database</td>\n",
       "    </tr>\n",
       "    <tr>\n",
       "      <th>14</th>\n",
       "      <td>J. Luo</td>\n",
       "      <td>[https://doi.org/10.1007/978-3-030-95388-1_8, ...</td>\n",
       "      <td>3</td>\n",
       "      <td>NaN</td>\n",
       "      <td>0</td>\n",
       "      <td>0</td>\n",
       "      <td>NaN</td>\n",
       "      <td>None of the contributors is in Open Alex database</td>\n",
       "    </tr>\n",
       "    <tr>\n",
       "      <th>15</th>\n",
       "      <td>Tim Daniël van Balkom</td>\n",
       "      <td>NaN</td>\n",
       "      <td>0</td>\n",
       "      <td>NaN</td>\n",
       "      <td>0</td>\n",
       "      <td>0</td>\n",
       "      <td>Author (probably) not in Open Alex database</td>\n",
       "      <td>None of the contributors is in Open Alex database</td>\n",
       "    </tr>\n",
       "    <tr>\n",
       "      <th>16</th>\n",
       "      <td>P.C. Perrin</td>\n",
       "      <td>NaN</td>\n",
       "      <td>0</td>\n",
       "      <td>NaN</td>\n",
       "      <td>0</td>\n",
       "      <td>0</td>\n",
       "      <td>Author (probably) not in Open Alex database</td>\n",
       "      <td>None of the contributors is in Open Alex database</td>\n",
       "    </tr>\n",
       "    <tr>\n",
       "      <th>17</th>\n",
       "      <td>Maarten R. Struyvenberg</td>\n",
       "      <td>[https://doi.org/10.1186/s12916-017-0783-y, ht...</td>\n",
       "      <td>8</td>\n",
       "      <td>NaN</td>\n",
       "      <td>0</td>\n",
       "      <td>0</td>\n",
       "      <td>NaN</td>\n",
       "      <td>None of the contributors is in Open Alex database</td>\n",
       "    </tr>\n",
       "    <tr>\n",
       "      <th>18</th>\n",
       "      <td>M. Blom</td>\n",
       "      <td>NaN</td>\n",
       "      <td>0</td>\n",
       "      <td>NaN</td>\n",
       "      <td>0</td>\n",
       "      <td>0</td>\n",
       "      <td>No DOIs for the author found</td>\n",
       "      <td>None of the contributors is in Open Alex database</td>\n",
       "    </tr>\n",
       "    <tr>\n",
       "      <th>19</th>\n",
       "      <td>Ignas Bernardus Houben</td>\n",
       "      <td>[https://doi.org/10.1007/s00590-018-2190-2, ht...</td>\n",
       "      <td>9</td>\n",
       "      <td>NaN</td>\n",
       "      <td>0</td>\n",
       "      <td>0</td>\n",
       "      <td>NaN</td>\n",
       "      <td>None of the contributors is in Open Alex database</td>\n",
       "    </tr>\n",
       "  </tbody>\n",
       "</table>\n",
       "</div>"
      ],
      "text/plain": [
       "                                 Author  \\\n",
       "0                     Maxime D. Slooter   \n",
       "1                   Patricia van Velzen   \n",
       "2                           Teele Kuusk   \n",
       "3                     Floor Groepenhoff   \n",
       "4                 Michiel A. J. Luijten   \n",
       "5              Evelyne Jeannette Demkes   \n",
       "6                           A. Zweerink   \n",
       "7                  Casper Thomas Briels   \n",
       "8                             Jiayi Pei   \n",
       "9                       Sander Brinkhof   \n",
       "10                         A. Kamermans   \n",
       "11               Gerdina Agatha Ruigrok   \n",
       "12            Marleentje Martha Nieboer   \n",
       "13  Christian Gerardus Marinus van Dijk   \n",
       "14                               J. Luo   \n",
       "15                Tim Daniël van Balkom   \n",
       "16                          P.C. Perrin   \n",
       "17              Maarten R. Struyvenberg   \n",
       "18                              M. Blom   \n",
       "19               Ignas Bernardus Houben   \n",
       "\n",
       "                        Author DOIs found in OpenAlex  DOIs count  \\\n",
       "0   [https://doi.org/10.21037/jtd.2019.01.30, http...          13   \n",
       "1   [https://doi.org/10.1016/s2213-2600(17)30165-0...           5   \n",
       "2   [https://doi.org/10.1186/s12894-015-0118-2, ht...           4   \n",
       "3   [https://doi.org/10.1186/s12880-020-00535-7, h...           8   \n",
       "4   [https://doi.org/10.1007/s11136-021-02861-x, h...           7   \n",
       "5   [https://doi.org/10.3389/fphar.2021.702326, ht...           2   \n",
       "6   [https://doi.org/10.1161/circheartfailure.118....          13   \n",
       "7                                                 NaN           0   \n",
       "8   [https://doi.org/10.1186/s13148-021-01043-3, h...           6   \n",
       "9   [https://doi.org/10.1007/s00330-017-5277-y, ht...           7   \n",
       "10  [https://doi.org/10.1002/glia.23526, https://d...           3   \n",
       "11                                                NaN           0   \n",
       "12                     [https://doi.org/10.33540/696]           1   \n",
       "13  [https://doi.org/10.1016/j.ijcard.2015.03.258,...           5   \n",
       "14  [https://doi.org/10.1007/978-3-030-95388-1_8, ...           3   \n",
       "15                                                NaN           0   \n",
       "16                                                NaN           0   \n",
       "17  [https://doi.org/10.1186/s12916-017-0783-y, ht...           8   \n",
       "18                                                NaN           0   \n",
       "19  [https://doi.org/10.1007/s00590-018-2190-2, ht...           9   \n",
       "\n",
       "    Contributors-DOIs Dictionary  \\\n",
       "0                            NaN   \n",
       "1                            NaN   \n",
       "2                            NaN   \n",
       "3                            NaN   \n",
       "4                            NaN   \n",
       "5                            NaN   \n",
       "6                            NaN   \n",
       "7                            NaN   \n",
       "8                            NaN   \n",
       "9                            NaN   \n",
       "10                           NaN   \n",
       "11                           NaN   \n",
       "12                           NaN   \n",
       "13                           NaN   \n",
       "14                           NaN   \n",
       "15                           NaN   \n",
       "16                           NaN   \n",
       "17                           NaN   \n",
       "18                           NaN   \n",
       "19                           NaN   \n",
       "\n",
       "    Number of contributors with DOIs found in OpenAlex  \\\n",
       "0                                                   0    \n",
       "1                                                   0    \n",
       "2                                                   0    \n",
       "3                                                   0    \n",
       "4                                                   0    \n",
       "5                                                   0    \n",
       "6                                                   0    \n",
       "7                                                   0    \n",
       "8                                                   0    \n",
       "9                                                   0    \n",
       "10                                                  0    \n",
       "11                                                  0    \n",
       "12                                                  0    \n",
       "13                                                  0    \n",
       "14                                                  0    \n",
       "15                                                  0    \n",
       "16                                                  0    \n",
       "17                                                  0    \n",
       "18                                                  0    \n",
       "19                                                  0    \n",
       "\n",
       "    Cumulative found Contributor DOIs count  \\\n",
       "0                                         0   \n",
       "1                                         0   \n",
       "2                                         0   \n",
       "3                                         0   \n",
       "4                                         0   \n",
       "5                                         0   \n",
       "6                                         0   \n",
       "7                                         0   \n",
       "8                                         0   \n",
       "9                                         0   \n",
       "10                                        0   \n",
       "11                                        0   \n",
       "12                                        0   \n",
       "13                                        0   \n",
       "14                                        0   \n",
       "15                                        0   \n",
       "16                                        0   \n",
       "17                                        0   \n",
       "18                                        0   \n",
       "19                                        0   \n",
       "\n",
       "                         Why no DOIs for author  \\\n",
       "0                                           NaN   \n",
       "1                                           NaN   \n",
       "2                                           NaN   \n",
       "3                                           NaN   \n",
       "4                                           NaN   \n",
       "5                                           NaN   \n",
       "6                                           NaN   \n",
       "7   Author (probably) not in Open Alex database   \n",
       "8                                           NaN   \n",
       "9                                           NaN   \n",
       "10                                          NaN   \n",
       "11  Author (probably) not in Open Alex database   \n",
       "12                                          NaN   \n",
       "13                                          NaN   \n",
       "14                                          NaN   \n",
       "15  Author (probably) not in Open Alex database   \n",
       "16  Author (probably) not in Open Alex database   \n",
       "17                                          NaN   \n",
       "18                 No DOIs for the author found   \n",
       "19                                          NaN   \n",
       "\n",
       "                         Why no DOIs for contributors  \n",
       "0   None of the contributors is in Open Alex database  \n",
       "1   None of the contributors is in Open Alex database  \n",
       "2   None of the contributors is in Open Alex database  \n",
       "3   None of the contributors is in Open Alex database  \n",
       "4   None of the contributors is in Open Alex database  \n",
       "5   None of the contributors is in Open Alex database  \n",
       "6   None of the contributors is in Open Alex database  \n",
       "7   None of the contributors is in Open Alex database  \n",
       "8   None of the contributors is in Open Alex database  \n",
       "9   None of the contributors is in Open Alex database  \n",
       "10  None of the contributors is in Open Alex database  \n",
       "11  None of the contributors is in Open Alex database  \n",
       "12  None of the contributors is in Open Alex database  \n",
       "13  None of the contributors is in Open Alex database  \n",
       "14  None of the contributors is in Open Alex database  \n",
       "15  None of the contributors is in Open Alex database  \n",
       "16  None of the contributors is in Open Alex database  \n",
       "17  None of the contributors is in Open Alex database  \n",
       "18  None of the contributors is in Open Alex database  \n",
       "19  None of the contributors is in Open Alex database  "
      ]
     },
     "execution_count": 18,
     "metadata": {},
     "output_type": "execute_result"
    }
   ],
   "source": [
    "dois_df = pd.DataFrame(dois_data)\n",
    "dois_df"
   ]
  },
  {
   "cell_type": "markdown",
   "id": "f2d56f04",
   "metadata": {
    "id": "f2d56f04"
   },
   "source": [
    "## Visualisations & Statistics"
   ]
  },
  {
   "cell_type": "code",
   "execution_count": 19,
   "id": "2964cf22",
   "metadata": {
    "colab": {
     "base_uri": "https://localhost:8080/",
     "height": 507
    },
    "executionInfo": {
     "elapsed": 568,
     "status": "ok",
     "timestamp": 1714352209393,
     "user": {
      "displayName": "Ala Bilińska",
      "userId": "15744202938494964459"
     },
     "user_tz": -120
    },
    "id": "2964cf22",
    "outputId": "ddc165a0-6685-4d98-befc-86ec5e451f19"
   },
   "outputs": [
    {
     "data": {
      "image/png": "[encoded data removed]",
      "text/plain": [
       "<Figure size 576x360 with 1 Axes>"
      ]
     },
     "metadata": {
      "needs_background": "light"
     },
     "output_type": "display_data"
    }
   ],
   "source": [
    "author_doi_counts = dois_df.groupby('Author')['DOIs count'].sum()\n",
    "\n",
    "author_doi_counts = author_doi_counts.sort_values(ascending=False)\n",
    "\n",
    "plt.figure(figsize=(8, 5))\n",
    "author_doi_counts.plot(kind='bar', color='rosybrown')\n",
    "plt.title('Number of DOIs per Author (Sorted) - found in Open Alex')\n",
    "plt.ylabel('Number of DOIs')\n",
    "plt.locator_params(axis='y', integer=True)\n",
    "plt.xticks([])\n",
    "plt.tight_layout()\n",
    "plt.show()"
   ]
  },
  {
   "cell_type": "code",
   "execution_count": 20,
   "id": "6a59872a",
   "metadata": {
    "colab": {
     "base_uri": "https://localhost:8080/",
     "height": 507
    },
    "executionInfo": {
     "elapsed": 590,
     "status": "ok",
     "timestamp": 1714352211044,
     "user": {
      "displayName": "Ala Bilińska",
      "userId": "15744202938494964459"
     },
     "user_tz": -120
    },
    "id": "6a59872a",
    "outputId": "c873c3c7-3897-4aa9-a0cd-249e3e8c662a"
   },
   "outputs": [
    {
     "data": {
      "image/png": "[encoded data removed]",
      "text/plain": [
       "<Figure size 576x360 with 1 Axes>"
      ]
     },
     "metadata": {
      "needs_background": "light"
     },
     "output_type": "display_data"
    }
   ],
   "source": [
    "author_contributors_count = dois_df.groupby('Author')['Number of contributors with DOIs found in OpenAlex'].sum()\n",
    "\n",
    "author_contributors_count = author_contributors_count.sort_values(ascending=False)\n",
    "\n",
    "plt.figure(figsize=(8, 5))\n",
    "author_contributors_count.plot(kind='bar', color='pink')\n",
    "plt.title('Number of Contributors per Author (Sorted) - found in Open Alex')\n",
    "plt.ylabel('Number of Contributors')\n",
    "plt.locator_params(axis='y', integer=True)\n",
    "plt.xticks([])\n",
    "plt.tight_layout()\n",
    "plt.show()"
   ]
  },
  {
   "cell_type": "code",
   "execution_count": 21,
   "id": "8431be45",
   "metadata": {
    "colab": {
     "base_uri": "https://localhost:8080/",
     "height": 507
    },
    "executionInfo": {
     "elapsed": 526,
     "status": "ok",
     "timestamp": 1714352212827,
     "user": {
      "displayName": "Ala Bilińska",
      "userId": "15744202938494964459"
     },
     "user_tz": -120
    },
    "id": "8431be45",
    "outputId": "ced980ab-c0a5-4823-e367-2fbb722705a4"
   },
   "outputs": [
    {
     "data": {
      "image/png": "[encoded data removed]",
      "text/plain": [
       "<Figure size 576x360 with 1 Axes>"
      ]
     },
     "metadata": {
      "needs_background": "light"
     },
     "output_type": "display_data"
    }
   ],
   "source": [
    "author_cumulative_dois_count = dois_df.groupby('Author')['Cumulative found Contributor DOIs count'].sum()\n",
    "\n",
    "author_cumulative_dois_count = author_cumulative_dois_count.sort_values(ascending=False)\n",
    "\n",
    "plt.figure(figsize=(8, 5))\n",
    "author_cumulative_dois_count.plot(kind='bar', color='tan')\n",
    "plt.title('Cumulative Number of Contributor DOIs Count per Author (Sorted)')\n",
    "plt.ylabel('Cumulative Number of DOIs')\n",
    "\n",
    "plt.locator_params(axis='y', integer=True)\n",
    "\n",
    "plt.xticks([])\n",
    "plt.tight_layout()\n",
    "plt.show()"
   ]
  },
  {
   "cell_type": "code",
   "execution_count": 22,
   "id": "8e13618f",
   "metadata": {
    "colab": {
     "base_uri": "https://localhost:8080/",
     "height": 300
    },
    "executionInfo": {
     "elapsed": 3,
     "status": "ok",
     "timestamp": 1714352213289,
     "user": {
      "displayName": "Ala Bilińska",
      "userId": "15744202938494964459"
     },
     "user_tz": -120
    },
    "id": "8e13618f",
    "outputId": "0b3ee9af-1c02-41e4-9963-8ff592a7a13a"
   },
   "outputs": [
    {
     "data": {
      "text/html": [
       "<div>\n",
       "<style scoped>\n",
       "    .dataframe tbody tr th:only-of-type {\n",
       "        vertical-align: middle;\n",
       "    }\n",
       "\n",
       "    .dataframe tbody tr th {\n",
       "        vertical-align: top;\n",
       "    }\n",
       "\n",
       "    .dataframe thead th {\n",
       "        text-align: right;\n",
       "    }\n",
       "</style>\n",
       "<table border=\"1\" class=\"dataframe\">\n",
       "  <thead>\n",
       "    <tr style=\"text-align: right;\">\n",
       "      <th></th>\n",
       "      <th>Statistics</th>\n",
       "      <th>Values</th>\n",
       "    </tr>\n",
       "  </thead>\n",
       "  <tbody>\n",
       "    <tr>\n",
       "      <th>0</th>\n",
       "      <td>Mean DOIs per Author</td>\n",
       "      <td>4.7</td>\n",
       "    </tr>\n",
       "    <tr>\n",
       "      <th>1</th>\n",
       "      <td>Median DOIs per Author</td>\n",
       "      <td>4.5</td>\n",
       "    </tr>\n",
       "    <tr>\n",
       "      <th>2</th>\n",
       "      <td>Mean Found Contributors</td>\n",
       "      <td>0.0</td>\n",
       "    </tr>\n",
       "    <tr>\n",
       "      <th>3</th>\n",
       "      <td>Median Found Contributors</td>\n",
       "      <td>0.0</td>\n",
       "    </tr>\n",
       "    <tr>\n",
       "      <th>4</th>\n",
       "      <td>Mean Cumulative DOIs Count</td>\n",
       "      <td>0.0</td>\n",
       "    </tr>\n",
       "    <tr>\n",
       "      <th>5</th>\n",
       "      <td>Median Cumulative DOIs Count</td>\n",
       "      <td>0.0</td>\n",
       "    </tr>\n",
       "    <tr>\n",
       "      <th>6</th>\n",
       "      <td>NaN Values for Author DOIs</td>\n",
       "      <td>5.0</td>\n",
       "    </tr>\n",
       "    <tr>\n",
       "      <th>7</th>\n",
       "      <td>NaN Values for Contributors DOIs</td>\n",
       "      <td>20.0</td>\n",
       "    </tr>\n",
       "  </tbody>\n",
       "</table>\n",
       "</div>"
      ],
      "text/plain": [
       "                         Statistics  Values\n",
       "0              Mean DOIs per Author     4.7\n",
       "1            Median DOIs per Author     4.5\n",
       "2           Mean Found Contributors     0.0\n",
       "3         Median Found Contributors     0.0\n",
       "4        Mean Cumulative DOIs Count     0.0\n",
       "5      Median Cumulative DOIs Count     0.0\n",
       "6        NaN Values for Author DOIs     5.0\n",
       "7  NaN Values for Contributors DOIs    20.0"
      ]
     },
     "execution_count": 22,
     "metadata": {},
     "output_type": "execute_result"
    }
   ],
   "source": [
    "mean_dois_per_author = dois_df['DOIs count'].mean()\n",
    "median_dois_per_author = dois_df['DOIs count'].median()\n",
    "\n",
    "mean_found_contributors = dois_df['Number of contributors with DOIs found in OpenAlex'].mean()\n",
    "median_found_contributors = dois_df['Number of contributors with DOIs found in OpenAlex'].median()\n",
    "\n",
    "mean_cumulative_dois_count = dois_df['Cumulative found Contributor DOIs count'].mean()\n",
    "median_cumulative_dois_count = dois_df['Cumulative found Contributor DOIs count'].median()\n",
    "\n",
    "nan_author_dois_count = dois_df['Author DOIs found in OpenAlex'].isnull().sum()\n",
    "nan_contributors_dois_count = dois_df['Contributors-DOIs Dictionary'].isnull().sum()\n",
    "\n",
    "summary_data = {\n",
    "    'Statistics': ['Mean DOIs per Author', 'Median DOIs per Author',\n",
    "                   'Mean Found Contributors', 'Median Found Contributors',\n",
    "                   'Mean Cumulative DOIs Count', 'Median Cumulative DOIs Count',\n",
    "                   'NaN Values for Author DOIs', 'NaN Values for Contributors DOIs'],\n",
    "    'Values': [mean_dois_per_author, median_dois_per_author,                           # round if needed\n",
    "               mean_found_contributors, median_found_contributors,\n",
    "               mean_cumulative_dois_count, median_cumulative_dois_count,\n",
    "               nan_author_dois_count, nan_contributors_dois_count]\n",
    "}\n",
    "\n",
    "summary_df = pd.DataFrame(summary_data)\n",
    "\n",
    "summary_df"
   ]
  },
  {
   "cell_type": "code",
   "execution_count": 23,
   "id": "e747c2e5",
   "metadata": {},
   "outputs": [
    {
     "data": {
      "image/png": "[encoded data removed]",
      "text/plain": [
       "<Figure size 792x504 with 1 Axes>"
      ]
     },
     "metadata": {
      "needs_background": "light"
     },
     "output_type": "display_data"
    }
   ],
   "source": [
    "dois_df.fillna('Unknown', inplace=True)\n",
    "\n",
    "unique_messages_column1 = dois_df['Why no DOIs for author'].value_counts()\n",
    "unique_messages_column2 = dois_df['Why no DOIs for contributors'].value_counts()\n",
    "\n",
    "unique_messages_column1 = unique_messages_column1.drop('Unknown', errors='ignore')\n",
    "unique_messages_column2 = unique_messages_column2.drop('Unknown', errors='ignore')\n",
    "\n",
    "plt.figure(figsize=(11, 7))\n",
    "\n",
    "plt.bar(unique_messages_column1.index, unique_messages_column1.values, alpha=0.5, label='Why no DOIs for author', color='lightcoral')\n",
    "plt.bar(unique_messages_column2.index, unique_messages_column2.values, alpha=0.5, label='Why no DOIs for contributors', color='burlywood')\n",
    "\n",
    "plt.ylabel('Count')\n",
    "plt.title('Why DOIs could not be extracted')\n",
    "plt.xticks(rotation=45, ha='right')\n",
    "plt.legend()\n",
    "\n",
    "plt.tight_layout()\n",
    "plt.show()"
   ]
  },
  {
   "cell_type": "markdown",
   "id": "3c6b377e",
   "metadata": {
    "id": "3c6b377e"
   },
   "source": [
    "### Filter for the task at hand"
   ]
  },
  {
   "cell_type": "code",
   "execution_count": 24,
   "id": "812fc443",
   "metadata": {
    "colab": {
     "base_uri": "https://localhost:8080/",
     "height": 428
    },
    "executionInfo": {
     "elapsed": 249,
     "status": "ok",
     "timestamp": 1714352349686,
     "user": {
      "displayName": "Ala Bilińska",
      "userId": "15744202938494964459"
     },
     "user_tz": -120
    },
    "id": "812fc443",
    "outputId": "65c30f37-8914-4b2e-cd88-624bc8ae0135"
   },
   "outputs": [
    {
     "data": {
      "text/html": [
       "<div>\n",
       "<style scoped>\n",
       "    .dataframe tbody tr th:only-of-type {\n",
       "        vertical-align: middle;\n",
       "    }\n",
       "\n",
       "    .dataframe tbody tr th {\n",
       "        vertical-align: top;\n",
       "    }\n",
       "\n",
       "    .dataframe thead th {\n",
       "        text-align: right;\n",
       "    }\n",
       "</style>\n",
       "<table border=\"1\" class=\"dataframe\">\n",
       "  <thead>\n",
       "    <tr style=\"text-align: right;\">\n",
       "      <th></th>\n",
       "      <th>Author</th>\n",
       "      <th>Author DOIs found in OpenAlex</th>\n",
       "      <th>DOIs count</th>\n",
       "      <th>Contributors-DOIs Dictionary</th>\n",
       "      <th>Number of contributors with DOIs found in OpenAlex</th>\n",
       "      <th>Cumulative found Contributor DOIs count</th>\n",
       "    </tr>\n",
       "  </thead>\n",
       "  <tbody>\n",
       "    <tr>\n",
       "      <th>0</th>\n",
       "      <td>Maxime D. Slooter</td>\n",
       "      <td>[https://doi.org/10.21037/jtd.2019.01.30, http...</td>\n",
       "      <td>13</td>\n",
       "      <td>Unknown</td>\n",
       "      <td>0</td>\n",
       "      <td>0</td>\n",
       "    </tr>\n",
       "    <tr>\n",
       "      <th>1</th>\n",
       "      <td>Patricia van Velzen</td>\n",
       "      <td>[https://doi.org/10.1016/s2213-2600(17)30165-0...</td>\n",
       "      <td>5</td>\n",
       "      <td>Unknown</td>\n",
       "      <td>0</td>\n",
       "      <td>0</td>\n",
       "    </tr>\n",
       "    <tr>\n",
       "      <th>2</th>\n",
       "      <td>Teele Kuusk</td>\n",
       "      <td>[https://doi.org/10.1186/s12894-015-0118-2, ht...</td>\n",
       "      <td>4</td>\n",
       "      <td>Unknown</td>\n",
       "      <td>0</td>\n",
       "      <td>0</td>\n",
       "    </tr>\n",
       "    <tr>\n",
       "      <th>3</th>\n",
       "      <td>Floor Groepenhoff</td>\n",
       "      <td>[https://doi.org/10.1186/s12880-020-00535-7, h...</td>\n",
       "      <td>8</td>\n",
       "      <td>Unknown</td>\n",
       "      <td>0</td>\n",
       "      <td>0</td>\n",
       "    </tr>\n",
       "    <tr>\n",
       "      <th>4</th>\n",
       "      <td>Michiel A. J. Luijten</td>\n",
       "      <td>[https://doi.org/10.1007/s11136-021-02861-x, h...</td>\n",
       "      <td>7</td>\n",
       "      <td>Unknown</td>\n",
       "      <td>0</td>\n",
       "      <td>0</td>\n",
       "    </tr>\n",
       "    <tr>\n",
       "      <th>5</th>\n",
       "      <td>Evelyne Jeannette Demkes</td>\n",
       "      <td>[https://doi.org/10.3389/fphar.2021.702326, ht...</td>\n",
       "      <td>2</td>\n",
       "      <td>Unknown</td>\n",
       "      <td>0</td>\n",
       "      <td>0</td>\n",
       "    </tr>\n",
       "    <tr>\n",
       "      <th>6</th>\n",
       "      <td>A. Zweerink</td>\n",
       "      <td>[https://doi.org/10.1161/circheartfailure.118....</td>\n",
       "      <td>13</td>\n",
       "      <td>Unknown</td>\n",
       "      <td>0</td>\n",
       "      <td>0</td>\n",
       "    </tr>\n",
       "    <tr>\n",
       "      <th>7</th>\n",
       "      <td>Casper Thomas Briels</td>\n",
       "      <td>Unknown</td>\n",
       "      <td>0</td>\n",
       "      <td>Unknown</td>\n",
       "      <td>0</td>\n",
       "      <td>0</td>\n",
       "    </tr>\n",
       "    <tr>\n",
       "      <th>8</th>\n",
       "      <td>Jiayi Pei</td>\n",
       "      <td>[https://doi.org/10.1186/s13148-021-01043-3, h...</td>\n",
       "      <td>6</td>\n",
       "      <td>Unknown</td>\n",
       "      <td>0</td>\n",
       "      <td>0</td>\n",
       "    </tr>\n",
       "    <tr>\n",
       "      <th>9</th>\n",
       "      <td>Sander Brinkhof</td>\n",
       "      <td>[https://doi.org/10.1007/s00330-017-5277-y, ht...</td>\n",
       "      <td>7</td>\n",
       "      <td>Unknown</td>\n",
       "      <td>0</td>\n",
       "      <td>0</td>\n",
       "    </tr>\n",
       "    <tr>\n",
       "      <th>10</th>\n",
       "      <td>A. Kamermans</td>\n",
       "      <td>[https://doi.org/10.1002/glia.23526, https://d...</td>\n",
       "      <td>3</td>\n",
       "      <td>Unknown</td>\n",
       "      <td>0</td>\n",
       "      <td>0</td>\n",
       "    </tr>\n",
       "    <tr>\n",
       "      <th>11</th>\n",
       "      <td>Gerdina Agatha Ruigrok</td>\n",
       "      <td>Unknown</td>\n",
       "      <td>0</td>\n",
       "      <td>Unknown</td>\n",
       "      <td>0</td>\n",
       "      <td>0</td>\n",
       "    </tr>\n",
       "    <tr>\n",
       "      <th>12</th>\n",
       "      <td>Marleentje Martha Nieboer</td>\n",
       "      <td>[https://doi.org/10.33540/696]</td>\n",
       "      <td>1</td>\n",
       "      <td>Unknown</td>\n",
       "      <td>0</td>\n",
       "      <td>0</td>\n",
       "    </tr>\n",
       "    <tr>\n",
       "      <th>13</th>\n",
       "      <td>Christian Gerardus Marinus van Dijk</td>\n",
       "      <td>[https://doi.org/10.1016/j.ijcard.2015.03.258,...</td>\n",
       "      <td>5</td>\n",
       "      <td>Unknown</td>\n",
       "      <td>0</td>\n",
       "      <td>0</td>\n",
       "    </tr>\n",
       "    <tr>\n",
       "      <th>14</th>\n",
       "      <td>J. Luo</td>\n",
       "      <td>[https://doi.org/10.1007/978-3-030-95388-1_8, ...</td>\n",
       "      <td>3</td>\n",
       "      <td>Unknown</td>\n",
       "      <td>0</td>\n",
       "      <td>0</td>\n",
       "    </tr>\n",
       "    <tr>\n",
       "      <th>15</th>\n",
       "      <td>Tim Daniël van Balkom</td>\n",
       "      <td>Unknown</td>\n",
       "      <td>0</td>\n",
       "      <td>Unknown</td>\n",
       "      <td>0</td>\n",
       "      <td>0</td>\n",
       "    </tr>\n",
       "    <tr>\n",
       "      <th>16</th>\n",
       "      <td>P.C. Perrin</td>\n",
       "      <td>Unknown</td>\n",
       "      <td>0</td>\n",
       "      <td>Unknown</td>\n",
       "      <td>0</td>\n",
       "      <td>0</td>\n",
       "    </tr>\n",
       "    <tr>\n",
       "      <th>17</th>\n",
       "      <td>Maarten R. Struyvenberg</td>\n",
       "      <td>[https://doi.org/10.1186/s12916-017-0783-y, ht...</td>\n",
       "      <td>8</td>\n",
       "      <td>Unknown</td>\n",
       "      <td>0</td>\n",
       "      <td>0</td>\n",
       "    </tr>\n",
       "    <tr>\n",
       "      <th>18</th>\n",
       "      <td>M. Blom</td>\n",
       "      <td>Unknown</td>\n",
       "      <td>0</td>\n",
       "      <td>Unknown</td>\n",
       "      <td>0</td>\n",
       "      <td>0</td>\n",
       "    </tr>\n",
       "    <tr>\n",
       "      <th>19</th>\n",
       "      <td>Ignas Bernardus Houben</td>\n",
       "      <td>[https://doi.org/10.1007/s00590-018-2190-2, ht...</td>\n",
       "      <td>9</td>\n",
       "      <td>Unknown</td>\n",
       "      <td>0</td>\n",
       "      <td>0</td>\n",
       "    </tr>\n",
       "  </tbody>\n",
       "</table>\n",
       "</div>"
      ],
      "text/plain": [
       "                                 Author  \\\n",
       "0                     Maxime D. Slooter   \n",
       "1                   Patricia van Velzen   \n",
       "2                           Teele Kuusk   \n",
       "3                     Floor Groepenhoff   \n",
       "4                 Michiel A. J. Luijten   \n",
       "5              Evelyne Jeannette Demkes   \n",
       "6                           A. Zweerink   \n",
       "7                  Casper Thomas Briels   \n",
       "8                             Jiayi Pei   \n",
       "9                       Sander Brinkhof   \n",
       "10                         A. Kamermans   \n",
       "11               Gerdina Agatha Ruigrok   \n",
       "12            Marleentje Martha Nieboer   \n",
       "13  Christian Gerardus Marinus van Dijk   \n",
       "14                               J. Luo   \n",
       "15                Tim Daniël van Balkom   \n",
       "16                          P.C. Perrin   \n",
       "17              Maarten R. Struyvenberg   \n",
       "18                              M. Blom   \n",
       "19               Ignas Bernardus Houben   \n",
       "\n",
       "                        Author DOIs found in OpenAlex  DOIs count  \\\n",
       "0   [https://doi.org/10.21037/jtd.2019.01.30, http...          13   \n",
       "1   [https://doi.org/10.1016/s2213-2600(17)30165-0...           5   \n",
       "2   [https://doi.org/10.1186/s12894-015-0118-2, ht...           4   \n",
       "3   [https://doi.org/10.1186/s12880-020-00535-7, h...           8   \n",
       "4   [https://doi.org/10.1007/s11136-021-02861-x, h...           7   \n",
       "5   [https://doi.org/10.3389/fphar.2021.702326, ht...           2   \n",
       "6   [https://doi.org/10.1161/circheartfailure.118....          13   \n",
       "7                                             Unknown           0   \n",
       "8   [https://doi.org/10.1186/s13148-021-01043-3, h...           6   \n",
       "9   [https://doi.org/10.1007/s00330-017-5277-y, ht...           7   \n",
       "10  [https://doi.org/10.1002/glia.23526, https://d...           3   \n",
       "11                                            Unknown           0   \n",
       "12                     [https://doi.org/10.33540/696]           1   \n",
       "13  [https://doi.org/10.1016/j.ijcard.2015.03.258,...           5   \n",
       "14  [https://doi.org/10.1007/978-3-030-95388-1_8, ...           3   \n",
       "15                                            Unknown           0   \n",
       "16                                            Unknown           0   \n",
       "17  [https://doi.org/10.1186/s12916-017-0783-y, ht...           8   \n",
       "18                                            Unknown           0   \n",
       "19  [https://doi.org/10.1007/s00590-018-2190-2, ht...           9   \n",
       "\n",
       "   Contributors-DOIs Dictionary  \\\n",
       "0                       Unknown   \n",
       "1                       Unknown   \n",
       "2                       Unknown   \n",
       "3                       Unknown   \n",
       "4                       Unknown   \n",
       "5                       Unknown   \n",
       "6                       Unknown   \n",
       "7                       Unknown   \n",
       "8                       Unknown   \n",
       "9                       Unknown   \n",
       "10                      Unknown   \n",
       "11                      Unknown   \n",
       "12                      Unknown   \n",
       "13                      Unknown   \n",
       "14                      Unknown   \n",
       "15                      Unknown   \n",
       "16                      Unknown   \n",
       "17                      Unknown   \n",
       "18                      Unknown   \n",
       "19                      Unknown   \n",
       "\n",
       "    Number of contributors with DOIs found in OpenAlex  \\\n",
       "0                                                   0    \n",
       "1                                                   0    \n",
       "2                                                   0    \n",
       "3                                                   0    \n",
       "4                                                   0    \n",
       "5                                                   0    \n",
       "6                                                   0    \n",
       "7                                                   0    \n",
       "8                                                   0    \n",
       "9                                                   0    \n",
       "10                                                  0    \n",
       "11                                                  0    \n",
       "12                                                  0    \n",
       "13                                                  0    \n",
       "14                                                  0    \n",
       "15                                                  0    \n",
       "16                                                  0    \n",
       "17                                                  0    \n",
       "18                                                  0    \n",
       "19                                                  0    \n",
       "\n",
       "    Cumulative found Contributor DOIs count  \n",
       "0                                         0  \n",
       "1                                         0  \n",
       "2                                         0  \n",
       "3                                         0  \n",
       "4                                         0  \n",
       "5                                         0  \n",
       "6                                         0  \n",
       "7                                         0  \n",
       "8                                         0  \n",
       "9                                         0  \n",
       "10                                        0  \n",
       "11                                        0  \n",
       "12                                        0  \n",
       "13                                        0  \n",
       "14                                        0  \n",
       "15                                        0  \n",
       "16                                        0  \n",
       "17                                        0  \n",
       "18                                        0  \n",
       "19                                        0  "
      ]
     },
     "execution_count": 24,
     "metadata": {},
     "output_type": "execute_result"
    }
   ],
   "source": [
    "df_clean = dois_df.iloc[:, :6].dropna()\n",
    "# df_clean.reset_index(drop=True, inplace=True)\n",
    "df_clean"
   ]
  },
  {
   "cell_type": "code",
   "execution_count": 25,
   "id": "49014ae1",
   "metadata": {
    "colab": {
     "base_uri": "https://localhost:8080/",
     "height": 237
    },
    "executionInfo": {
     "elapsed": 4,
     "status": "ok",
     "timestamp": 1714352363099,
     "user": {
      "displayName": "Ala Bilińska",
      "userId": "15744202938494964459"
     },
     "user_tz": -120
    },
    "id": "49014ae1",
    "outputId": "0c037959-3442-424f-cf53-b87cf7d95061"
   },
   "outputs": [
    {
     "data": {
      "text/html": [
       "<div>\n",
       "<style scoped>\n",
       "    .dataframe tbody tr th:only-of-type {\n",
       "        vertical-align: middle;\n",
       "    }\n",
       "\n",
       "    .dataframe tbody tr th {\n",
       "        vertical-align: top;\n",
       "    }\n",
       "\n",
       "    .dataframe thead th {\n",
       "        text-align: right;\n",
       "    }\n",
       "</style>\n",
       "<table border=\"1\" class=\"dataframe\">\n",
       "  <thead>\n",
       "    <tr style=\"text-align: right;\">\n",
       "      <th></th>\n",
       "      <th>Statistics</th>\n",
       "      <th>Values</th>\n",
       "    </tr>\n",
       "  </thead>\n",
       "  <tbody>\n",
       "    <tr>\n",
       "      <th>0</th>\n",
       "      <td>Mean DOIs per Author</td>\n",
       "      <td>4.7</td>\n",
       "    </tr>\n",
       "    <tr>\n",
       "      <th>1</th>\n",
       "      <td>Median DOIs per Author</td>\n",
       "      <td>4.5</td>\n",
       "    </tr>\n",
       "    <tr>\n",
       "      <th>2</th>\n",
       "      <td>Mean Found Contributors</td>\n",
       "      <td>0.0</td>\n",
       "    </tr>\n",
       "    <tr>\n",
       "      <th>3</th>\n",
       "      <td>Median Found Contributors</td>\n",
       "      <td>0.0</td>\n",
       "    </tr>\n",
       "    <tr>\n",
       "      <th>4</th>\n",
       "      <td>Mean Cumulative DOIs Count</td>\n",
       "      <td>0.0</td>\n",
       "    </tr>\n",
       "    <tr>\n",
       "      <th>5</th>\n",
       "      <td>Median Cumulative DOIs Count</td>\n",
       "      <td>0.0</td>\n",
       "    </tr>\n",
       "  </tbody>\n",
       "</table>\n",
       "</div>"
      ],
      "text/plain": [
       "                     Statistics  Values\n",
       "0          Mean DOIs per Author     4.7\n",
       "1        Median DOIs per Author     4.5\n",
       "2       Mean Found Contributors     0.0\n",
       "3     Median Found Contributors     0.0\n",
       "4    Mean Cumulative DOIs Count     0.0\n",
       "5  Median Cumulative DOIs Count     0.0"
      ]
     },
     "execution_count": 25,
     "metadata": {},
     "output_type": "execute_result"
    }
   ],
   "source": [
    "mean_dois_per_author = df_clean['DOIs count'].mean()\n",
    "median_dois_per_author = df_clean['DOIs count'].median()\n",
    "\n",
    "mean_found_contributors = df_clean['Number of contributors with DOIs found in OpenAlex'].mean()\n",
    "median_found_contributors = df_clean['Number of contributors with DOIs found in OpenAlex'].median()\n",
    "\n",
    "mean_cumulative_dois_count = df_clean['Cumulative found Contributor DOIs count'].mean()\n",
    "median_cumulative_dois_count = df_clean['Cumulative found Contributor DOIs count'].median()\n",
    "\n",
    "summary_data = {\n",
    "    'Statistics': ['Mean DOIs per Author', 'Median DOIs per Author',\n",
    "                   'Mean Found Contributors', 'Median Found Contributors',\n",
    "                   'Mean Cumulative DOIs Count', 'Median Cumulative DOIs Count'],\n",
    "    'Values': [mean_dois_per_author, median_dois_per_author,\n",
    "               mean_found_contributors, median_found_contributors,\n",
    "               mean_cumulative_dois_count, median_cumulative_dois_count]\n",
    "}\n",
    "\n",
    "summary_df = pd.DataFrame(summary_data)\n",
    "\n",
    "summary_df"
   ]
  },
  {
   "cell_type": "code",
   "execution_count": 26,
   "id": "af79c60f",
   "metadata": {
    "executionInfo": {
     "elapsed": 229,
     "status": "ok",
     "timestamp": 1714350502720,
     "user": {
      "displayName": "Ala Bilińska",
      "userId": "15744202938494964459"
     },
     "user_tz": -120
    },
    "id": "af79c60f"
   },
   "outputs": [],
   "source": [
    "# df_clean.to_csv('complete_extraction.csv', index=False) # x - nr of rows"
   ]
  }
 ],
 "metadata": {
  "colab": {
   "provenance": [
    {
     "file_id": "1IM4t92dDxS0x-QUFpU3lglWWYjaqrSch",
     "timestamp": 1714352373547
    }
   ]
  },
  "kernelspec": {
   "display_name": "Python 3",
   "language": "python",
   "name": "python3"
  },
  "language_info": {
   "codemirror_mode": {
    "name": "ipython",
    "version": 3
   },
   "file_extension": ".py",
   "mimetype": "text/x-python",
   "name": "python",
   "nbconvert_exporter": "python",
   "pygments_lexer": "ipython3",
   "version": "3.8.8"
  }
 },
 "nbformat": 4,
 "nbformat_minor": 5
}
