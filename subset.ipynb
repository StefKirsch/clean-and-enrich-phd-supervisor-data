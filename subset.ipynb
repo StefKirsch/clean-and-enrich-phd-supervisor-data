{
 "cells": [
  {
   "cell_type": "code",
   "execution_count": null,
   "metadata": {},
   "outputs": [],
   "source": [
    "import pandas as pd\n",
    "import numpy as np\n",
    "import matplotlib.pyplot as plt\n",
    "from datetime import datetime, timedelta"
   ]
  },
  {
   "cell_type": "markdown",
   "metadata": {},
   "source": [
    "Notebook settings"
   ]
  },
  {
   "cell_type": "code",
   "execution_count": null,
   "metadata": {},
   "outputs": [],
   "source": [
    "# Automatically reloads any modules that are imported, \n",
    "# so that any changes made to the module files are reflected # without needing to restart the Jupyter kernel.\n",
    "# load autoreload module\n",
    "%load_ext autoreload\n",
    "# mode 1 reloads only when an import statement is called. For production\n",
    "# mode 2 reloads before execution of every cell\n",
    "%autoreload 2\n",
    "\n",
    "# limit the number of rows that are shown with printing dataframes\n",
    "pd.set_option('display.max_rows', 5)"
   ]
  },
  {
   "cell_type": "code",
   "execution_count": null,
   "metadata": {},
   "outputs": [],
   "source": [
    "df = pd.read_csv(\"data/cleaned/pubs.csv\")"
   ]
  },
  {
   "cell_type": "markdown",
   "metadata": {},
   "source": [
    "### Filter for biomedical institutions"
   ]
  },
  {
   "cell_type": "code",
   "execution_count": null,
   "metadata": {},
   "outputs": [],
   "source": [
    "biomedical = ['amcpub', 'lumc', 'vumc', 'umcu'] \n",
    "subset = df[df['institution'].isin(biomedical)]\n",
    "subset = subset.reset_index(drop=True)"
   ]
  },
  {
   "cell_type": "markdown",
   "metadata": {},
   "source": [
    "### Filter out publications that are older than 5 years"
   ]
  },
  {
   "cell_type": "code",
   "execution_count": null,
   "metadata": {},
   "outputs": [],
   "source": [
    "# pick a reference year for reproducibility\n",
    "reference_year = 2024 # year where the study was conducted/started\n",
    "year_diff = 5 # look up to 5 years back\n",
    "\n",
    "date_n_years_ago = reference_year - year_diff\n",
    "\n",
    "new_df = subset.query('year >= @date_n_years_ago')\n",
    "new_df = new_df.reset_index(drop=True)\n",
    "\n",
    "new_df"
   ]
  },
  {
   "cell_type": "markdown",
   "metadata": {},
   "source": [
    "### Additional cleaning"
   ]
  },
  {
   "cell_type": "code",
   "execution_count": null,
   "metadata": {},
   "outputs": [],
   "source": [
    "for column in new_df.columns:\n",
    "    for index, value in new_df[column].items():\n",
    "        if str(value).startswith(','):\n",
    "            new_df.at[index, column] = np.nan\n",
    "        if str(value).startswith('Surgery'):             # from manual check \n",
    "            new_df.at[index, column] = np.nan"
   ]
  },
  {
   "cell_type": "code",
   "execution_count": null,
   "metadata": {},
   "outputs": [],
   "source": [
    "nan_rows = new_df.iloc[:, 7:17].isnull().all(axis=1)\n",
    "new_df = new_df[~nan_rows]\n",
    "new_df.reset_index(drop=True, inplace=True)\n"
   ]
  },
  {
   "cell_type": "code",
   "execution_count": null,
   "metadata": {},
   "outputs": [],
   "source": [
    "for index, row in new_df.iterrows():\n",
    "    for i in range(1, 10):\n",
    "        current_col = 'contributor_' + str(i)\n",
    "        next_col = 'contributor_' + str(i + 1)\n",
    "        \n",
    "        # Check if current column is NaN and next column is not NaN\n",
    "        if pd.isna(row[current_col]) and not pd.isna(row[next_col]):\n",
    "            print(row)\n",
    "            # Replace current column with next column and set next column to NaN\n",
    "            new_df.at[index, current_col] = row[next_col]\n",
    "            new_df.at[index, next_col] = np.nan"
   ]
  },
  {
   "cell_type": "code",
   "execution_count": null,
   "metadata": {},
   "outputs": [],
   "source": [
    "df = new_df\n",
    "df = df.dropna(subset=['phd_name', 'title', 'contributor_1'])\n",
    "df.reset_index(drop=True, inplace=True)\n",
    "df"
   ]
  },
  {
   "cell_type": "code",
   "execution_count": null,
   "metadata": {},
   "outputs": [],
   "source": [
    "df = df.drop_duplicates(subset=['phd_name'], keep='last')\n",
    "df.reset_index(drop=True, inplace=True)\n",
    "df"
   ]
  },
  {
   "cell_type": "markdown",
   "metadata": {},
   "source": [
    "### Save to CSV - USE IN `Open_Alex_Final.ipynb`"
   ]
  },
  {
   "cell_type": "code",
   "execution_count": null,
   "metadata": {},
   "outputs": [],
   "source": [
    "df.to_csv('data/cleaned/biomedical_data.csv', index=False)"
   ]
  }
 ],
 "metadata": {
  "kernelspec": {
   "display_name": ".venv",
   "language": "python",
   "name": "python3"
  },
  "language_info": {
   "codemirror_mode": {
    "name": "ipython",
    "version": 3
   },
   "file_extension": ".py",
   "mimetype": "text/x-python",
   "name": "python",
   "nbconvert_exporter": "python",
   "pygments_lexer": "ipython3",
   "version": "3.12.3"
  }
 },
 "nbformat": 4,
 "nbformat_minor": 2
}
