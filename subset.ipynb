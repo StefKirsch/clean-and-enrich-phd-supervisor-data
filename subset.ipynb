{
 "cells": [
  {
   "cell_type": "code",
   "execution_count": 16,
   "metadata": {},
   "outputs": [],
   "source": [
    "import pandas as pd\n",
    "import numpy as np\n",
    "import matplotlib.pyplot as plt\n",
    "import seaborn as sns\n",
    "from datetime import datetime, timedelta"
   ]
  },
  {
   "cell_type": "code",
   "execution_count": 20,
   "metadata": {},
   "outputs": [
    {
     "name": "stderr",
     "output_type": "stream",
     "text": [
      "C:\\Users\\20211831\\AppData\\Local\\Temp\\ipykernel_13188\\887412386.py:1: DtypeWarning: Columns (16) have mixed types. Specify dtype option on import or set low_memory=False.\n",
      "  df = pd.read_csv(\"data/cleaned/pubs.csv\")\n"
     ]
    }
   ],
   "source": [
    "df = pd.read_csv(\"data/cleaned/pubs.csv\")"
   ]
  },
  {
   "cell_type": "markdown",
   "metadata": {},
   "source": [
    "### Filter for biomedical institutions"
   ]
  },
  {
   "cell_type": "code",
   "execution_count": 21,
   "metadata": {},
   "outputs": [],
   "source": [
    "biomedical = ['amcpub', 'lumc', 'vumc', 'umcu'] \n",
    "subset = df[df['institution'].isin(biomedical)]\n",
    "subset = subset.reset_index(drop=True)"
   ]
  },
  {
   "cell_type": "markdown",
   "metadata": {},
   "source": [
    "### Datetime format for `year`"
   ]
  },
  {
   "cell_type": "code",
   "execution_count": 22,
   "metadata": {},
   "outputs": [
    {
     "name": "stderr",
     "output_type": "stream",
     "text": [
      "C:\\Users\\20211831\\AppData\\Local\\Temp\\ipykernel_13188\\2122438702.py:3: FutureWarning: Setting an item of incompatible dtype is deprecated and will raise in a future error of pandas. Value '2016-01-01 00:00:00' has dtype incompatible with int64, please explicitly cast to a compatible dtype first.\n",
      "  subset.at[index, 'year'] = datetime.strptime(str(value), '%Y')\n"
     ]
    }
   ],
   "source": [
    "# datetime change, run once\n",
    "for index, value in enumerate(subset['year']):\n",
    "    subset.at[index, 'year'] = datetime.strptime(str(value), '%Y')\n",
    "date_5_years_ago = datetime.now() - timedelta(days=5*365)\n",
    "new_df = subset[subset['year'] >= date_5_years_ago]\n",
    "new_df = new_df.reset_index(drop=True)"
   ]
  },
  {
   "cell_type": "markdown",
   "metadata": {},
   "source": [
    "### Additional cleaning"
   ]
  },
  {
   "cell_type": "code",
   "execution_count": 23,
   "metadata": {},
   "outputs": [],
   "source": [
    "for column in new_df.columns:\n",
    "    for index, value in new_df[column].items():\n",
    "        if str(value).startswith(','):\n",
    "            new_df.at[index, column] = np.nan\n",
    "        if str(value).startswith('Surgery'):             # from manual check \n",
    "            new_df.at[index, column] = np.nan"
   ]
  },
  {
   "cell_type": "code",
   "execution_count": 24,
   "metadata": {},
   "outputs": [],
   "source": [
    "nan_rows = new_df.iloc[:, 7:17].isnull().all(axis=1)\n",
    "new_df = new_df[~nan_rows]\n",
    "new_df.reset_index(drop=True, inplace=True)\n"
   ]
  },
  {
   "cell_type": "code",
   "execution_count": 25,
   "metadata": {},
   "outputs": [
    {
     "name": "stdout",
     "output_type": "stream",
     "text": [
      "integer_id                                                       77423\n",
      "thesis_identifier      https://dspace.library.uu.nl/handle/1874/416508\n",
      "institution                                                       umcu\n",
      "author_name                                       Hol, Janna Aldegonda\n",
      "title                Renal tumors in children and the role of (epi)...\n",
      "year                                               2022-01-01 00:00:00\n",
      "language                                                            en\n",
      "contributor_1                                                      NaN\n",
      "contributor_2                                             Jongmans, M.\n",
      "contributor_3                                                      NaN\n",
      "contributor_4                                                      NaN\n",
      "contributor_5                                                      NaN\n",
      "contributor_6                                                      NaN\n",
      "contributor_7                                                      NaN\n",
      "contributor_8                                                      NaN\n",
      "contributor_9                                                      NaN\n",
      "contributor_10                                                     NaN\n",
      "Name: 1404, dtype: object\n"
     ]
    }
   ],
   "source": [
    "for index, row in new_df.iterrows():\n",
    "    for i in range(1, 10):\n",
    "        current_col = 'contributor_' + str(i)\n",
    "        next_col = 'contributor_' + str(i + 1)\n",
    "        \n",
    "        # Check if current column is NaN and next column is not NaN\n",
    "        if pd.isna(row[current_col]) and not pd.isna(row[next_col]):\n",
    "            print(row)\n",
    "            # Replace current column with next column and set next column to NaN\n",
    "            new_df.at[index, current_col] = row[next_col]\n",
    "            new_df.at[index, next_col] = np.nan"
   ]
  },
  {
   "cell_type": "code",
   "execution_count": 26,
   "metadata": {},
   "outputs": [],
   "source": [
    "df = new_df\n",
    "df = df.dropna(subset=['author_name', 'title', 'contributor_1'])\n",
    "df.reset_index(drop=True, inplace=True)"
   ]
  },
  {
   "cell_type": "code",
   "execution_count": 27,
   "metadata": {},
   "outputs": [],
   "source": [
    "df = df.drop_duplicates(subset=['author_name'], keep='last')\n",
    "df.reset_index(drop=True, inplace=True)"
   ]
  },
  {
   "cell_type": "markdown",
   "metadata": {},
   "source": [
    "### Save to CSV - USE IN `Open_Alex_Final.ipynb`"
   ]
  },
  {
   "cell_type": "code",
   "execution_count": 28,
   "metadata": {},
   "outputs": [],
   "source": [
    "df.to_csv('biomedical_data.csv', index=False)"
   ]
  }
 ],
 "metadata": {
  "kernelspec": {
   "display_name": "env-cleaned-data",
   "language": "python",
   "name": "python3"
  },
  "language_info": {
   "codemirror_mode": {
    "name": "ipython",
    "version": 3
   },
   "file_extension": ".py",
   "mimetype": "text/x-python",
   "name": "python",
   "nbconvert_exporter": "python",
   "pygments_lexer": "ipython3",
   "version": "3.11.7"
  }
 },
 "nbformat": 4,
 "nbformat_minor": 2
}
