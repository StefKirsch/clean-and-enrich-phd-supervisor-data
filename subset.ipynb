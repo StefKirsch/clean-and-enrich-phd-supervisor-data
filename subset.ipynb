{
 "cells": [
  {
   "cell_type": "code",
   "execution_count": null,
   "metadata": {},
   "outputs": [],
   "source": [
    "import pandas as pd\n",
    "import numpy as np"
   ]
  },
  {
   "cell_type": "markdown",
   "metadata": {},
   "source": [
    "Notebook settings"
   ]
  },
  {
   "cell_type": "code",
   "execution_count": null,
   "metadata": {},
   "outputs": [],
   "source": [
    "# Automatically reloads any modules that are imported, \n",
    "# so that any changes made to the module files are reflected # without needing to restart the Jupyter kernel.\n",
    "# load autoreload module\n",
    "%load_ext autoreload\n",
    "# mode 1 reloads only when an import statement is called. For production\n",
    "# mode 2 reloads before execution of every cell\n",
    "%autoreload 2\n",
    "\n",
    "# limit the number of rows that are shown with printing dataframes\n",
    "pd.set_option('display.max_rows', 5)"
   ]
  },
  {
   "cell_type": "code",
   "execution_count": null,
   "metadata": {},
   "outputs": [],
   "source": [
    "df = pd.read_csv(\"data/cleaned/pubs.csv\")"
   ]
  },
  {
   "cell_type": "markdown",
   "metadata": {},
   "source": [
    "### Filter for biomedical institutions of recent years"
   ]
  },
  {
   "cell_type": "code",
   "execution_count": null,
   "metadata": {},
   "outputs": [],
   "source": [
    "df_domain = df.copy()\n",
    "\n",
    "# add domain column after institution columns\n",
    "df_domain.insert(loc=df_domain.columns.get_loc(\"institution\") + 1, column=\"domain\", value=None)\n",
    "\n",
    "df_domain\n",
    "\n",
    "# biomedical institutions\n",
    "biomedical = ['amcpub', 'lumc', 'vumc', 'umcu'] \n",
    "\n",
    "# pick a reference year for reproducibility\n",
    "reference_year = 2024 # year where the study was conducted/started\n",
    "year_diff = 5 # look up to 5 years back\n",
    "\n",
    "date_n_years_ago = reference_year - year_diff\n",
    "\n",
    "df_domain[\"domain\"] = np.where(\n",
    "    (df_domain[\"institution\"].isin(biomedical)) & (df_domain[\"year\"] >= date_n_years_ago),\n",
    "    \"biomedical_recent\",\n",
    "    None\n",
    ")\n",
    "\n",
    "df_domain"
   ]
  },
  {
   "cell_type": "markdown",
   "metadata": {},
   "source": [
    "### Filter out publications that are older than 5 years"
   ]
  },
  {
   "cell_type": "markdown",
   "metadata": {},
   "source": [
    "### Additional cleaning"
   ]
  },
  {
   "cell_type": "code",
   "execution_count": null,
   "metadata": {},
   "outputs": [],
   "source": [
    "df_filter = df_domain.copy()\n",
    "\n",
    "# get rid of contributors that start with comma or \"Surgery\"\n",
    "contributor_columns = df_filter.filter(like=\"contributor_\").columns # Apply the replacement only to the \"contributor_\" columns\n",
    "df_filter[contributor_columns] = df_filter[contributor_columns].replace(\n",
    "    {r'^,.*': np.nan, r'^Surgery.*': np.nan},\n",
    "    regex=True\n",
    ")\n",
    "\n",
    "# Filter out rows where all \"contributor_\" columns are NaN\n",
    "nan_rows = df_filter[contributor_columns].isnull().all(axis=1)\n",
    "df_filter = df_filter[~nan_rows].reset_index(drop=True)\n",
    "\n",
    "# Shift non-NaN values to the left in the contributor columns\n",
    "# i.e. promote contributors until we have an uninterrupted sequence of contributors\n",
    "df_filter[contributor_columns] = df_filter[contributor_columns].apply(\n",
    "   lambda x: pd.Series(x.dropna().tolist() + [np.nan]*(len(x) - x.count())),\n",
    "   axis=1 # apply function per row\n",
    ")\n",
    "\n",
    "df_filter\n"
   ]
  },
  {
   "cell_type": "code",
   "execution_count": null,
   "metadata": {},
   "outputs": [],
   "source": [
    "df_final = df_filter.copy()\n",
    "df_final = df_final.dropna(subset=['phd_name', 'title', 'contributor_1'])\n",
    "\n",
    "df_final = df_final.reset_index(drop=True)\n",
    "\n",
    "df_final"
   ]
  },
  {
   "cell_type": "markdown",
   "metadata": {},
   "source": [
    "### Save to CSV - USE IN `Open_Alex_Final.ipynb`"
   ]
  },
  {
   "cell_type": "code",
   "execution_count": null,
   "metadata": {},
   "outputs": [],
   "source": [
    "df_final.to_csv('data/cleaned/pubs_with_domain.csv', index=False)"
   ]
  }
 ],
 "metadata": {
  "kernelspec": {
   "display_name": ".venv (3.12.3)",
   "language": "python",
   "name": "python3"
  },
  "language_info": {
   "codemirror_mode": {
    "name": "ipython",
    "version": 3
   },
   "file_extension": ".py",
   "mimetype": "text/x-python",
   "name": "python",
   "nbconvert_exporter": "python",
   "pygments_lexer": "ipython3",
   "version": "3.12.3"
  }
 },
 "nbformat": 4,
 "nbformat_minor": 2
}
