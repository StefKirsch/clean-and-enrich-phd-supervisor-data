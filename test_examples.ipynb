{
 "cells": [
  {
   "cell_type": "markdown",
   "metadata": {},
   "source": [
    "# Test some examples for extraction"
   ]
  },
  {
   "cell_type": "code",
   "execution_count": null,
   "metadata": {},
   "outputs": [],
   "source": [
    "import pandas as pd\n",
    "from src.open_alex_helpers import AuthorRelations, find_phd_and_supervisors_in_row, get_supervisors_openalex_ids"
   ]
  },
  {
   "cell_type": "markdown",
   "metadata": {},
   "source": [
    "## Illegal title"
   ]
  },
  {
   "cell_type": "code",
   "execution_count": null,
   "metadata": {},
   "outputs": [],
   "source": [
    "# Get necessary fields\n",
    "phd_name = \"Buursma, Albert\"\n",
    "title = \"Something completely different\" # fake title\n",
    "#title = \"Dese bekommerlijke tijden: armenzorg, armen en armoede in de stad Groningen 1594-1795\"\n",
    "#year = int(0) # fake year\n",
    "year = int(2009) # actual year\n",
    "institution = \"University of Groningen\"\n",
    "contributors = [None] * 11\n",
    "\n",
    "# Create an instance of AuthorRelations with desired verbosity ('NONE', 'MEDIUM', 'DETAILED')\n",
    "years_tolerance = -1  # years tolerance\n",
    "author_relations = AuthorRelations(\n",
    "    phd_name=phd_name,\n",
    "    title=title,\n",
    "    year=year,\n",
    "    institution=institution,\n",
    "    contributors=contributors,\n",
    "    years_tolerance=years_tolerance,\n",
    "    verbosity='DEBUG'\n",
    ")\n",
    "\n",
    "# Search for the PhD candidate using both criteria\n",
    "author_relations.search_phd_candidate(criteria='either')\n",
    "\n",
    "# Find potential supervisors among the contributors\n",
    "author_relations.collect_supervision_metadata()\n",
    "\n",
    "# Get the OpenAlex ID pairs\n",
    "results = author_relations.get_results()\n",
    "print(results)"
   ]
  }
 ],
 "metadata": {
  "kernelspec": {
   "display_name": ".venv",
   "language": "python",
   "name": "python3"
  },
  "language_info": {
   "codemirror_mode": {
    "name": "ipython",
    "version": 3
   },
   "file_extension": ".py",
   "mimetype": "text/x-python",
   "name": "python",
   "nbconvert_exporter": "python",
   "pygments_lexer": "ipython3",
   "version": "3.12.3"
  }
 },
 "nbformat": 4,
 "nbformat_minor": 2
}
