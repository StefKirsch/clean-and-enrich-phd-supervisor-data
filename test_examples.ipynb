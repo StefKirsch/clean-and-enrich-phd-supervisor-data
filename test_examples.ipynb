{
 "cells": [
  {
   "cell_type": "markdown",
   "metadata": {},
   "source": [
    "# Test some examples for extraction"
   ]
  },
  {
   "cell_type": "code",
   "execution_count": null,
   "metadata": {},
   "outputs": [],
   "source": [
    "from src.open_alex_helpers import AuthorRelations, AuthorsWithRetry, WorksWithRetry, find_phd_and_supervisors_in_row, get_supervisors_openalex_ids\n",
    "\n",
    "from pyalex import Authors, Works\n",
    "from src.io_helpers import remove_commas"
   ]
  },
  {
   "cell_type": "code",
   "execution_count": null,
   "metadata": {},
   "outputs": [],
   "source": [
    "# Automatically reloads any modules that are imported, \n",
    "# so that any changes made to the module files are reflected # without needing to restart the Jupyter kernel.\n",
    "# load autoreload module\n",
    "%load_ext autoreload\n",
    "# mode 1 reloads only when an import statement is called. For production\n",
    "# mode 2 reloads before execution of every cell\n",
    "%autoreload 2"
   ]
  },
  {
   "cell_type": "markdown",
   "metadata": {},
   "source": [
    "## Verify that the Classes AuthorWithRetries and WorksWithRetry behave the same as the original Authors and Works pyalex classes"
   ]
  },
  {
   "cell_type": "code",
   "execution_count": null,
   "metadata": {},
   "outputs": [],
   "source": [
    "candidates_with_retry = AuthorsWithRetry().search(\"John Doe\").get()\n",
    "\n",
    "candidates = Authors().search(\"John Doe\").get()\n",
    "\n",
    "# Check if the results are the same\n",
    "if [dict(c) for c in candidates_with_retry] == [dict(c) for c in candidates]:\n",
    "    print(\"Both results match at the data level.\")\n",
    "else:\n",
    "    print(\"The results differ.\")"
   ]
  },
  {
   "cell_type": "code",
   "execution_count": null,
   "metadata": {},
   "outputs": [],
   "source": [
    "works_with_retry = WorksWithRetry().filter(author={\"id\": \"https://openalex.org/A1234\"}).get()\n",
    "\n",
    "works = Works().filter(author={\"id\": \"https://openalex.org/A1234\"}).get()\n",
    "\n",
    "# Check if the results are the same \n",
    "if [dict(w) for w in works_with_retry] == [dict(w) for w in works]:\n",
    "    print(\"Both results at the data level.\")\n",
    "else:\n",
    "    print(\"The results differ.\")"
   ]
  },
  {
   "cell_type": "markdown",
   "metadata": {},
   "source": [
    "## Illegal title"
   ]
  },
  {
   "cell_type": "code",
   "execution_count": null,
   "metadata": {},
   "outputs": [],
   "source": [
    "# Get necessary fields\n",
    "phd_name = \"Pandu Permana, R.\"\n",
    "#title = \"Something completely different\" # fake title\n",
    "title = \"Economic development environmental stress and sustainability in Indonesia. A case study on community transformation and local resource use in Berau East Kalimantan\"\n",
    "#year = int(0) # fake year\n",
    "year = int(2009) # actual year\n",
    "institution = \"University of Groningen\"\n",
    "contributors = [None] * 11\n",
    "\n",
    "# Create an instance of AuthorRelations with desired verbosity ('NONE', 'MEDIUM', 'DETAILED')\n",
    "years_tolerance = -1  # years tolerance\n",
    "author_relations = AuthorRelations(\n",
    "    phd_name=phd_name,\n",
    "    title=title,\n",
    "    year=year,\n",
    "    institution=institution,\n",
    "    contributors=contributors,\n",
    "    years_tolerance=years_tolerance,\n",
    "    verbosity='DEBUG'\n",
    ")\n",
    "\n",
    "# Search for the PhD candidate using both criteria\n",
    "author_relations.search_phd_candidate(criteria='either')\n",
    "\n",
    "# Find potential supervisors among the contributors\n",
    "author_relations.collect_supervision_metadata()\n",
    "\n",
    "# Get the OpenAlex ID pairs\n",
    "results = author_relations.get_results()\n",
    "print(results)"
   ]
  },
  {
   "cell_type": "code",
   "execution_count": null,
   "metadata": {},
   "outputs": [],
   "source": [
    "# Real title with commas and other special characters\n",
    "title = \"'Dese bekommerlijke tijden': armenzorg, armen en armoede in de stad Groningen 1594-1795\"\n",
    "\n",
    "title_clean = remove_commas(title)\n",
    "\n",
    "print(title_clean)\n",
    "\n",
    "results = WorksWithRetry().search_filter(title=title_clean).get()\n",
    "\n",
    "results"
   ]
  }
 ],
 "metadata": {
  "kernelspec": {
   "display_name": ".venv",
   "language": "python",
   "name": "python3"
  },
  "language_info": {
   "codemirror_mode": {
    "name": "ipython",
    "version": 3
   },
   "file_extension": ".py",
   "mimetype": "text/x-python",
   "name": "python",
   "nbconvert_exporter": "python",
   "pygments_lexer": "ipython3",
   "version": "3.12.3"
  }
 },
 "nbformat": 4,
 "nbformat_minor": 2
}
