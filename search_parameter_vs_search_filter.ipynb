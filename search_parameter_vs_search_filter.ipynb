{
 "cells": [
  {
   "cell_type": "markdown",
   "metadata": {},
   "source": [
    "## Check if we can look up alternatives of author's diplay names\n",
    "\n",
    "Open Alex offers both the [search parameter](https://docs.openalex.org/api-entities/authors/search-authors) and the [search filter](https://docs.openalex.org/how-to-use-the-api/get-lists-of-entities/filter-entity-lists) for this. Pyalex supports both, but the search parameter is not really documentented in their [documentation](https://pypi.org/project/pyalex/#description).\n",
    "\n",
    "According to Open Alex, both variants should essentially do the same, so let's test it.\n",
    "\n",
    "First, let's define a couple of variants on how to spell his name."
   ]
  },
  {
   "cell_type": "code",
   "execution_count": null,
   "metadata": {},
   "outputs": [],
   "source": [
    "from pyalex import Authors, Works\n",
    "\n",
    "display_name = \"Carl Sagan\"\n",
    "alternative_display_name = \"Carl Edward Sagan\"\n",
    "lowercase_display_name = display_name.lower()\n",
    "lowercase_alternative_display_name = alternative_display_name.lower()"
   ]
  },
  {
   "cell_type": "markdown",
   "metadata": {},
   "source": [
    "We can see that the `display_name` is the default, where as the `alternative_display_name` is one alternative spelling for him."
   ]
  },
  {
   "cell_type": "code",
   "execution_count": null,
   "metadata": {},
   "outputs": [],
   "source": [
    "print(Authors().search_filter(display_name=display_name).get()[0]['id'])\n",
    "print(Authors().search_filter(display_name=display_name).get()[0]['display_name'])\n",
    "print(Authors().search_filter(display_name=display_name).get()[0]['display_name_alternatives'])"
   ]
  },
  {
   "cell_type": "markdown",
   "metadata": {},
   "source": [
    "However, if we search search for the alternative name with `search_filter()`, we get a different author!"
   ]
  },
  {
   "cell_type": "code",
   "execution_count": null,
   "metadata": {},
   "outputs": [],
   "source": [
    "print(Authors().search_filter(display_name=alternative_display_name).get()[0]['id'])\n",
    "print(Authors().search_filter(display_name=alternative_display_name).get()[0]['display_name'])\n",
    "print(Authors().search_filter(display_name=alternative_display_name).get()[0]['display_name_alternatives'])"
   ]
  },
  {
   "cell_type": "markdown",
   "metadata": {},
   "source": [
    "`search_filter()` does not seemt to be case-sensitve though!"
   ]
  },
  {
   "cell_type": "code",
   "execution_count": null,
   "metadata": {},
   "outputs": [],
   "source": [
    "print(Authors().search_filter(display_name=lowercase_display_name).get()[0]['id'])\n",
    "print(Authors().search_filter(display_name=lowercase_display_name).get()[0]['display_name'])\n",
    "print(Authors().search_filter(display_name=lowercase_display_name).get()[0]['display_name_alternatives'])"
   ]
  },
  {
   "cell_type": "markdown",
   "metadata": {},
   "source": [
    "However, with the search parameter, we can search for an alternative display name as expected and documented.\n"
   ]
  },
  {
   "cell_type": "code",
   "execution_count": null,
   "metadata": {},
   "outputs": [],
   "source": [
    "print(f\"Searching for {display_name}\")\n",
    "print(Authors().search(display_name).get()[0]['id'])\n",
    "print(Authors().search(display_name).get()[0]['display_name'])\n",
    "print(Authors().search(display_name).get()[0]['display_name_alternatives'])\n",
    "\n",
    "print(\"\")\n",
    "\n",
    "print(f\"Searching for {alternative_display_name}\")\n",
    "print(Authors().search(alternative_display_name).get()[0]['id'])\n",
    "print(Authors().search(alternative_display_name).get()[0]['display_name'])\n",
    "print(Authors().search(alternative_display_name).get()[0]['display_name_alternatives'])"
   ]
  },
  {
   "cell_type": "markdown",
   "metadata": {},
   "source": [
    "`search()` is also not case-sensitive, which is nice!"
   ]
  },
  {
   "cell_type": "code",
   "execution_count": null,
   "metadata": {},
   "outputs": [],
   "source": [
    "print(f\"Searching for {lowercase_display_name}\")\n",
    "print(Authors().search(lowercase_display_name).get()[0]['id'])\n",
    "print(Authors().search(lowercase_display_name).get()[0]['display_name'])\n",
    "print(Authors().search(lowercase_display_name).get()[0]['display_name_alternatives'])\n",
    "\n",
    "print(\"\")\n",
    "\n",
    "print(f\"Searching for {lowercase_alternative_display_name}\")\n",
    "print(Authors().search(lowercase_alternative_display_name).get()[0]['id'])\n",
    "print(Authors().search(lowercase_alternative_display_name).get()[0]['display_name'])\n",
    "print(Authors().search(lowercase_alternative_display_name).get()[0]['display_name_alternatives'])"
   ]
  },
  {
   "cell_type": "markdown",
   "metadata": {},
   "source": [
    "Let's double check for an author that we determined at random."
   ]
  },
  {
   "cell_type": "code",
   "execution_count": null,
   "metadata": {},
   "outputs": [],
   "source": [
    "print(Authors()[\"A5086799468'\"]['display_name']) # 'Olga VIZITIU'\n",
    "print(Authors()[\"A5086799468'\"]['display_name_alternatives']) # 'Olga VIZITIU'"
   ]
  },
  {
   "cell_type": "code",
   "execution_count": null,
   "metadata": {},
   "outputs": [],
   "source": [
    "print(f\"Searching for Olga VIZITIU\")\n",
    "print(Authors().search('Olga VIZITIU').get()[0]['id'])\n",
    "print(Authors().search('Olga VIZITIU').get()[0]['display_name'])\n",
    "print(Authors().search('Olga VIZITIU').get()[0]['display_name_alternatives'])\n",
    "\n",
    "print(\"\")\n",
    "\n",
    "print(f\"Searching for Gaţe, O.P.\")\n",
    "print(Authors().search(\"Gaţe, O.P.\").get()[0]['id'])\n",
    "print(Authors().search(\"Gaţe, O.P.\").get()[0]['display_name'])\n",
    "print(Authors().search(\"Gaţe, O.P.\").get()[0]['display_name_alternatives'])"
   ]
  }
 ],
 "metadata": {
  "kernelspec": {
   "display_name": ".venv",
   "language": "python",
   "name": "python3"
  },
  "language_info": {
   "codemirror_mode": {
    "name": "ipython",
    "version": 3
   },
   "file_extension": ".py",
   "mimetype": "text/x-python",
   "name": "python",
   "nbconvert_exporter": "python",
   "pygments_lexer": "ipython3",
   "version": "3.12.3"
  }
 },
 "nbformat": 4,
 "nbformat_minor": 2
}
